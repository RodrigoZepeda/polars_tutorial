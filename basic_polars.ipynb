{
 "cells": [
  {
   "cell_type": "markdown",
   "metadata": {},
   "source": [
    "---\n",
    "title: \"Polars crashcourse (basic polars)\"\n",
    "date: \"08/10/2023\"\n",
    "author: \n",
    "    name: \"Rodrigo Zepeda-Tello\"\n",
    "title-block-banner: true\n",
    "toc: true\n",
    "number-sections: true\n",
    "format: \n",
    "  html:\n",
    "    fontsize: 1.1em\n",
    "    code-fold: false\n",
    "    code-tools: true\n",
    "    page-layout: full\n",
    "    body-width: 1200px\n",
    "jupyter: python3\n",
    "---"
   ]
  },
  {
   "cell_type": "markdown",
   "metadata": {
    "collapsed": false,
    "jupyter": {
     "outputs_hidden": false
    }
   },
   "source": [
    "# Why polars?\n",
    "\n",
    "There are three characteristics which, from my perspective, make `polars` a pretty cool library:\n",
    "\n",
    "1. **Allows for data larger than RAM**: It helps manipulate datasets that are larger than `RAM` memory. This means that you can manipulate any data as long as it fits your hard-drive.\n",
    "\n",
    "2. **Fast** A [quick comparison of `polars` vs `pandas`](https://www.datacamp.com/tutorial/high-performance-data-manipulation-in-python-pandas2-vs-polars) shows that `polars` is faster from [2x up to 46x times faster than `pandas`](https://www.pola.rs/benchmarks.html).\n",
    "\n",
    "   a. One of the key reasons polars is faster is that it allows for `parallel` computation out-of-the -box.\n",
    "   \n",
    "   b. `Polars` allows the user to perform `lazy` evaluations (to be explained later) and thus optimizes queries.\n",
    "\n",
    "You can get more info about `polars` [at their website](https://www.pola.rs/). \n"
   ]
  },
  {
   "cell_type": "markdown",
   "metadata": {},
   "source": [
    "# Preparing for the tutorial\n",
    "\n",
    "## Installation \n",
    "\n",
    "### From pip\n",
    "\n",
    "If you are using `pip` you can install via: \n",
    "```bash\n",
    "pip install polars[all]\n",
    "```\n",
    "\n",
    "### From conda\n",
    "\n",
    "If you are using `conda`, first activate your environment and then:\n",
    "```bash\n",
    "conda install -c conda-forge -y polars numpy pyarrow xlsx2csv pandas\n",
    "```\n",
    "\n",
    "If you are using Windows you might also need to install the `timezone` package.\n"
   ]
  },
  {
   "cell_type": "markdown",
   "metadata": {},
   "source": [
    "## Data\n",
    "\n",
    "For the purpose of the tutorial I'm using three different databases.\n",
    "\n",
    "1. **covidmx.parquet** Mexico's COVID-19 cases open dataset. This database contains millions of registries that cannot be processed in using RAM memory only. The original data has been downloaded from [Mexico's Health Ministry](https://www.gob.mx/salud/documentos/datos-abiertos-152127). However, for the purpose of this tutorial I've already pre-formatted the data from the ministry.\n",
    "\n",
    "2. **inegi_population.csv** Mexico's population by state, municipality and locality according to 2020's census. Data comes from Mexico's Institute of Statistics and Geography (INEGI). \n",
    "\n",
    "3. **penguins.csv** The classical [`palmerpenguins`](https://allisonhorst.github.io/palmerpenguins/) dataset. Contains information of penguins in Antartida collected from the Palmer Station. \n",
    "\n",
    "::: {.callout-important title=\"Data\"}\n",
    "Download the data from the [Open Science Framework](https://www.doi.org/10.17605/OSF.IO/B5U7K) and save it into your working directory.\n",
    ":::\n",
    "\n"
   ]
  },
  {
   "cell_type": "markdown",
   "metadata": {},
   "source": [
    "## Additional modules\n",
    "\n",
    "Some of the modules we are using for this tutorial are:\n",
    "\n",
    "1. **os** For setting file paths, directories and other operating-system dependent functions. \n",
    "2. **polars** Basic for the tutorial!\n",
    "3. **pandas** To transform the data so that the jupyter notebook and the seaborn plots can use them\n",
    "4. **seaborn** For creating nice plots.\n"
   ]
  },
  {
   "cell_type": "code",
   "execution_count": 1,
   "metadata": {},
   "outputs": [],
   "source": [
    "## Loading modules\n",
    "import os\n",
    "import polars as pl\n",
    "import pandas as pd\n",
    "import seaborn as sns"
   ]
  },
  {
   "cell_type": "markdown",
   "metadata": {
    "collapsed": false,
    "jupyter": {
     "outputs_hidden": false
    }
   },
   "source": [
    "# Reading data\n",
    "\n",
    "## Basic reading\n",
    "\n",
    "Data can be read from `csv` files (`read_csv`), `parquet` files[^1] (`read_parquet`), `Excel` files (`read_excel`) and databases from other sources such as `SQL` (`read_database`) and Delta Lakes (`read_delta`). See [the documentation](https://pola-rs.github.io/polars/py-polars/html/reference/io.html) for more database-input options. \n",
    "\n",
    "[^1]: Text files optimized for columnar data\n",
    "\n",
    "One can read the penguins `csv` file:\n"
   ]
  },
  {
   "cell_type": "code",
   "execution_count": 32,
   "metadata": {},
   "outputs": [],
   "source": [
    "penguins = pl.read_csv(\"penguins.csv\", null_values = \"NA\") #Missing values in the csv are represented as \"NA\""
   ]
  },
  {
   "cell_type": "markdown",
   "metadata": {},
   "source": [
    "A quick description of the variables can be obtained with `glimpse`:"
   ]
  },
  {
   "cell_type": "code",
   "execution_count": 33,
   "metadata": {},
   "outputs": [
    {
     "name": "stdout",
     "output_type": "stream",
     "text": [
      "Rows: 344\n",
      "Columns: 8\n",
      "$ species           <str> Adelie, Adelie, Adelie, Adelie, Adelie, Adelie, Adelie, Adelie, Adelie, Adelie\n",
      "$ island            <str> Torgersen, Torgersen, Torgersen, Torgersen, Torgersen, Torgersen, Torgersen, Torgersen, Torgersen, Torgersen\n",
      "$ bill_length_mm    <f64> 39.1, 39.5, 40.3, None, 36.7, 39.3, 38.9, 39.2, 34.1, 42.0\n",
      "$ bill_depth_mm     <f64> 18.7, 17.4, 18.0, None, 19.3, 20.6, 17.8, 19.6, 18.1, 20.2\n",
      "$ flipper_length_mm <i64> 181, 186, 195, None, 193, 190, 181, 195, 193, 190\n",
      "$ body_mass_g       <i64> 3750, 3800, 3250, None, 3450, 3650, 3625, 4675, 3475, 4250\n",
      "$ sex               <str> male, female, female, None, female, male, female, male, None, None\n",
      "$ year              <i64> 2007, 2007, 2007, 2007, 2007, 2007, 2007, 2007, 2007, 2007\n",
      "\n"
     ]
    }
   ],
   "source": [
    "penguins.glimpse()"
   ]
  },
  {
   "cell_type": "markdown",
   "metadata": {},
   "source": [
    "One can obtain descriptors for the number of rows and number of columns with the `shape` attribute:"
   ]
  },
  {
   "cell_type": "code",
   "execution_count": 4,
   "metadata": {},
   "outputs": [
    {
     "data": {
      "text/plain": [
       "(344, 8)"
      ]
     },
     "execution_count": 4,
     "metadata": {},
     "output_type": "execute_result"
    }
   ],
   "source": [
    "penguins.shape"
   ]
  },
  {
   "cell_type": "markdown",
   "metadata": {},
   "source": [
    "Equivalent attributes are the `width` (number of columns) and `height` (number of rows)"
   ]
  },
  {
   "cell_type": "code",
   "execution_count": 5,
   "metadata": {},
   "outputs": [
    {
     "name": "stdout",
     "output_type": "stream",
     "text": [
      "There are 8 columns,\n",
      "and 344 rows.\n"
     ]
    }
   ],
   "source": [
    "print(\"There are %d columns,\" % penguins.width)\n",
    "print(\"and %d rows.\" % penguins.height)"
   ]
  },
  {
   "cell_type": "markdown",
   "metadata": {},
   "source": [
    "One can also take a look at the first `n=7` rows with `head`:"
   ]
  },
  {
   "cell_type": "code",
   "execution_count": 6,
   "metadata": {},
   "outputs": [
    {
     "data": {
      "text/html": [
       "<div><style>\n",
       ".dataframe > thead > tr > th,\n",
       ".dataframe > tbody > tr > td {\n",
       "  text-align: right;\n",
       "}\n",
       "</style>\n",
       "<small>shape: (7, 8)</small><table border=\"1\" class=\"dataframe\"><thead><tr><th>species</th><th>island</th><th>bill_length_mm</th><th>bill_depth_mm</th><th>flipper_length_mm</th><th>body_mass_g</th><th>sex</th><th>year</th></tr><tr><td>str</td><td>str</td><td>str</td><td>str</td><td>str</td><td>str</td><td>str</td><td>i64</td></tr></thead><tbody><tr><td>&quot;Adelie&quot;</td><td>&quot;Torgersen&quot;</td><td>&quot;39.1&quot;</td><td>&quot;18.7&quot;</td><td>&quot;181&quot;</td><td>&quot;3750&quot;</td><td>&quot;male&quot;</td><td>2007</td></tr><tr><td>&quot;Adelie&quot;</td><td>&quot;Torgersen&quot;</td><td>&quot;39.5&quot;</td><td>&quot;17.4&quot;</td><td>&quot;186&quot;</td><td>&quot;3800&quot;</td><td>&quot;female&quot;</td><td>2007</td></tr><tr><td>&quot;Adelie&quot;</td><td>&quot;Torgersen&quot;</td><td>&quot;40.3&quot;</td><td>&quot;18&quot;</td><td>&quot;195&quot;</td><td>&quot;3250&quot;</td><td>&quot;female&quot;</td><td>2007</td></tr><tr><td>&quot;Adelie&quot;</td><td>&quot;Torgersen&quot;</td><td>&quot;NA&quot;</td><td>&quot;NA&quot;</td><td>&quot;NA&quot;</td><td>&quot;NA&quot;</td><td>&quot;NA&quot;</td><td>2007</td></tr><tr><td>&quot;Adelie&quot;</td><td>&quot;Torgersen&quot;</td><td>&quot;36.7&quot;</td><td>&quot;19.3&quot;</td><td>&quot;193&quot;</td><td>&quot;3450&quot;</td><td>&quot;female&quot;</td><td>2007</td></tr><tr><td>&quot;Adelie&quot;</td><td>&quot;Torgersen&quot;</td><td>&quot;39.3&quot;</td><td>&quot;20.6&quot;</td><td>&quot;190&quot;</td><td>&quot;3650&quot;</td><td>&quot;male&quot;</td><td>2007</td></tr><tr><td>&quot;Adelie&quot;</td><td>&quot;Torgersen&quot;</td><td>&quot;38.9&quot;</td><td>&quot;17.8&quot;</td><td>&quot;181&quot;</td><td>&quot;3625&quot;</td><td>&quot;female&quot;</td><td>2007</td></tr></tbody></table></div>"
      ],
      "text/plain": [
       "shape: (7, 8)\n",
       "┌─────────┬───────────┬───────────────┬───────────────┬──────────────┬─────────────┬────────┬──────┐\n",
       "│ species ┆ island    ┆ bill_length_m ┆ bill_depth_mm ┆ flipper_leng ┆ body_mass_g ┆ sex    ┆ year │\n",
       "│ ---     ┆ ---       ┆ m             ┆ ---           ┆ th_mm        ┆ ---         ┆ ---    ┆ ---  │\n",
       "│ str     ┆ str       ┆ ---           ┆ str           ┆ ---          ┆ str         ┆ str    ┆ i64  │\n",
       "│         ┆           ┆ str           ┆               ┆ str          ┆             ┆        ┆      │\n",
       "╞═════════╪═══════════╪═══════════════╪═══════════════╪══════════════╪═════════════╪════════╪══════╡\n",
       "│ Adelie  ┆ Torgersen ┆ 39.1          ┆ 18.7          ┆ 181          ┆ 3750        ┆ male   ┆ 2007 │\n",
       "│ Adelie  ┆ Torgersen ┆ 39.5          ┆ 17.4          ┆ 186          ┆ 3800        ┆ female ┆ 2007 │\n",
       "│ Adelie  ┆ Torgersen ┆ 40.3          ┆ 18            ┆ 195          ┆ 3250        ┆ female ┆ 2007 │\n",
       "│ Adelie  ┆ Torgersen ┆ NA            ┆ NA            ┆ NA           ┆ NA          ┆ NA     ┆ 2007 │\n",
       "│ Adelie  ┆ Torgersen ┆ 36.7          ┆ 19.3          ┆ 193          ┆ 3450        ┆ female ┆ 2007 │\n",
       "│ Adelie  ┆ Torgersen ┆ 39.3          ┆ 20.6          ┆ 190          ┆ 3650        ┆ male   ┆ 2007 │\n",
       "│ Adelie  ┆ Torgersen ┆ 38.9          ┆ 17.8          ┆ 181          ┆ 3625        ┆ female ┆ 2007 │\n",
       "└─────────┴───────────┴───────────────┴───────────────┴──────────────┴─────────────┴────────┴──────┘"
      ]
     },
     "execution_count": 6,
     "metadata": {},
     "output_type": "execute_result"
    }
   ],
   "source": [
    "penguins.head(n=7)"
   ]
  },
  {
   "cell_type": "markdown",
   "metadata": {},
   "source": [
    "The last `n=3` rows of the dataset can be displayed with `tail`:"
   ]
  },
  {
   "cell_type": "code",
   "execution_count": 7,
   "metadata": {},
   "outputs": [
    {
     "data": {
      "text/html": [
       "<div><style>\n",
       ".dataframe > thead > tr > th,\n",
       ".dataframe > tbody > tr > td {\n",
       "  text-align: right;\n",
       "}\n",
       "</style>\n",
       "<small>shape: (3, 8)</small><table border=\"1\" class=\"dataframe\"><thead><tr><th>species</th><th>island</th><th>bill_length_mm</th><th>bill_depth_mm</th><th>flipper_length_mm</th><th>body_mass_g</th><th>sex</th><th>year</th></tr><tr><td>str</td><td>str</td><td>str</td><td>str</td><td>str</td><td>str</td><td>str</td><td>i64</td></tr></thead><tbody><tr><td>&quot;Chinstrap&quot;</td><td>&quot;Dream&quot;</td><td>&quot;49.6&quot;</td><td>&quot;18.2&quot;</td><td>&quot;193&quot;</td><td>&quot;3775&quot;</td><td>&quot;male&quot;</td><td>2009</td></tr><tr><td>&quot;Chinstrap&quot;</td><td>&quot;Dream&quot;</td><td>&quot;50.8&quot;</td><td>&quot;19&quot;</td><td>&quot;210&quot;</td><td>&quot;4100&quot;</td><td>&quot;male&quot;</td><td>2009</td></tr><tr><td>&quot;Chinstrap&quot;</td><td>&quot;Dream&quot;</td><td>&quot;50.2&quot;</td><td>&quot;18.7&quot;</td><td>&quot;198&quot;</td><td>&quot;3775&quot;</td><td>&quot;female&quot;</td><td>2009</td></tr></tbody></table></div>"
      ],
      "text/plain": [
       "shape: (3, 8)\n",
       "┌───────────┬────────┬───────────────┬───────────────┬───────────────┬─────────────┬────────┬──────┐\n",
       "│ species   ┆ island ┆ bill_length_m ┆ bill_depth_mm ┆ flipper_lengt ┆ body_mass_g ┆ sex    ┆ year │\n",
       "│ ---       ┆ ---    ┆ m             ┆ ---           ┆ h_mm          ┆ ---         ┆ ---    ┆ ---  │\n",
       "│ str       ┆ str    ┆ ---           ┆ str           ┆ ---           ┆ str         ┆ str    ┆ i64  │\n",
       "│           ┆        ┆ str           ┆               ┆ str           ┆             ┆        ┆      │\n",
       "╞═══════════╪════════╪═══════════════╪═══════════════╪═══════════════╪═════════════╪════════╪══════╡\n",
       "│ Chinstrap ┆ Dream  ┆ 49.6          ┆ 18.2          ┆ 193           ┆ 3775        ┆ male   ┆ 2009 │\n",
       "│ Chinstrap ┆ Dream  ┆ 50.8          ┆ 19            ┆ 210           ┆ 4100        ┆ male   ┆ 2009 │\n",
       "│ Chinstrap ┆ Dream  ┆ 50.2          ┆ 18.7          ┆ 198           ┆ 3775        ┆ female ┆ 2009 │\n",
       "└───────────┴────────┴───────────────┴───────────────┴───────────────┴─────────────┴────────┴──────┘"
      ]
     },
     "execution_count": 7,
     "metadata": {},
     "output_type": "execute_result"
    }
   ],
   "source": [
    "penguins.tail(n=3)"
   ]
  },
  {
   "cell_type": "markdown",
   "metadata": {},
   "source": [
    "By default, jupyter notebooks only allow us to display a certain amount of rows (`display.max_rows`), columns (`display.max_columns`) and with a certain width (`display.max_colwidth`). This can be changed globally by putting `pd.option_context` at the start of the script or just for one print with a `with` (which creates a [context](https://book.pythontips.com/en/latest/context_managers.html)). As jupyter is designed for `pandas` one needs to convert the polars `DataFrame` into a `pandas` one with `to_pandas()`. For example, here we are only showing the first `3` columns (including the row number) and `12` rows: "
   ]
  },
  {
   "cell_type": "code",
   "execution_count": 17,
   "metadata": {},
   "outputs": [
    {
     "data": {
      "text/html": [
       "<div>\n",
       "<style scoped>\n",
       "    .dataframe tbody tr th:only-of-type {\n",
       "        vertical-align: middle;\n",
       "    }\n",
       "\n",
       "    .dataframe tbody tr th {\n",
       "        vertical-align: top;\n",
       "    }\n",
       "\n",
       "    .dataframe thead th {\n",
       "        text-align: right;\n",
       "    }\n",
       "</style>\n",
       "<table border=\"1\" class=\"dataframe\">\n",
       "  <thead>\n",
       "    <tr style=\"text-align: right;\">\n",
       "      <th></th>\n",
       "      <th>species</th>\n",
       "      <th>...</th>\n",
       "      <th>year</th>\n",
       "    </tr>\n",
       "  </thead>\n",
       "  <tbody>\n",
       "    <tr>\n",
       "      <th>0</th>\n",
       "      <td>Adelie</td>\n",
       "      <td>...</td>\n",
       "      <td>2007</td>\n",
       "    </tr>\n",
       "    <tr>\n",
       "      <th>1</th>\n",
       "      <td>Adelie</td>\n",
       "      <td>...</td>\n",
       "      <td>2007</td>\n",
       "    </tr>\n",
       "    <tr>\n",
       "      <th>2</th>\n",
       "      <td>Adelie</td>\n",
       "      <td>...</td>\n",
       "      <td>2007</td>\n",
       "    </tr>\n",
       "    <tr>\n",
       "      <th>3</th>\n",
       "      <td>Adelie</td>\n",
       "      <td>...</td>\n",
       "      <td>2007</td>\n",
       "    </tr>\n",
       "    <tr>\n",
       "      <th>4</th>\n",
       "      <td>Adelie</td>\n",
       "      <td>...</td>\n",
       "      <td>2007</td>\n",
       "    </tr>\n",
       "    <tr>\n",
       "      <th>5</th>\n",
       "      <td>Adelie</td>\n",
       "      <td>...</td>\n",
       "      <td>2007</td>\n",
       "    </tr>\n",
       "    <tr>\n",
       "      <th>6</th>\n",
       "      <td>Adelie</td>\n",
       "      <td>...</td>\n",
       "      <td>2007</td>\n",
       "    </tr>\n",
       "    <tr>\n",
       "      <th>7</th>\n",
       "      <td>Adelie</td>\n",
       "      <td>...</td>\n",
       "      <td>2007</td>\n",
       "    </tr>\n",
       "    <tr>\n",
       "      <th>8</th>\n",
       "      <td>Adelie</td>\n",
       "      <td>...</td>\n",
       "      <td>2007</td>\n",
       "    </tr>\n",
       "    <tr>\n",
       "      <th>9</th>\n",
       "      <td>Adelie</td>\n",
       "      <td>...</td>\n",
       "      <td>2007</td>\n",
       "    </tr>\n",
       "    <tr>\n",
       "      <th>10</th>\n",
       "      <td>Adelie</td>\n",
       "      <td>...</td>\n",
       "      <td>2007</td>\n",
       "    </tr>\n",
       "    <tr>\n",
       "      <th>11</th>\n",
       "      <td>Adelie</td>\n",
       "      <td>...</td>\n",
       "      <td>2007</td>\n",
       "    </tr>\n",
       "  </tbody>\n",
       "</table>\n",
       "<p>12 rows × 8 columns</p>\n",
       "</div>"
      ],
      "text/plain": [
       "   species  ...  year\n",
       "0   Adelie  ...  2007\n",
       "1   Adelie  ...  2007\n",
       "2   Adelie  ...  2007\n",
       "3   Adelie  ...  2007\n",
       "4   Adelie  ...  2007\n",
       "5   Adelie  ...  2007\n",
       "6   Adelie  ...  2007\n",
       "7   Adelie  ...  2007\n",
       "8   Adelie  ...  2007\n",
       "9   Adelie  ...  2007\n",
       "10  Adelie  ...  2007\n",
       "11  Adelie  ...  2007\n",
       "\n",
       "[12 rows x 8 columns]"
      ]
     },
     "metadata": {},
     "output_type": "display_data"
    }
   ],
   "source": [
    "with pd.option_context('display.max_rows', 12, 'display.max_columns', 3,'display.max_colwidth', None):\n",
    "    display(penguins.to_pandas().head(n=12)) #Notice that head must be specified here"
   ]
  },
  {
   "cell_type": "markdown",
   "metadata": {},
   "source": [
    "The `sample` command obtains a random sample (without replacement) of the rows of size `n` and keeps it. This command is ideal for debugging `polars` programs as it allows the user to create a smaller database of which one can keep a track of. For example, the following obtains a random sample of size `9` of the data: "
   ]
  },
  {
   "cell_type": "code",
   "execution_count": 20,
   "metadata": {},
   "outputs": [
    {
     "data": {
      "text/html": [
       "<div><style>\n",
       ".dataframe > thead > tr > th,\n",
       ".dataframe > tbody > tr > td {\n",
       "  text-align: right;\n",
       "}\n",
       "</style>\n",
       "<small>shape: (9, 8)</small><table border=\"1\" class=\"dataframe\"><thead><tr><th>species</th><th>island</th><th>bill_length_mm</th><th>bill_depth_mm</th><th>flipper_length_mm</th><th>body_mass_g</th><th>sex</th><th>year</th></tr><tr><td>str</td><td>str</td><td>str</td><td>str</td><td>str</td><td>str</td><td>str</td><td>i64</td></tr></thead><tbody><tr><td>&quot;Adelie&quot;</td><td>&quot;Dream&quot;</td><td>&quot;39.2&quot;</td><td>&quot;18.6&quot;</td><td>&quot;190&quot;</td><td>&quot;4250&quot;</td><td>&quot;male&quot;</td><td>2009</td></tr><tr><td>&quot;Gentoo&quot;</td><td>&quot;Biscoe&quot;</td><td>&quot;47.7&quot;</td><td>&quot;15&quot;</td><td>&quot;216&quot;</td><td>&quot;4750&quot;</td><td>&quot;female&quot;</td><td>2008</td></tr><tr><td>&quot;Gentoo&quot;</td><td>&quot;Biscoe&quot;</td><td>&quot;47.6&quot;</td><td>&quot;14.5&quot;</td><td>&quot;215&quot;</td><td>&quot;5400&quot;</td><td>&quot;male&quot;</td><td>2007</td></tr><tr><td>&quot;Gentoo&quot;</td><td>&quot;Biscoe&quot;</td><td>&quot;50.8&quot;</td><td>&quot;15.7&quot;</td><td>&quot;226&quot;</td><td>&quot;5200&quot;</td><td>&quot;male&quot;</td><td>2009</td></tr><tr><td>&quot;Gentoo&quot;</td><td>&quot;Biscoe&quot;</td><td>&quot;52.5&quot;</td><td>&quot;15.6&quot;</td><td>&quot;221&quot;</td><td>&quot;5450&quot;</td><td>&quot;male&quot;</td><td>2009</td></tr><tr><td>&quot;Gentoo&quot;</td><td>&quot;Biscoe&quot;</td><td>&quot;50.5&quot;</td><td>&quot;15.9&quot;</td><td>&quot;222&quot;</td><td>&quot;5550&quot;</td><td>&quot;male&quot;</td><td>2008</td></tr><tr><td>&quot;Adelie&quot;</td><td>&quot;Biscoe&quot;</td><td>&quot;40.6&quot;</td><td>&quot;18.6&quot;</td><td>&quot;183&quot;</td><td>&quot;3550&quot;</td><td>&quot;male&quot;</td><td>2007</td></tr><tr><td>&quot;Gentoo&quot;</td><td>&quot;Biscoe&quot;</td><td>&quot;49.6&quot;</td><td>&quot;15&quot;</td><td>&quot;216&quot;</td><td>&quot;4750&quot;</td><td>&quot;male&quot;</td><td>2008</td></tr><tr><td>&quot;Adelie&quot;</td><td>&quot;Torgersen&quot;</td><td>&quot;39&quot;</td><td>&quot;17.1&quot;</td><td>&quot;191&quot;</td><td>&quot;3050&quot;</td><td>&quot;female&quot;</td><td>2009</td></tr></tbody></table></div>"
      ],
      "text/plain": [
       "shape: (9, 8)\n",
       "┌─────────┬───────────┬───────────────┬───────────────┬──────────────┬─────────────┬────────┬──────┐\n",
       "│ species ┆ island    ┆ bill_length_m ┆ bill_depth_mm ┆ flipper_leng ┆ body_mass_g ┆ sex    ┆ year │\n",
       "│ ---     ┆ ---       ┆ m             ┆ ---           ┆ th_mm        ┆ ---         ┆ ---    ┆ ---  │\n",
       "│ str     ┆ str       ┆ ---           ┆ str           ┆ ---          ┆ str         ┆ str    ┆ i64  │\n",
       "│         ┆           ┆ str           ┆               ┆ str          ┆             ┆        ┆      │\n",
       "╞═════════╪═══════════╪═══════════════╪═══════════════╪══════════════╪═════════════╪════════╪══════╡\n",
       "│ Adelie  ┆ Dream     ┆ 39.2          ┆ 18.6          ┆ 190          ┆ 4250        ┆ male   ┆ 2009 │\n",
       "│ Gentoo  ┆ Biscoe    ┆ 47.7          ┆ 15            ┆ 216          ┆ 4750        ┆ female ┆ 2008 │\n",
       "│ Gentoo  ┆ Biscoe    ┆ 47.6          ┆ 14.5          ┆ 215          ┆ 5400        ┆ male   ┆ 2007 │\n",
       "│ Gentoo  ┆ Biscoe    ┆ 50.8          ┆ 15.7          ┆ 226          ┆ 5200        ┆ male   ┆ 2009 │\n",
       "│ Gentoo  ┆ Biscoe    ┆ 52.5          ┆ 15.6          ┆ 221          ┆ 5450        ┆ male   ┆ 2009 │\n",
       "│ Gentoo  ┆ Biscoe    ┆ 50.5          ┆ 15.9          ┆ 222          ┆ 5550        ┆ male   ┆ 2008 │\n",
       "│ Adelie  ┆ Biscoe    ┆ 40.6          ┆ 18.6          ┆ 183          ┆ 3550        ┆ male   ┆ 2007 │\n",
       "│ Gentoo  ┆ Biscoe    ┆ 49.6          ┆ 15            ┆ 216          ┆ 4750        ┆ male   ┆ 2008 │\n",
       "│ Adelie  ┆ Torgersen ┆ 39            ┆ 17.1          ┆ 191          ┆ 3050        ┆ female ┆ 2009 │\n",
       "└─────────┴───────────┴───────────────┴───────────────┴──────────────┴─────────────┴────────┴──────┘"
      ]
     },
     "execution_count": 20,
     "metadata": {},
     "output_type": "execute_result"
    }
   ],
   "source": [
    "penguins.sample(n = 9)"
   ]
  },
  {
   "cell_type": "markdown",
   "metadata": {},
   "source": [
    "To obtain an array of the column names one can do:"
   ]
  },
  {
   "cell_type": "code",
   "execution_count": 38,
   "metadata": {},
   "outputs": [
    {
     "data": {
      "text/plain": [
       "['species',\n",
       " 'island',\n",
       " 'bill_length_mm',\n",
       " 'bill_depth_mm',\n",
       " 'flipper_length_mm',\n",
       " 'body_mass_g',\n",
       " 'sex',\n",
       " 'year']"
      ]
     },
     "execution_count": 38,
     "metadata": {},
     "output_type": "execute_result"
    }
   ],
   "source": [
    "penguins.columns"
   ]
  },
  {
   "cell_type": "markdown",
   "metadata": {},
   "source": [
    "## Advanced reading (scanning)\n",
    "\n",
    "Larger datasets benefit from `scanning`. When a file is `scanned` it is not read. `polars` only registers that it `will`read it. To actually read it you need to perform a `collect` after a scan. This is useful as `polars` optimizes all the queries you produce into the scan so that when you `collect` you obtain a `faster` result than performing the operations one by one. \n",
    "\n",
    "Let's see an example by reading the `covidmx` dataset and removing all rows except for those ones that occured in Mexico City which corresponds to `ENTIDAD_UM == \"09\"`. "
   ]
  },
  {
   "cell_type": "code",
   "execution_count": 24,
   "metadata": {},
   "outputs": [
    {
     "name": "stdout",
     "output_type": "stream",
     "text": [
      "20.4 s ± 0 ns per loop (mean ± std. dev. of 1 run, 1 loop each)\n"
     ]
    }
   ],
   "source": [
    "%timeit -n1 -r1 pl.read_parquet(\"covidmx.parquet\").filter(pl.col(\"ENTIDAD_UM\") == \"09\")"
   ]
  },
  {
   "cell_type": "markdown",
   "metadata": {},
   "source": [
    "The previous line `reads` the complete file _and then_  filters by ensuring to keep only the values where the column `ENTIDAD_UM` equals `\"09\"`. If we use `scan` its way faster as it will collapses the `scan` and the `filter` into one operation and reads only the columns that have a `09` value"
   ]
  },
  {
   "cell_type": "code",
   "execution_count": 25,
   "metadata": {},
   "outputs": [
    {
     "name": "stdout",
     "output_type": "stream",
     "text": [
      "10.2 s ± 0 ns per loop (mean ± std. dev. of 1 run, 1 loop each)\n"
     ]
    }
   ],
   "source": [
    "%timeit -n1 -r1 pl.scan_parquet(\"covidmx.parquet\").filter(pl.col(\"ENTIDAD_UM\") == \"09\").collect()"
   ]
  },
  {
   "cell_type": "markdown",
   "metadata": {},
   "source": [
    "This idea of not conducting all operations till all the queries are given is called **[lazy evaluation](https://en.wikipedia.org/wiki/Lazy_evaluation)** and is one of the keys for `polars`' speed. "
   ]
  },
  {
   "cell_type": "markdown",
   "metadata": {},
   "source": [
    "## Exercise\n",
    "\n",
    "1. Read the `inegi_population.csv` file,\n",
    "2. Obtain a random sample of `n = 50` rows,\n",
    "3. Display the complete random sample (all rows and columns) in the jupyter notebook."
   ]
  },
  {
   "cell_type": "markdown",
   "metadata": {},
   "source": [
    "# Thinking polars\n",
    "\n",
    "By design, `polars` data should be in a [tidy](https://doi.org/10.18637/jss.v059.i10) format with rows corresponding to observations and columns corresponding to variables measured from those observations.\n",
    "\n",
    "![Image of a tidy dataframe showing that columns are variables and rows observations](df_images/column_row_format.svg){width=80%}\n",
    "\n",
    "Polars is optimized, by design, for columnar data; in particular for its storage. Let's talk about it for a second. \n",
    "\n",
    "## SIMD\n",
    "\n",
    "Let's think of the data for a second. Consider the first five entries of the following subset of the data:"
   ]
  },
  {
   "cell_type": "code",
   "execution_count": 37,
   "metadata": {},
   "outputs": [
    {
     "data": {
      "text/html": [
       "<div><style>\n",
       ".dataframe > thead > tr > th,\n",
       ".dataframe > tbody > tr > td {\n",
       "  text-align: right;\n",
       "}\n",
       "</style>\n",
       "<small>shape: (5, 3)</small><table border=\"1\" class=\"dataframe\"><thead><tr><th>bill_length_mm</th><th>sex</th><th>year</th></tr><tr><td>f64</td><td>str</td><td>i64</td></tr></thead><tbody><tr><td>39.1</td><td>&quot;male&quot;</td><td>2007</td></tr><tr><td>39.5</td><td>&quot;female&quot;</td><td>2007</td></tr><tr><td>40.3</td><td>&quot;female&quot;</td><td>2007</td></tr><tr><td>null</td><td>null</td><td>2007</td></tr><tr><td>36.7</td><td>&quot;female&quot;</td><td>2007</td></tr></tbody></table></div>"
      ],
      "text/plain": [
       "shape: (5, 3)\n",
       "┌────────────────┬────────┬──────┐\n",
       "│ bill_length_mm ┆ sex    ┆ year │\n",
       "│ ---            ┆ ---    ┆ ---  │\n",
       "│ f64            ┆ str    ┆ i64  │\n",
       "╞════════════════╪════════╪══════╡\n",
       "│ 39.1           ┆ male   ┆ 2007 │\n",
       "│ 39.5           ┆ female ┆ 2007 │\n",
       "│ 40.3           ┆ female ┆ 2007 │\n",
       "│ null           ┆ null   ┆ 2007 │\n",
       "│ 36.7           ┆ female ┆ 2007 │\n",
       "└────────────────┴────────┴──────┘"
      ]
     },
     "execution_count": 37,
     "metadata": {},
     "output_type": "execute_result"
    }
   ],
   "source": [
    "penguins.select(pl.col(\"bill_length_mm\",\"sex\",\"year\")).head()"
   ]
  },
  {
   "cell_type": "markdown",
   "metadata": {},
   "source": [
    "The first one, `bill_length_mm` is a float (`f64`) which allows for decimal numbers, the second one, `sex` is a string (`str`) while the last one, `year` is an integer (`i64`). Each of these columns have types (`dtypes` in Python) that allow for different operations. For example, one can sum `+1` to both `bill_length_mm` and `year` but not to `sex`. \n",
    "\n",
    "The traditional way to represents data in memory is rowwise which means that the first entry of the float `bill_length_mm` row is next-to (in memory) the string `sex` whose memory address is next to the integer `year`. That means that performing operations in one column (say summing `+1` to year) involves jumping through different memory addresses. \n",
    "\n",
    "![Image of a `DataFrame` being stored into memory with two different formats rowwise and columnwise](df_images/dataframe_storage.svg){width=50%}\n",
    "\n",
    "The columnar format of data stores one column in contiguous memory addresses, then the next column and then the next one. Modern processors are equipped with a gizmo called [**single instruction, multiple data (SIMD)**](https://en.wikipedia.org/wiki/Single_instruction,_multiple_data). SIMD allows for instructions to be performed in memory blocks without specifying the specific address of each member of the block. Thus, storing the columns next to each other generates memory blocks into which SIMD can be applied. \n",
    "\n",
    "While, for summing `+1` in the classical `rowwise` data storage one has to go specifying the memory address of the first year, then the address of the second and so on; in the `columar` approach one has only to specify the year memory block. \n"
   ]
  },
  {
   "cell_type": "markdown",
   "metadata": {},
   "source": [
    "## Why should I care?\n",
    "\n",
    "Polars is designed with the columnar format in mind. That means that to conduct operations in your `DataFrame` one has to think the operations as operations **for the whole column**. This doesn't mean that `rowwise` operations cannot be done. However, `rowwise` operations (as well as `for` loops) are usually suboptimal for `polars` `DataFrames`.  "
   ]
  },
  {
   "cell_type": "markdown",
   "metadata": {},
   "source": [
    "# DataFrame expressions\n",
    "\n",
    "In this section, we discuss several transformations one can apply into the `DataFrame`. \n",
    "\n",
    "## How to keep/remove stuff\n",
    "\n",
    "### Select\n",
    "\n",
    "![`select` chooses which columns to keep or drop](df_images/select.svg){width=75%}\n",
    "\n",
    "The `select` command allows users to choose which columns to keep. This can be done by specifying the columns:"
   ]
  },
  {
   "cell_type": "code",
   "execution_count": 41,
   "metadata": {},
   "outputs": [
    {
     "data": {
      "text/html": [
       "<div><style>\n",
       ".dataframe > thead > tr > th,\n",
       ".dataframe > tbody > tr > td {\n",
       "  text-align: right;\n",
       "}\n",
       "</style>\n",
       "<small>shape: (5, 2)</small><table border=\"1\" class=\"dataframe\"><thead><tr><th>sex</th><th>species</th></tr><tr><td>str</td><td>str</td></tr></thead><tbody><tr><td>&quot;male&quot;</td><td>&quot;Adelie&quot;</td></tr><tr><td>&quot;female&quot;</td><td>&quot;Adelie&quot;</td></tr><tr><td>&quot;female&quot;</td><td>&quot;Adelie&quot;</td></tr><tr><td>null</td><td>&quot;Adelie&quot;</td></tr><tr><td>&quot;female&quot;</td><td>&quot;Adelie&quot;</td></tr></tbody></table></div>"
      ],
      "text/plain": [
       "shape: (5, 2)\n",
       "┌────────┬─────────┐\n",
       "│ sex    ┆ species │\n",
       "│ ---    ┆ ---     │\n",
       "│ str    ┆ str     │\n",
       "╞════════╪═════════╡\n",
       "│ male   ┆ Adelie  │\n",
       "│ female ┆ Adelie  │\n",
       "│ female ┆ Adelie  │\n",
       "│ null   ┆ Adelie  │\n",
       "│ female ┆ Adelie  │\n",
       "└────────┴─────────┘"
      ]
     },
     "execution_count": 41,
     "metadata": {},
     "output_type": "execute_result"
    }
   ],
   "source": [
    "penguins.select(pl.col(\"sex\",\"species\")).head()"
   ]
  },
  {
   "cell_type": "markdown",
   "metadata": {},
   "source": [
    "::: {.callout-tip title=\"Format\"}\n",
    "Code is usually formatted rowwise to avoid run-ons so that each instruction has its row\n",
    ":::\n"
   ]
  },
  {
   "cell_type": "code",
   "execution_count": 42,
   "metadata": {},
   "outputs": [
    {
     "data": {
      "text/html": [
       "<div><style>\n",
       ".dataframe > thead > tr > th,\n",
       ".dataframe > tbody > tr > td {\n",
       "  text-align: right;\n",
       "}\n",
       "</style>\n",
       "<small>shape: (5, 2)</small><table border=\"1\" class=\"dataframe\"><thead><tr><th>sex</th><th>species</th></tr><tr><td>str</td><td>str</td></tr></thead><tbody><tr><td>&quot;male&quot;</td><td>&quot;Adelie&quot;</td></tr><tr><td>&quot;female&quot;</td><td>&quot;Adelie&quot;</td></tr><tr><td>&quot;female&quot;</td><td>&quot;Adelie&quot;</td></tr><tr><td>null</td><td>&quot;Adelie&quot;</td></tr><tr><td>&quot;female&quot;</td><td>&quot;Adelie&quot;</td></tr></tbody></table></div>"
      ],
      "text/plain": [
       "shape: (5, 2)\n",
       "┌────────┬─────────┐\n",
       "│ sex    ┆ species │\n",
       "│ ---    ┆ ---     │\n",
       "│ str    ┆ str     │\n",
       "╞════════╪═════════╡\n",
       "│ male   ┆ Adelie  │\n",
       "│ female ┆ Adelie  │\n",
       "│ female ┆ Adelie  │\n",
       "│ null   ┆ Adelie  │\n",
       "│ female ┆ Adelie  │\n",
       "└────────┴─────────┘"
      ]
     },
     "execution_count": 42,
     "metadata": {},
     "output_type": "execute_result"
    }
   ],
   "source": [
    "(penguins\n",
    " .select(pl.col(\"sex\",\"species\"))\n",
    " .head())"
   ]
  },
  {
   "cell_type": "markdown",
   "metadata": {},
   "source": [
    "One can select all columns with `.all`:"
   ]
  },
  {
   "cell_type": "code",
   "execution_count": 43,
   "metadata": {},
   "outputs": [
    {
     "data": {
      "text/html": [
       "<div><style>\n",
       ".dataframe > thead > tr > th,\n",
       ".dataframe > tbody > tr > td {\n",
       "  text-align: right;\n",
       "}\n",
       "</style>\n",
       "<small>shape: (5, 8)</small><table border=\"1\" class=\"dataframe\"><thead><tr><th>species</th><th>island</th><th>bill_length_mm</th><th>bill_depth_mm</th><th>flipper_length_mm</th><th>body_mass_g</th><th>sex</th><th>year</th></tr><tr><td>str</td><td>str</td><td>f64</td><td>f64</td><td>i64</td><td>i64</td><td>str</td><td>i64</td></tr></thead><tbody><tr><td>&quot;Adelie&quot;</td><td>&quot;Torgersen&quot;</td><td>39.1</td><td>18.7</td><td>181</td><td>3750</td><td>&quot;male&quot;</td><td>2007</td></tr><tr><td>&quot;Adelie&quot;</td><td>&quot;Torgersen&quot;</td><td>39.5</td><td>17.4</td><td>186</td><td>3800</td><td>&quot;female&quot;</td><td>2007</td></tr><tr><td>&quot;Adelie&quot;</td><td>&quot;Torgersen&quot;</td><td>40.3</td><td>18.0</td><td>195</td><td>3250</td><td>&quot;female&quot;</td><td>2007</td></tr><tr><td>&quot;Adelie&quot;</td><td>&quot;Torgersen&quot;</td><td>null</td><td>null</td><td>null</td><td>null</td><td>null</td><td>2007</td></tr><tr><td>&quot;Adelie&quot;</td><td>&quot;Torgersen&quot;</td><td>36.7</td><td>19.3</td><td>193</td><td>3450</td><td>&quot;female&quot;</td><td>2007</td></tr></tbody></table></div>"
      ],
      "text/plain": [
       "shape: (5, 8)\n",
       "┌─────────┬───────────┬───────────────┬───────────────┬──────────────┬─────────────┬────────┬──────┐\n",
       "│ species ┆ island    ┆ bill_length_m ┆ bill_depth_mm ┆ flipper_leng ┆ body_mass_g ┆ sex    ┆ year │\n",
       "│ ---     ┆ ---       ┆ m             ┆ ---           ┆ th_mm        ┆ ---         ┆ ---    ┆ ---  │\n",
       "│ str     ┆ str       ┆ ---           ┆ f64           ┆ ---          ┆ i64         ┆ str    ┆ i64  │\n",
       "│         ┆           ┆ f64           ┆               ┆ i64          ┆             ┆        ┆      │\n",
       "╞═════════╪═══════════╪═══════════════╪═══════════════╪══════════════╪═════════════╪════════╪══════╡\n",
       "│ Adelie  ┆ Torgersen ┆ 39.1          ┆ 18.7          ┆ 181          ┆ 3750        ┆ male   ┆ 2007 │\n",
       "│ Adelie  ┆ Torgersen ┆ 39.5          ┆ 17.4          ┆ 186          ┆ 3800        ┆ female ┆ 2007 │\n",
       "│ Adelie  ┆ Torgersen ┆ 40.3          ┆ 18.0          ┆ 195          ┆ 3250        ┆ female ┆ 2007 │\n",
       "│ Adelie  ┆ Torgersen ┆ null          ┆ null          ┆ null         ┆ null        ┆ null   ┆ 2007 │\n",
       "│ Adelie  ┆ Torgersen ┆ 36.7          ┆ 19.3          ┆ 193          ┆ 3450        ┆ female ┆ 2007 │\n",
       "└─────────┴───────────┴───────────────┴───────────────┴──────────────┴─────────────┴────────┴──────┘"
      ]
     },
     "execution_count": 43,
     "metadata": {},
     "output_type": "execute_result"
    }
   ],
   "source": [
    "(penguins\n",
    " .select(pl.all())\n",
    " .head())"
   ]
  },
  {
   "cell_type": "markdown",
   "metadata": {},
   "source": [
    "The `all` command can be combined with the `exclude` to remove specific columns:"
   ]
  },
  {
   "cell_type": "code",
   "execution_count": 44,
   "metadata": {},
   "outputs": [
    {
     "data": {
      "text/html": [
       "<div><style>\n",
       ".dataframe > thead > tr > th,\n",
       ".dataframe > tbody > tr > td {\n",
       "  text-align: right;\n",
       "}\n",
       "</style>\n",
       "<small>shape: (5, 7)</small><table border=\"1\" class=\"dataframe\"><thead><tr><th>species</th><th>bill_length_mm</th><th>bill_depth_mm</th><th>flipper_length_mm</th><th>body_mass_g</th><th>sex</th><th>year</th></tr><tr><td>str</td><td>f64</td><td>f64</td><td>i64</td><td>i64</td><td>str</td><td>i64</td></tr></thead><tbody><tr><td>&quot;Adelie&quot;</td><td>39.1</td><td>18.7</td><td>181</td><td>3750</td><td>&quot;male&quot;</td><td>2007</td></tr><tr><td>&quot;Adelie&quot;</td><td>39.5</td><td>17.4</td><td>186</td><td>3800</td><td>&quot;female&quot;</td><td>2007</td></tr><tr><td>&quot;Adelie&quot;</td><td>40.3</td><td>18.0</td><td>195</td><td>3250</td><td>&quot;female&quot;</td><td>2007</td></tr><tr><td>&quot;Adelie&quot;</td><td>null</td><td>null</td><td>null</td><td>null</td><td>null</td><td>2007</td></tr><tr><td>&quot;Adelie&quot;</td><td>36.7</td><td>19.3</td><td>193</td><td>3450</td><td>&quot;female&quot;</td><td>2007</td></tr></tbody></table></div>"
      ],
      "text/plain": [
       "shape: (5, 7)\n",
       "┌─────────┬────────────────┬───────────────┬───────────────────┬─────────────┬────────┬──────┐\n",
       "│ species ┆ bill_length_mm ┆ bill_depth_mm ┆ flipper_length_mm ┆ body_mass_g ┆ sex    ┆ year │\n",
       "│ ---     ┆ ---            ┆ ---           ┆ ---               ┆ ---         ┆ ---    ┆ ---  │\n",
       "│ str     ┆ f64            ┆ f64           ┆ i64               ┆ i64         ┆ str    ┆ i64  │\n",
       "╞═════════╪════════════════╪═══════════════╪═══════════════════╪═════════════╪════════╪══════╡\n",
       "│ Adelie  ┆ 39.1           ┆ 18.7          ┆ 181               ┆ 3750        ┆ male   ┆ 2007 │\n",
       "│ Adelie  ┆ 39.5           ┆ 17.4          ┆ 186               ┆ 3800        ┆ female ┆ 2007 │\n",
       "│ Adelie  ┆ 40.3           ┆ 18.0          ┆ 195               ┆ 3250        ┆ female ┆ 2007 │\n",
       "│ Adelie  ┆ null           ┆ null          ┆ null              ┆ null        ┆ null   ┆ 2007 │\n",
       "│ Adelie  ┆ 36.7           ┆ 19.3          ┆ 193               ┆ 3450        ┆ female ┆ 2007 │\n",
       "└─────────┴────────────────┴───────────────┴───────────────────┴─────────────┴────────┴──────┘"
      ]
     },
     "execution_count": 44,
     "metadata": {},
     "output_type": "execute_result"
    }
   ],
   "source": [
    "(penguins\n",
    " .select(pl.all().exclude(\"island\"))\n",
    " .head())"
   ]
  },
  {
   "cell_type": "markdown",
   "metadata": {},
   "source": [
    "The previous code is equivalent to using the `drop` function. Note that by design `drop` doesn't use `pl.col` while `select` does. "
   ]
  },
  {
   "cell_type": "code",
   "execution_count": 80,
   "metadata": {},
   "outputs": [
    {
     "data": {
      "text/html": [
       "<div><style>\n",
       ".dataframe > thead > tr > th,\n",
       ".dataframe > tbody > tr > td {\n",
       "  text-align: right;\n",
       "}\n",
       "</style>\n",
       "<small>shape: (5, 7)</small><table border=\"1\" class=\"dataframe\"><thead><tr><th>species</th><th>bill_length_mm</th><th>bill_depth_mm</th><th>flipper_length_mm</th><th>body_mass_g</th><th>sex</th><th>year</th></tr><tr><td>str</td><td>f64</td><td>f64</td><td>i64</td><td>i64</td><td>str</td><td>i64</td></tr></thead><tbody><tr><td>&quot;Adelie&quot;</td><td>39.1</td><td>18.7</td><td>181</td><td>3750</td><td>&quot;male&quot;</td><td>2007</td></tr><tr><td>&quot;Adelie&quot;</td><td>39.5</td><td>17.4</td><td>186</td><td>3800</td><td>&quot;female&quot;</td><td>2007</td></tr><tr><td>&quot;Adelie&quot;</td><td>40.3</td><td>18.0</td><td>195</td><td>3250</td><td>&quot;female&quot;</td><td>2007</td></tr><tr><td>&quot;Adelie&quot;</td><td>null</td><td>null</td><td>null</td><td>null</td><td>null</td><td>2007</td></tr><tr><td>&quot;Adelie&quot;</td><td>36.7</td><td>19.3</td><td>193</td><td>3450</td><td>&quot;female&quot;</td><td>2007</td></tr></tbody></table></div>"
      ],
      "text/plain": [
       "shape: (5, 7)\n",
       "┌─────────┬────────────────┬───────────────┬───────────────────┬─────────────┬────────┬──────┐\n",
       "│ species ┆ bill_length_mm ┆ bill_depth_mm ┆ flipper_length_mm ┆ body_mass_g ┆ sex    ┆ year │\n",
       "│ ---     ┆ ---            ┆ ---           ┆ ---               ┆ ---         ┆ ---    ┆ ---  │\n",
       "│ str     ┆ f64            ┆ f64           ┆ i64               ┆ i64         ┆ str    ┆ i64  │\n",
       "╞═════════╪════════════════╪═══════════════╪═══════════════════╪═════════════╪════════╪══════╡\n",
       "│ Adelie  ┆ 39.1           ┆ 18.7          ┆ 181               ┆ 3750        ┆ male   ┆ 2007 │\n",
       "│ Adelie  ┆ 39.5           ┆ 17.4          ┆ 186               ┆ 3800        ┆ female ┆ 2007 │\n",
       "│ Adelie  ┆ 40.3           ┆ 18.0          ┆ 195               ┆ 3250        ┆ female ┆ 2007 │\n",
       "│ Adelie  ┆ null           ┆ null          ┆ null              ┆ null        ┆ null   ┆ 2007 │\n",
       "│ Adelie  ┆ 36.7           ┆ 19.3          ┆ 193               ┆ 3450        ┆ female ┆ 2007 │\n",
       "└─────────┴────────────────┴───────────────┴───────────────────┴─────────────┴────────┴──────┘"
      ]
     },
     "execution_count": 80,
     "metadata": {},
     "output_type": "execute_result"
    }
   ],
   "source": [
    "(penguins\n",
    " .drop(\"island\")\n",
    " .head())"
   ]
  },
  {
   "cell_type": "markdown",
   "metadata": {},
   "source": [
    "[Regular expressions](https://learn.microsoft.com/en-us/dotnet/standard/base-types/regular-expression-language-quick-reference) can be used to select or exclude specific columns matching the expression. For example, to keep those that end up in `mm`:"
   ]
  },
  {
   "cell_type": "code",
   "execution_count": 52,
   "metadata": {},
   "outputs": [
    {
     "data": {
      "text/html": [
       "<div><style>\n",
       ".dataframe > thead > tr > th,\n",
       ".dataframe > tbody > tr > td {\n",
       "  text-align: right;\n",
       "}\n",
       "</style>\n",
       "<small>shape: (5, 3)</small><table border=\"1\" class=\"dataframe\"><thead><tr><th>bill_length_mm</th><th>bill_depth_mm</th><th>flipper_length_mm</th></tr><tr><td>f64</td><td>f64</td><td>i64</td></tr></thead><tbody><tr><td>39.1</td><td>18.7</td><td>181</td></tr><tr><td>39.5</td><td>17.4</td><td>186</td></tr><tr><td>40.3</td><td>18.0</td><td>195</td></tr><tr><td>null</td><td>null</td><td>null</td></tr><tr><td>36.7</td><td>19.3</td><td>193</td></tr></tbody></table></div>"
      ],
      "text/plain": [
       "shape: (5, 3)\n",
       "┌────────────────┬───────────────┬───────────────────┐\n",
       "│ bill_length_mm ┆ bill_depth_mm ┆ flipper_length_mm │\n",
       "│ ---            ┆ ---           ┆ ---               │\n",
       "│ f64            ┆ f64           ┆ i64               │\n",
       "╞════════════════╪═══════════════╪═══════════════════╡\n",
       "│ 39.1           ┆ 18.7          ┆ 181               │\n",
       "│ 39.5           ┆ 17.4          ┆ 186               │\n",
       "│ 40.3           ┆ 18.0          ┆ 195               │\n",
       "│ null           ┆ null          ┆ null              │\n",
       "│ 36.7           ┆ 19.3          ┆ 193               │\n",
       "└────────────────┴───────────────┴───────────────────┘"
      ]
     },
     "execution_count": 52,
     "metadata": {},
     "output_type": "execute_result"
    }
   ],
   "source": [
    "import polars.selectors as cs\n",
    "\n",
    "(penguins\n",
    " .select(cs.matches(\"_mm\"))\n",
    " .head())"
   ]
  },
  {
   "cell_type": "markdown",
   "metadata": {},
   "source": [
    "To exclude them one needs to negate the operation with `~`:\n"
   ]
  },
  {
   "cell_type": "code",
   "execution_count": 53,
   "metadata": {},
   "outputs": [
    {
     "data": {
      "text/html": [
       "<div><style>\n",
       ".dataframe > thead > tr > th,\n",
       ".dataframe > tbody > tr > td {\n",
       "  text-align: right;\n",
       "}\n",
       "</style>\n",
       "<small>shape: (5, 5)</small><table border=\"1\" class=\"dataframe\"><thead><tr><th>species</th><th>island</th><th>body_mass_g</th><th>sex</th><th>year</th></tr><tr><td>str</td><td>str</td><td>i64</td><td>str</td><td>i64</td></tr></thead><tbody><tr><td>&quot;Adelie&quot;</td><td>&quot;Torgersen&quot;</td><td>3750</td><td>&quot;male&quot;</td><td>2007</td></tr><tr><td>&quot;Adelie&quot;</td><td>&quot;Torgersen&quot;</td><td>3800</td><td>&quot;female&quot;</td><td>2007</td></tr><tr><td>&quot;Adelie&quot;</td><td>&quot;Torgersen&quot;</td><td>3250</td><td>&quot;female&quot;</td><td>2007</td></tr><tr><td>&quot;Adelie&quot;</td><td>&quot;Torgersen&quot;</td><td>null</td><td>null</td><td>2007</td></tr><tr><td>&quot;Adelie&quot;</td><td>&quot;Torgersen&quot;</td><td>3450</td><td>&quot;female&quot;</td><td>2007</td></tr></tbody></table></div>"
      ],
      "text/plain": [
       "shape: (5, 5)\n",
       "┌─────────┬───────────┬─────────────┬────────┬──────┐\n",
       "│ species ┆ island    ┆ body_mass_g ┆ sex    ┆ year │\n",
       "│ ---     ┆ ---       ┆ ---         ┆ ---    ┆ ---  │\n",
       "│ str     ┆ str       ┆ i64         ┆ str    ┆ i64  │\n",
       "╞═════════╪═══════════╪═════════════╪════════╪══════╡\n",
       "│ Adelie  ┆ Torgersen ┆ 3750        ┆ male   ┆ 2007 │\n",
       "│ Adelie  ┆ Torgersen ┆ 3800        ┆ female ┆ 2007 │\n",
       "│ Adelie  ┆ Torgersen ┆ 3250        ┆ female ┆ 2007 │\n",
       "│ Adelie  ┆ Torgersen ┆ null        ┆ null   ┆ 2007 │\n",
       "│ Adelie  ┆ Torgersen ┆ 3450        ┆ female ┆ 2007 │\n",
       "└─────────┴───────────┴─────────────┴────────┴──────┘"
      ]
     },
     "execution_count": 53,
     "metadata": {},
     "output_type": "execute_result"
    }
   ],
   "source": [
    "(penguins\n",
    " .select(~cs.matches(\"_mm\"))\n",
    " .head())"
   ]
  },
  {
   "cell_type": "markdown",
   "metadata": {},
   "source": [
    "Boolean operations can be applied inside a `select` thus allowing to apply an **and**"
   ]
  },
  {
   "cell_type": "code",
   "execution_count": 54,
   "metadata": {},
   "outputs": [
    {
     "data": {
      "text/html": [
       "<div><style>\n",
       ".dataframe > thead > tr > th,\n",
       ".dataframe > tbody > tr > td {\n",
       "  text-align: right;\n",
       "}\n",
       "</style>\n",
       "<small>shape: (5, 2)</small><table border=\"1\" class=\"dataframe\"><thead><tr><th>bill_length_mm</th><th>flipper_length_mm</th></tr><tr><td>f64</td><td>i64</td></tr></thead><tbody><tr><td>39.1</td><td>181</td></tr><tr><td>39.5</td><td>186</td></tr><tr><td>40.3</td><td>195</td></tr><tr><td>null</td><td>null</td></tr><tr><td>36.7</td><td>193</td></tr></tbody></table></div>"
      ],
      "text/plain": [
       "shape: (5, 2)\n",
       "┌────────────────┬───────────────────┐\n",
       "│ bill_length_mm ┆ flipper_length_mm │\n",
       "│ ---            ┆ ---               │\n",
       "│ f64            ┆ i64               │\n",
       "╞════════════════╪═══════════════════╡\n",
       "│ 39.1           ┆ 181               │\n",
       "│ 39.5           ┆ 186               │\n",
       "│ 40.3           ┆ 195               │\n",
       "│ null           ┆ null              │\n",
       "│ 36.7           ┆ 193               │\n",
       "└────────────────┴───────────────────┘"
      ]
     },
     "execution_count": 54,
     "metadata": {},
     "output_type": "execute_result"
    }
   ],
   "source": [
    "(penguins\n",
    " .select(cs.matches(\"_mm\") & cs.matches(\"length\"))\n",
    " .head())"
   ]
  },
  {
   "cell_type": "markdown",
   "metadata": {},
   "source": [
    "or an **or**"
   ]
  },
  {
   "cell_type": "code",
   "execution_count": 57,
   "metadata": {},
   "outputs": [
    {
     "data": {
      "text/html": [
       "<div><style>\n",
       ".dataframe > thead > tr > th,\n",
       ".dataframe > tbody > tr > td {\n",
       "  text-align: right;\n",
       "}\n",
       "</style>\n",
       "<small>shape: (5, 4)</small><table border=\"1\" class=\"dataframe\"><thead><tr><th>bill_length_mm</th><th>bill_depth_mm</th><th>flipper_length_mm</th><th>island</th></tr><tr><td>f64</td><td>f64</td><td>i64</td><td>str</td></tr></thead><tbody><tr><td>39.1</td><td>18.7</td><td>181</td><td>&quot;Torgersen&quot;</td></tr><tr><td>39.5</td><td>17.4</td><td>186</td><td>&quot;Torgersen&quot;</td></tr><tr><td>40.3</td><td>18.0</td><td>195</td><td>&quot;Torgersen&quot;</td></tr><tr><td>null</td><td>null</td><td>null</td><td>&quot;Torgersen&quot;</td></tr><tr><td>36.7</td><td>19.3</td><td>193</td><td>&quot;Torgersen&quot;</td></tr></tbody></table></div>"
      ],
      "text/plain": [
       "shape: (5, 4)\n",
       "┌────────────────┬───────────────┬───────────────────┬───────────┐\n",
       "│ bill_length_mm ┆ bill_depth_mm ┆ flipper_length_mm ┆ island    │\n",
       "│ ---            ┆ ---           ┆ ---               ┆ ---       │\n",
       "│ f64            ┆ f64           ┆ i64               ┆ str       │\n",
       "╞════════════════╪═══════════════╪═══════════════════╪═══════════╡\n",
       "│ 39.1           ┆ 18.7          ┆ 181               ┆ Torgersen │\n",
       "│ 39.5           ┆ 17.4          ┆ 186               ┆ Torgersen │\n",
       "│ 40.3           ┆ 18.0          ┆ 195               ┆ Torgersen │\n",
       "│ null           ┆ null          ┆ null              ┆ Torgersen │\n",
       "│ 36.7           ┆ 19.3          ┆ 193               ┆ Torgersen │\n",
       "└────────────────┴───────────────┴───────────────────┴───────────┘"
      ]
     },
     "execution_count": 57,
     "metadata": {},
     "output_type": "execute_result"
    }
   ],
   "source": [
    "(penguins\n",
    " .select(cs.matches(\"_mm\") | cs.matches(\"island\"))\n",
    " .head())"
   ]
  },
  {
   "cell_type": "markdown",
   "metadata": {},
   "source": [
    "Columns can also be selected by `dtype` with the `cs.integer()`, `cs.float()`, `cs.numeric()` (float and int), `cs.string()`, `cs.datetime()` as well as [additional selectors](https://pola-rs.github.io/polars/py-polars/html/reference/selectors.html#functions) specified in the manual"
   ]
  },
  {
   "cell_type": "code",
   "execution_count": 61,
   "metadata": {},
   "outputs": [
    {
     "data": {
      "text/html": [
       "<div><style>\n",
       ".dataframe > thead > tr > th,\n",
       ".dataframe > tbody > tr > td {\n",
       "  text-align: right;\n",
       "}\n",
       "</style>\n",
       "<small>shape: (5, 4)</small><table border=\"1\" class=\"dataframe\"><thead><tr><th>bill_length_mm</th><th>bill_depth_mm</th><th>flipper_length_mm</th><th>body_mass_g</th></tr><tr><td>f64</td><td>f64</td><td>i64</td><td>i64</td></tr></thead><tbody><tr><td>39.1</td><td>18.7</td><td>181</td><td>3750</td></tr><tr><td>39.5</td><td>17.4</td><td>186</td><td>3800</td></tr><tr><td>40.3</td><td>18.0</td><td>195</td><td>3250</td></tr><tr><td>null</td><td>null</td><td>null</td><td>null</td></tr><tr><td>36.7</td><td>19.3</td><td>193</td><td>3450</td></tr></tbody></table></div>"
      ],
      "text/plain": [
       "shape: (5, 4)\n",
       "┌────────────────┬───────────────┬───────────────────┬─────────────┐\n",
       "│ bill_length_mm ┆ bill_depth_mm ┆ flipper_length_mm ┆ body_mass_g │\n",
       "│ ---            ┆ ---           ┆ ---               ┆ ---         │\n",
       "│ f64            ┆ f64           ┆ i64               ┆ i64         │\n",
       "╞════════════════╪═══════════════╪═══════════════════╪═════════════╡\n",
       "│ 39.1           ┆ 18.7          ┆ 181               ┆ 3750        │\n",
       "│ 39.5           ┆ 17.4          ┆ 186               ┆ 3800        │\n",
       "│ 40.3           ┆ 18.0          ┆ 195               ┆ 3250        │\n",
       "│ null           ┆ null          ┆ null              ┆ null        │\n",
       "│ 36.7           ┆ 19.3          ┆ 193               ┆ 3450        │\n",
       "└────────────────┴───────────────┴───────────────────┴─────────────┘"
      ]
     },
     "execution_count": 61,
     "metadata": {},
     "output_type": "execute_result"
    }
   ],
   "source": [
    "#Select all numeric except year. The - acts as a set difference operator.\n",
    "(penguins\n",
    " .select(cs.numeric() - cs.matches(\"year\")) \n",
    " .head())"
   ]
  },
  {
   "cell_type": "markdown",
   "metadata": {},
   "source": [
    "### Filter\n",
    "\n",
    "![`filter` chooses which rows to keep or drop](df_images/filter.svg){width=75%}\n",
    "\n",
    "The `filter` command allows users to choose which rows to keep based upon some `boolean` conditions of the columns. For example one can select those penguins which have a `body_mass_g` greater than `3500`"
   ]
  },
  {
   "cell_type": "code",
   "execution_count": 64,
   "metadata": {},
   "outputs": [
    {
     "data": {
      "text/html": [
       "<div><style>\n",
       ".dataframe > thead > tr > th,\n",
       ".dataframe > tbody > tr > td {\n",
       "  text-align: right;\n",
       "}\n",
       "</style>\n",
       "<small>shape: (5, 8)</small><table border=\"1\" class=\"dataframe\"><thead><tr><th>species</th><th>island</th><th>bill_length_mm</th><th>bill_depth_mm</th><th>flipper_length_mm</th><th>body_mass_g</th><th>sex</th><th>year</th></tr><tr><td>str</td><td>str</td><td>f64</td><td>f64</td><td>i64</td><td>i64</td><td>str</td><td>i64</td></tr></thead><tbody><tr><td>&quot;Adelie&quot;</td><td>&quot;Torgersen&quot;</td><td>39.1</td><td>18.7</td><td>181</td><td>3750</td><td>&quot;male&quot;</td><td>2007</td></tr><tr><td>&quot;Adelie&quot;</td><td>&quot;Torgersen&quot;</td><td>39.5</td><td>17.4</td><td>186</td><td>3800</td><td>&quot;female&quot;</td><td>2007</td></tr><tr><td>&quot;Adelie&quot;</td><td>&quot;Torgersen&quot;</td><td>39.3</td><td>20.6</td><td>190</td><td>3650</td><td>&quot;male&quot;</td><td>2007</td></tr><tr><td>&quot;Adelie&quot;</td><td>&quot;Torgersen&quot;</td><td>38.9</td><td>17.8</td><td>181</td><td>3625</td><td>&quot;female&quot;</td><td>2007</td></tr><tr><td>&quot;Adelie&quot;</td><td>&quot;Torgersen&quot;</td><td>39.2</td><td>19.6</td><td>195</td><td>4675</td><td>&quot;male&quot;</td><td>2007</td></tr></tbody></table></div>"
      ],
      "text/plain": [
       "shape: (5, 8)\n",
       "┌─────────┬───────────┬───────────────┬───────────────┬──────────────┬─────────────┬────────┬──────┐\n",
       "│ species ┆ island    ┆ bill_length_m ┆ bill_depth_mm ┆ flipper_leng ┆ body_mass_g ┆ sex    ┆ year │\n",
       "│ ---     ┆ ---       ┆ m             ┆ ---           ┆ th_mm        ┆ ---         ┆ ---    ┆ ---  │\n",
       "│ str     ┆ str       ┆ ---           ┆ f64           ┆ ---          ┆ i64         ┆ str    ┆ i64  │\n",
       "│         ┆           ┆ f64           ┆               ┆ i64          ┆             ┆        ┆      │\n",
       "╞═════════╪═══════════╪═══════════════╪═══════════════╪══════════════╪═════════════╪════════╪══════╡\n",
       "│ Adelie  ┆ Torgersen ┆ 39.1          ┆ 18.7          ┆ 181          ┆ 3750        ┆ male   ┆ 2007 │\n",
       "│ Adelie  ┆ Torgersen ┆ 39.5          ┆ 17.4          ┆ 186          ┆ 3800        ┆ female ┆ 2007 │\n",
       "│ Adelie  ┆ Torgersen ┆ 39.3          ┆ 20.6          ┆ 190          ┆ 3650        ┆ male   ┆ 2007 │\n",
       "│ Adelie  ┆ Torgersen ┆ 38.9          ┆ 17.8          ┆ 181          ┆ 3625        ┆ female ┆ 2007 │\n",
       "│ Adelie  ┆ Torgersen ┆ 39.2          ┆ 19.6          ┆ 195          ┆ 4675        ┆ male   ┆ 2007 │\n",
       "└─────────┴───────────┴───────────────┴───────────────┴──────────────┴─────────────┴────────┴──────┘"
      ]
     },
     "execution_count": 64,
     "metadata": {},
     "output_type": "execute_result"
    }
   ],
   "source": [
    "(penguins\n",
    " .filter(pl.col(\"body_mass_g\") >= 3500)\n",
    " .head())"
   ]
  },
  {
   "cell_type": "markdown",
   "metadata": {},
   "source": [
    "More complicated filters can be obtained by combining the logical and `&`, or `|`, not `~` and difference `-` operators:"
   ]
  },
  {
   "cell_type": "code",
   "execution_count": 70,
   "metadata": {},
   "outputs": [
    {
     "data": {
      "text/html": [
       "<div><style>\n",
       ".dataframe > thead > tr > th,\n",
       ".dataframe > tbody > tr > td {\n",
       "  text-align: right;\n",
       "}\n",
       "</style>\n",
       "<small>shape: (5, 8)</small><table border=\"1\" class=\"dataframe\"><thead><tr><th>species</th><th>island</th><th>bill_length_mm</th><th>bill_depth_mm</th><th>flipper_length_mm</th><th>body_mass_g</th><th>sex</th><th>year</th></tr><tr><td>str</td><td>str</td><td>f64</td><td>f64</td><td>i64</td><td>i64</td><td>str</td><td>i64</td></tr></thead><tbody><tr><td>&quot;Gentoo&quot;</td><td>&quot;Biscoe&quot;</td><td>50.2</td><td>14.3</td><td>218</td><td>5700</td><td>&quot;male&quot;</td><td>2007</td></tr><tr><td>&quot;Gentoo&quot;</td><td>&quot;Biscoe&quot;</td><td>59.6</td><td>17.0</td><td>230</td><td>6050</td><td>&quot;male&quot;</td><td>2007</td></tr><tr><td>&quot;Gentoo&quot;</td><td>&quot;Biscoe&quot;</td><td>50.5</td><td>15.9</td><td>222</td><td>5550</td><td>&quot;male&quot;</td><td>2008</td></tr><tr><td>&quot;Gentoo&quot;</td><td>&quot;Biscoe&quot;</td><td>50.5</td><td>15.9</td><td>225</td><td>5400</td><td>&quot;male&quot;</td><td>2008</td></tr><tr><td>&quot;Gentoo&quot;</td><td>&quot;Biscoe&quot;</td><td>50.1</td><td>15.0</td><td>225</td><td>5000</td><td>&quot;male&quot;</td><td>2008</td></tr></tbody></table></div>"
      ],
      "text/plain": [
       "shape: (5, 8)\n",
       "┌─────────┬────────┬────────────────┬───────────────┬──────────────────┬─────────────┬──────┬──────┐\n",
       "│ species ┆ island ┆ bill_length_mm ┆ bill_depth_mm ┆ flipper_length_m ┆ body_mass_g ┆ sex  ┆ year │\n",
       "│ ---     ┆ ---    ┆ ---            ┆ ---           ┆ m                ┆ ---         ┆ ---  ┆ ---  │\n",
       "│ str     ┆ str    ┆ f64            ┆ f64           ┆ ---              ┆ i64         ┆ str  ┆ i64  │\n",
       "│         ┆        ┆                ┆               ┆ i64              ┆             ┆      ┆      │\n",
       "╞═════════╪════════╪════════════════╪═══════════════╪══════════════════╪═════════════╪══════╪══════╡\n",
       "│ Gentoo  ┆ Biscoe ┆ 50.2           ┆ 14.3          ┆ 218              ┆ 5700        ┆ male ┆ 2007 │\n",
       "│ Gentoo  ┆ Biscoe ┆ 59.6           ┆ 17.0          ┆ 230              ┆ 6050        ┆ male ┆ 2007 │\n",
       "│ Gentoo  ┆ Biscoe ┆ 50.5           ┆ 15.9          ┆ 222              ┆ 5550        ┆ male ┆ 2008 │\n",
       "│ Gentoo  ┆ Biscoe ┆ 50.5           ┆ 15.9          ┆ 225              ┆ 5400        ┆ male ┆ 2008 │\n",
       "│ Gentoo  ┆ Biscoe ┆ 50.1           ┆ 15.0          ┆ 225              ┆ 5000        ┆ male ┆ 2008 │\n",
       "└─────────┴────────┴────────────────┴───────────────┴──────────────────┴─────────────┴──────┴──────┘"
      ]
     },
     "execution_count": 70,
     "metadata": {},
     "output_type": "execute_result"
    }
   ],
   "source": [
    "# Keep only Gentoo penguins with bills larger than 50 or flippers smaller than 170. \n",
    "(penguins\n",
    " .filter((pl.col(\"species\") == \"Gentoo\") & ((pl.col(\"flipper_length_mm\") < 170) | (pl.col(\"bill_length_mm\") > 50)))\n",
    " .head())"
   ]
  },
  {
   "cell_type": "markdown",
   "metadata": {},
   "source": [
    "### Special selectors\n",
    "\n",
    "#### take_every\n",
    "returns every `nth` row of the DataFrame\n",
    "\n",
    "![`take_every` chooses every nth row](df_images/take_every.svg){width=75%}"
   ]
  },
  {
   "cell_type": "code",
   "execution_count": 72,
   "metadata": {},
   "outputs": [
    {
     "data": {
      "text/html": [
       "<div><style>\n",
       ".dataframe > thead > tr > th,\n",
       ".dataframe > tbody > tr > td {\n",
       "  text-align: right;\n",
       "}\n",
       "</style>\n",
       "<small>shape: (5, 8)</small><table border=\"1\" class=\"dataframe\"><thead><tr><th>species</th><th>island</th><th>bill_length_mm</th><th>bill_depth_mm</th><th>flipper_length_mm</th><th>body_mass_g</th><th>sex</th><th>year</th></tr><tr><td>str</td><td>str</td><td>f64</td><td>f64</td><td>i64</td><td>i64</td><td>str</td><td>i64</td></tr></thead><tbody><tr><td>&quot;Adelie&quot;</td><td>&quot;Torgersen&quot;</td><td>39.1</td><td>18.7</td><td>181</td><td>3750</td><td>&quot;male&quot;</td><td>2007</td></tr><tr><td>&quot;Adelie&quot;</td><td>&quot;Torgersen&quot;</td><td>null</td><td>null</td><td>null</td><td>null</td><td>null</td><td>2007</td></tr><tr><td>&quot;Adelie&quot;</td><td>&quot;Torgersen&quot;</td><td>38.9</td><td>17.8</td><td>181</td><td>3625</td><td>&quot;female&quot;</td><td>2007</td></tr><tr><td>&quot;Adelie&quot;</td><td>&quot;Torgersen&quot;</td><td>42.0</td><td>20.2</td><td>190</td><td>4250</td><td>null</td><td>2007</td></tr><tr><td>&quot;Adelie&quot;</td><td>&quot;Torgersen&quot;</td><td>41.1</td><td>17.6</td><td>182</td><td>3200</td><td>&quot;female&quot;</td><td>2007</td></tr></tbody></table></div>"
      ],
      "text/plain": [
       "shape: (5, 8)\n",
       "┌─────────┬───────────┬───────────────┬───────────────┬──────────────┬─────────────┬────────┬──────┐\n",
       "│ species ┆ island    ┆ bill_length_m ┆ bill_depth_mm ┆ flipper_leng ┆ body_mass_g ┆ sex    ┆ year │\n",
       "│ ---     ┆ ---       ┆ m             ┆ ---           ┆ th_mm        ┆ ---         ┆ ---    ┆ ---  │\n",
       "│ str     ┆ str       ┆ ---           ┆ f64           ┆ ---          ┆ i64         ┆ str    ┆ i64  │\n",
       "│         ┆           ┆ f64           ┆               ┆ i64          ┆             ┆        ┆      │\n",
       "╞═════════╪═══════════╪═══════════════╪═══════════════╪══════════════╪═════════════╪════════╪══════╡\n",
       "│ Adelie  ┆ Torgersen ┆ 39.1          ┆ 18.7          ┆ 181          ┆ 3750        ┆ male   ┆ 2007 │\n",
       "│ Adelie  ┆ Torgersen ┆ null          ┆ null          ┆ null         ┆ null        ┆ null   ┆ 2007 │\n",
       "│ Adelie  ┆ Torgersen ┆ 38.9          ┆ 17.8          ┆ 181          ┆ 3625        ┆ female ┆ 2007 │\n",
       "│ Adelie  ┆ Torgersen ┆ 42.0          ┆ 20.2          ┆ 190          ┆ 4250        ┆ null   ┆ 2007 │\n",
       "│ Adelie  ┆ Torgersen ┆ 41.1          ┆ 17.6          ┆ 182          ┆ 3200        ┆ female ┆ 2007 │\n",
       "└─────────┴───────────┴───────────────┴───────────────┴──────────────┴─────────────┴────────┴──────┘"
      ]
     },
     "execution_count": 72,
     "metadata": {},
     "output_type": "execute_result"
    }
   ],
   "source": [
    "#Return every third penguin\n",
    "(penguins\n",
    " .take_every(n=3)\n",
    " .head())"
   ]
  },
  {
   "cell_type": "markdown",
   "metadata": {},
   "source": [
    "#### `top_k` \n",
    "Returns the first `k` values of a column either by ascending or descending order\n",
    "\n",
    "![`top_k` chooses every nth row](df_images/top_k.svg){width=75%}"
   ]
  },
  {
   "cell_type": "code",
   "execution_count": 75,
   "metadata": {},
   "outputs": [
    {
     "data": {
      "text/html": [
       "<div><style>\n",
       ".dataframe > thead > tr > th,\n",
       ".dataframe > tbody > tr > td {\n",
       "  text-align: right;\n",
       "}\n",
       "</style>\n",
       "<small>shape: (5, 8)</small><table border=\"1\" class=\"dataframe\"><thead><tr><th>species</th><th>island</th><th>bill_length_mm</th><th>bill_depth_mm</th><th>flipper_length_mm</th><th>body_mass_g</th><th>sex</th><th>year</th></tr><tr><td>str</td><td>str</td><td>f64</td><td>f64</td><td>i64</td><td>i64</td><td>str</td><td>i64</td></tr></thead><tbody><tr><td>&quot;Chinstrap&quot;</td><td>&quot;Dream&quot;</td><td>46.9</td><td>16.6</td><td>192</td><td>2700</td><td>&quot;female&quot;</td><td>2008</td></tr><tr><td>&quot;Adelie&quot;</td><td>&quot;Biscoe&quot;</td><td>36.5</td><td>16.6</td><td>181</td><td>2850</td><td>&quot;female&quot;</td><td>2008</td></tr><tr><td>&quot;Adelie&quot;</td><td>&quot;Biscoe&quot;</td><td>36.4</td><td>17.1</td><td>184</td><td>2850</td><td>&quot;female&quot;</td><td>2008</td></tr><tr><td>&quot;Adelie&quot;</td><td>&quot;Torgersen&quot;</td><td>38.6</td><td>17.0</td><td>188</td><td>2900</td><td>&quot;female&quot;</td><td>2009</td></tr><tr><td>&quot;Adelie&quot;</td><td>&quot;Dream&quot;</td><td>33.1</td><td>16.1</td><td>178</td><td>2900</td><td>&quot;female&quot;</td><td>2008</td></tr></tbody></table></div>"
      ],
      "text/plain": [
       "shape: (5, 8)\n",
       "┌───────────┬───────────┬──────────────┬──────────────┬──────────────┬─────────────┬────────┬──────┐\n",
       "│ species   ┆ island    ┆ bill_length_ ┆ bill_depth_m ┆ flipper_leng ┆ body_mass_g ┆ sex    ┆ year │\n",
       "│ ---       ┆ ---       ┆ mm           ┆ m            ┆ th_mm        ┆ ---         ┆ ---    ┆ ---  │\n",
       "│ str       ┆ str       ┆ ---          ┆ ---          ┆ ---          ┆ i64         ┆ str    ┆ i64  │\n",
       "│           ┆           ┆ f64          ┆ f64          ┆ i64          ┆             ┆        ┆      │\n",
       "╞═══════════╪═══════════╪══════════════╪══════════════╪══════════════╪═════════════╪════════╪══════╡\n",
       "│ Chinstrap ┆ Dream     ┆ 46.9         ┆ 16.6         ┆ 192          ┆ 2700        ┆ female ┆ 2008 │\n",
       "│ Adelie    ┆ Biscoe    ┆ 36.5         ┆ 16.6         ┆ 181          ┆ 2850        ┆ female ┆ 2008 │\n",
       "│ Adelie    ┆ Biscoe    ┆ 36.4         ┆ 17.1         ┆ 184          ┆ 2850        ┆ female ┆ 2008 │\n",
       "│ Adelie    ┆ Torgersen ┆ 38.6         ┆ 17.0         ┆ 188          ┆ 2900        ┆ female ┆ 2009 │\n",
       "│ Adelie    ┆ Dream     ┆ 33.1         ┆ 16.1         ┆ 178          ┆ 2900        ┆ female ┆ 2008 │\n",
       "└───────────┴───────────┴──────────────┴──────────────┴──────────────┴─────────────┴────────┴──────┘"
      ]
     },
     "execution_count": 75,
     "metadata": {},
     "output_type": "execute_result"
    }
   ],
   "source": [
    "#Return the top 3 fatter penguins:\n",
    "(penguins\n",
    " .top_k(k=5, by = \"body_mass_g\", descending=True, nulls_last=True) \n",
    " .head())"
   ]
  },
  {
   "cell_type": "markdown",
   "metadata": {},
   "source": [
    "#### `drop_null` \n",
    "Removes all rows that have missing values in a certain column (leave blank for all columns)\n",
    "\n",
    "![`drop_null` removes all null rows that have null values from a column (or all columns)](df_images/drop_null.svg){width=75%}"
   ]
  },
  {
   "cell_type": "code",
   "execution_count": 85,
   "metadata": {},
   "outputs": [
    {
     "data": {
      "text/html": [
       "<div><style>\n",
       ".dataframe > thead > tr > th,\n",
       ".dataframe > tbody > tr > td {\n",
       "  text-align: right;\n",
       "}\n",
       "</style>\n",
       "<small>shape: (5, 8)</small><table border=\"1\" class=\"dataframe\"><thead><tr><th>species</th><th>island</th><th>bill_length_mm</th><th>bill_depth_mm</th><th>flipper_length_mm</th><th>body_mass_g</th><th>sex</th><th>year</th></tr><tr><td>str</td><td>str</td><td>f64</td><td>f64</td><td>i64</td><td>i64</td><td>str</td><td>i64</td></tr></thead><tbody><tr><td>&quot;Adelie&quot;</td><td>&quot;Torgersen&quot;</td><td>39.1</td><td>18.7</td><td>181</td><td>3750</td><td>&quot;male&quot;</td><td>2007</td></tr><tr><td>&quot;Adelie&quot;</td><td>&quot;Torgersen&quot;</td><td>38.9</td><td>17.8</td><td>181</td><td>3625</td><td>&quot;female&quot;</td><td>2007</td></tr><tr><td>&quot;Adelie&quot;</td><td>&quot;Torgersen&quot;</td><td>42.0</td><td>20.2</td><td>190</td><td>4250</td><td>null</td><td>2007</td></tr><tr><td>&quot;Adelie&quot;</td><td>&quot;Torgersen&quot;</td><td>41.1</td><td>17.6</td><td>182</td><td>3200</td><td>&quot;female&quot;</td><td>2007</td></tr><tr><td>&quot;Adelie&quot;</td><td>&quot;Torgersen&quot;</td><td>36.6</td><td>17.8</td><td>185</td><td>3700</td><td>&quot;female&quot;</td><td>2007</td></tr></tbody></table></div>"
      ],
      "text/plain": [
       "shape: (5, 8)\n",
       "┌─────────┬───────────┬───────────────┬───────────────┬──────────────┬─────────────┬────────┬──────┐\n",
       "│ species ┆ island    ┆ bill_length_m ┆ bill_depth_mm ┆ flipper_leng ┆ body_mass_g ┆ sex    ┆ year │\n",
       "│ ---     ┆ ---       ┆ m             ┆ ---           ┆ th_mm        ┆ ---         ┆ ---    ┆ ---  │\n",
       "│ str     ┆ str       ┆ ---           ┆ f64           ┆ ---          ┆ i64         ┆ str    ┆ i64  │\n",
       "│         ┆           ┆ f64           ┆               ┆ i64          ┆             ┆        ┆      │\n",
       "╞═════════╪═══════════╪═══════════════╪═══════════════╪══════════════╪═════════════╪════════╪══════╡\n",
       "│ Adelie  ┆ Torgersen ┆ 39.1          ┆ 18.7          ┆ 181          ┆ 3750        ┆ male   ┆ 2007 │\n",
       "│ Adelie  ┆ Torgersen ┆ 38.9          ┆ 17.8          ┆ 181          ┆ 3625        ┆ female ┆ 2007 │\n",
       "│ Adelie  ┆ Torgersen ┆ 42.0          ┆ 20.2          ┆ 190          ┆ 4250        ┆ null   ┆ 2007 │\n",
       "│ Adelie  ┆ Torgersen ┆ 41.1          ┆ 17.6          ┆ 182          ┆ 3200        ┆ female ┆ 2007 │\n",
       "│ Adelie  ┆ Torgersen ┆ 36.6          ┆ 17.8          ┆ 185          ┆ 3700        ┆ female ┆ 2007 │\n",
       "└─────────┴───────────┴───────────────┴───────────────┴──────────────┴─────────────┴────────┴──────┘"
      ]
     },
     "execution_count": 85,
     "metadata": {},
     "output_type": "execute_result"
    }
   ],
   "source": [
    "#Compare against the take_every 3 previously specified\n",
    "(penguins\n",
    " .take_every(n=3)\n",
    " .drop_nulls([\"bill_length_mm\"])\n",
    " .head())"
   ]
  },
  {
   "cell_type": "markdown",
   "metadata": {},
   "source": [
    "### Exercise\n",
    "\n",
    "Answer the following questions:\n",
    "\n",
    "1. How many Adelie penguins are from Biscoe Island?\n",
    "   \n",
    "2. What is the proportion of male penguins in the database?\n",
    "   \n",
    "3. What's the probability that a penguin with flippers less than `200` mm has a body mass greater than 5000?\n",
    "\n",
    "4. Which species has the penguins with the largest bills?"
   ]
  },
  {
   "cell_type": "markdown",
   "metadata": {},
   "source": [
    "## How to "
   ]
  }
 ],
 "metadata": {
  "kernelspec": {
   "display_name": "Python 3 (ipykernel)",
   "language": "python",
   "name": "python3"
  },
  "language_info": {
   "codemirror_mode": {
    "name": "ipython",
    "version": 3
   },
   "file_extension": ".py",
   "mimetype": "text/x-python",
   "name": "python",
   "nbconvert_exporter": "python",
   "pygments_lexer": "ipython3",
   "version": "3.10.12"
  }
 },
 "nbformat": 4,
 "nbformat_minor": 4
}
