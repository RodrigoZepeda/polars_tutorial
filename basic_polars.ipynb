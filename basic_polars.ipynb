{
 "cells": [
  {
   "cell_type": "markdown",
   "metadata": {},
   "source": [
    "---\n",
    "title: \"Polars crashcourse (part 1)\"\n",
    "date: \"08/10/2023\"\n",
    "author: \n",
    "    name: \"Rodrigo Zepeda-Tello\"\n",
    "title-block-banner: true\n",
    "toc: true\n",
    "number-sections: true\n",
    "format: \n",
    "  html:\n",
    "    fontsize: 1.1em\n",
    "    code-fold: false\n",
    "    code-tools: true\n",
    "    page-layout: full\n",
    "    body-width: 1200px\n",
    "jupyter: python3\n",
    "---"
   ]
  },
  {
   "cell_type": "markdown",
   "metadata": {
    "collapsed": false,
    "jupyter": {
     "outputs_hidden": false
    }
   },
   "source": [
    "::: {.callout-important title=\"Notebook\"}\n",
    "You can download this notebook [from Github](https://github.com/RodrigoZepeda/polars_tutorial/blob/main/basic_polars.ipynb)\n",
    ":::\n",
    "\n",
    "# Why polars?\n",
    "\n",
    "There are three characteristics which, from my perspective, make `polars` a pretty cool library:\n",
    "\n",
    "1. **Allows for data larger than RAM**: It helps manipulate datasets that are larger than `RAM` memory. This means that you can manipulate any data as long as it fits your hard-drive.\n",
    "\n",
    "2. **Fast** A [quick comparison of `polars` vs `pandas`](https://www.datacamp.com/tutorial/high-performance-data-manipulation-in-python-pandas2-vs-polars) shows that `polars` is faster from [2x up to 46x times faster than `pandas`](https://www.pola.rs/benchmarks.html).\n",
    "\n",
    "   a. One of the key reasons polars is faster is that it allows for `parallel` computation out-of-the -box.\n",
    "   \n",
    "   b. `Polars` allows the user to perform `lazy` evaluations (to be explained later) and thus optimizes queries.\n",
    "\n",
    "You can get more info about `polars` [at their website](https://www.pola.rs/). \n"
   ]
  },
  {
   "cell_type": "markdown",
   "metadata": {},
   "source": [
    "# Preparing for the tutorial\n",
    "\n",
    "## Installation \n",
    "\n",
    "### From pip\n",
    "\n",
    "If you are using `pip` you can install via: \n",
    "```bash\n",
    "pip install polars[all]\n",
    "```\n",
    "\n",
    "### From conda\n",
    "\n",
    "If you are using `conda`, first activate your environment and then:\n",
    "```bash\n",
    "conda install -c conda-forge -y polars numpy pyarrow xlsx2csv pandas\n",
    "```\n",
    "\n",
    "If you are using Windows you might also need to install the `timezone` package.\n"
   ]
  },
  {
   "cell_type": "markdown",
   "metadata": {},
   "source": [
    "## Data\n",
    "\n",
    "For the purpose of the tutorial I'm using three different databases.\n",
    "\n",
    "1. **covidmx.parquet** Mexico's COVID-19 cases open dataset. This database contains millions of registries that cannot be processed in using RAM memory only. The original data has been downloaded from [Mexico's Health Ministry](https://www.gob.mx/salud/documentos/datos-abiertos-152127). However, for the purpose of this tutorial I've already pre-formatted the data from the ministry.\n",
    "\n",
    "2. **inegi_population.csv** Mexico's population by state, municipality and locality according to 2020's census. Data comes from Mexico's Institute of Statistics and Geography (INEGI). \n",
    "\n",
    "3. **penguins.csv** The classical [`palmerpenguins`](https://allisonhorst.github.io/palmerpenguins/) dataset. Contains information of penguins in Antartida collected from the Palmer Station. \n",
    "\n",
    "::: {.callout-important title=\"Data\"}\n",
    "Download the data from the [Open Science Framework](https://www.doi.org/10.17605/OSF.IO/B5U7K) and save it into your working directory.\n",
    ":::\n",
    "\n"
   ]
  },
  {
   "cell_type": "markdown",
   "metadata": {},
   "source": [
    "## Additional modules\n",
    "\n",
    "Some of the modules we are using for this tutorial are:\n",
    "\n",
    "1. **os** For setting file paths, directories and other operating-system dependent functions.\n",
    "   \n",
    "2. **polars** Basic for the tutorial!\n",
    "   \n",
    "3. **pandas** To transform the data so that the jupyter notebook and the seaborn plots can use them\n",
    "      \n",
    "4. **numpy** For special numeric functions\n"
   ]
  },
  {
   "cell_type": "code",
   "execution_count": 1,
   "metadata": {},
   "outputs": [],
   "source": [
    "## Loading modules\n",
    "import os\n",
    "import polars as pl\n",
    "import pandas as pd\n",
    "import seaborn as sns\n",
    "import numpy as np"
   ]
  },
  {
   "cell_type": "markdown",
   "metadata": {
    "collapsed": false,
    "jupyter": {
     "outputs_hidden": false
    }
   },
   "source": [
    "# Reading data\n",
    "\n",
    "## Basic reading\n",
    "\n",
    "Data can be read from `csv` files (`read_csv`), `parquet` files[^1] (`read_parquet`), `Excel` files (`read_excel`) and databases from other sources such as `SQL` (`read_database`) and Delta Lakes (`read_delta`). See [the documentation](https://pola-rs.github.io/polars/py-polars/html/reference/io.html) for more database-input options. \n",
    "\n",
    "[^1]: Text files optimized for columnar data\n",
    "\n",
    "One can read the penguins `csv` file:\n"
   ]
  },
  {
   "cell_type": "code",
   "execution_count": 2,
   "metadata": {},
   "outputs": [],
   "source": [
    "penguins = pl.read_csv(\"penguins.csv\", null_values = \"NA\") #Missing values in the csv are represented as \"NA\""
   ]
  },
  {
   "cell_type": "markdown",
   "metadata": {},
   "source": [
    "A quick description of the variables can be obtained with `glimpse`:"
   ]
  },
  {
   "cell_type": "code",
   "execution_count": 3,
   "metadata": {},
   "outputs": [
    {
     "name": "stdout",
     "output_type": "stream",
     "text": [
      "Rows: 344\n",
      "Columns: 8\n",
      "$ species           <str> Adelie, Adelie, Adelie, Adelie, Adelie, Adelie, Adelie, Adelie, Adelie, Adelie\n",
      "$ island            <str> Torgersen, Torgersen, Torgersen, Torgersen, Torgersen, Torgersen, Torgersen, Torgersen, Torgersen, Torgersen\n",
      "$ bill_length_mm    <f64> 39.1, 39.5, 40.3, None, 36.7, 39.3, 38.9, 39.2, 34.1, 42.0\n",
      "$ bill_depth_mm     <f64> 18.7, 17.4, 18.0, None, 19.3, 20.6, 17.8, 19.6, 18.1, 20.2\n",
      "$ flipper_length_mm <i64> 181, 186, 195, None, 193, 190, 181, 195, 193, 190\n",
      "$ body_mass_g       <i64> 3750, 3800, 3250, None, 3450, 3650, 3625, 4675, 3475, 4250\n",
      "$ sex               <str> male, female, female, None, female, male, female, male, None, None\n",
      "$ year              <i64> 2007, 2007, 2007, 2007, 2007, 2007, 2007, 2007, 2007, 2007\n",
      "\n"
     ]
    }
   ],
   "source": [
    "penguins.glimpse()"
   ]
  },
  {
   "cell_type": "markdown",
   "metadata": {},
   "source": [
    "One can obtain descriptors for the number of rows and number of columns with the `shape` attribute:"
   ]
  },
  {
   "cell_type": "code",
   "execution_count": 4,
   "metadata": {},
   "outputs": [
    {
     "data": {
      "text/plain": [
       "(344, 8)"
      ]
     },
     "execution_count": 4,
     "metadata": {},
     "output_type": "execute_result"
    }
   ],
   "source": [
    "penguins.shape"
   ]
  },
  {
   "cell_type": "markdown",
   "metadata": {},
   "source": [
    "Equivalent attributes are the `width` (number of columns) and `height` (number of rows)"
   ]
  },
  {
   "cell_type": "code",
   "execution_count": 5,
   "metadata": {},
   "outputs": [
    {
     "name": "stdout",
     "output_type": "stream",
     "text": [
      "There are 8 columns,\n",
      "and 344 rows.\n"
     ]
    }
   ],
   "source": [
    "print(\"There are %d columns,\" % penguins.width)\n",
    "print(\"and %d rows.\" % penguins.height)"
   ]
  },
  {
   "cell_type": "markdown",
   "metadata": {},
   "source": [
    "One can also take a look at the first `n=7` rows with `head`:"
   ]
  },
  {
   "cell_type": "code",
   "execution_count": 6,
   "metadata": {},
   "outputs": [
    {
     "data": {
      "text/html": [
       "<div><style>\n",
       ".dataframe > thead > tr > th,\n",
       ".dataframe > tbody > tr > td {\n",
       "  text-align: right;\n",
       "}\n",
       "</style>\n",
       "<small>shape: (7, 8)</small><table border=\"1\" class=\"dataframe\"><thead><tr><th>species</th><th>island</th><th>bill_length_mm</th><th>bill_depth_mm</th><th>flipper_length_mm</th><th>body_mass_g</th><th>sex</th><th>year</th></tr><tr><td>str</td><td>str</td><td>f64</td><td>f64</td><td>i64</td><td>i64</td><td>str</td><td>i64</td></tr></thead><tbody><tr><td>&quot;Adelie&quot;</td><td>&quot;Torgersen&quot;</td><td>39.1</td><td>18.7</td><td>181</td><td>3750</td><td>&quot;male&quot;</td><td>2007</td></tr><tr><td>&quot;Adelie&quot;</td><td>&quot;Torgersen&quot;</td><td>39.5</td><td>17.4</td><td>186</td><td>3800</td><td>&quot;female&quot;</td><td>2007</td></tr><tr><td>&quot;Adelie&quot;</td><td>&quot;Torgersen&quot;</td><td>40.3</td><td>18.0</td><td>195</td><td>3250</td><td>&quot;female&quot;</td><td>2007</td></tr><tr><td>&quot;Adelie&quot;</td><td>&quot;Torgersen&quot;</td><td>null</td><td>null</td><td>null</td><td>null</td><td>null</td><td>2007</td></tr><tr><td>&quot;Adelie&quot;</td><td>&quot;Torgersen&quot;</td><td>36.7</td><td>19.3</td><td>193</td><td>3450</td><td>&quot;female&quot;</td><td>2007</td></tr><tr><td>&quot;Adelie&quot;</td><td>&quot;Torgersen&quot;</td><td>39.3</td><td>20.6</td><td>190</td><td>3650</td><td>&quot;male&quot;</td><td>2007</td></tr><tr><td>&quot;Adelie&quot;</td><td>&quot;Torgersen&quot;</td><td>38.9</td><td>17.8</td><td>181</td><td>3625</td><td>&quot;female&quot;</td><td>2007</td></tr></tbody></table></div>"
      ],
      "text/plain": [
       "shape: (7, 8)\n",
       "┌─────────┬───────────┬───────────────┬───────────────┬──────────────┬─────────────┬────────┬──────┐\n",
       "│ species ┆ island    ┆ bill_length_m ┆ bill_depth_mm ┆ flipper_leng ┆ body_mass_g ┆ sex    ┆ year │\n",
       "│ ---     ┆ ---       ┆ m             ┆ ---           ┆ th_mm        ┆ ---         ┆ ---    ┆ ---  │\n",
       "│ str     ┆ str       ┆ ---           ┆ f64           ┆ ---          ┆ i64         ┆ str    ┆ i64  │\n",
       "│         ┆           ┆ f64           ┆               ┆ i64          ┆             ┆        ┆      │\n",
       "╞═════════╪═══════════╪═══════════════╪═══════════════╪══════════════╪═════════════╪════════╪══════╡\n",
       "│ Adelie  ┆ Torgersen ┆ 39.1          ┆ 18.7          ┆ 181          ┆ 3750        ┆ male   ┆ 2007 │\n",
       "│ Adelie  ┆ Torgersen ┆ 39.5          ┆ 17.4          ┆ 186          ┆ 3800        ┆ female ┆ 2007 │\n",
       "│ Adelie  ┆ Torgersen ┆ 40.3          ┆ 18.0          ┆ 195          ┆ 3250        ┆ female ┆ 2007 │\n",
       "│ Adelie  ┆ Torgersen ┆ null          ┆ null          ┆ null         ┆ null        ┆ null   ┆ 2007 │\n",
       "│ Adelie  ┆ Torgersen ┆ 36.7          ┆ 19.3          ┆ 193          ┆ 3450        ┆ female ┆ 2007 │\n",
       "│ Adelie  ┆ Torgersen ┆ 39.3          ┆ 20.6          ┆ 190          ┆ 3650        ┆ male   ┆ 2007 │\n",
       "│ Adelie  ┆ Torgersen ┆ 38.9          ┆ 17.8          ┆ 181          ┆ 3625        ┆ female ┆ 2007 │\n",
       "└─────────┴───────────┴───────────────┴───────────────┴──────────────┴─────────────┴────────┴──────┘"
      ]
     },
     "execution_count": 6,
     "metadata": {},
     "output_type": "execute_result"
    }
   ],
   "source": [
    "penguins.head(n=7)"
   ]
  },
  {
   "cell_type": "markdown",
   "metadata": {},
   "source": [
    "The last `n=3` rows of the dataset can be displayed with `tail`:"
   ]
  },
  {
   "cell_type": "code",
   "execution_count": 7,
   "metadata": {},
   "outputs": [
    {
     "data": {
      "text/html": [
       "<div><style>\n",
       ".dataframe > thead > tr > th,\n",
       ".dataframe > tbody > tr > td {\n",
       "  text-align: right;\n",
       "}\n",
       "</style>\n",
       "<small>shape: (3, 8)</small><table border=\"1\" class=\"dataframe\"><thead><tr><th>species</th><th>island</th><th>bill_length_mm</th><th>bill_depth_mm</th><th>flipper_length_mm</th><th>body_mass_g</th><th>sex</th><th>year</th></tr><tr><td>str</td><td>str</td><td>f64</td><td>f64</td><td>i64</td><td>i64</td><td>str</td><td>i64</td></tr></thead><tbody><tr><td>&quot;Chinstrap&quot;</td><td>&quot;Dream&quot;</td><td>49.6</td><td>18.2</td><td>193</td><td>3775</td><td>&quot;male&quot;</td><td>2009</td></tr><tr><td>&quot;Chinstrap&quot;</td><td>&quot;Dream&quot;</td><td>50.8</td><td>19.0</td><td>210</td><td>4100</td><td>&quot;male&quot;</td><td>2009</td></tr><tr><td>&quot;Chinstrap&quot;</td><td>&quot;Dream&quot;</td><td>50.2</td><td>18.7</td><td>198</td><td>3775</td><td>&quot;female&quot;</td><td>2009</td></tr></tbody></table></div>"
      ],
      "text/plain": [
       "shape: (3, 8)\n",
       "┌───────────┬────────┬───────────────┬───────────────┬───────────────┬─────────────┬────────┬──────┐\n",
       "│ species   ┆ island ┆ bill_length_m ┆ bill_depth_mm ┆ flipper_lengt ┆ body_mass_g ┆ sex    ┆ year │\n",
       "│ ---       ┆ ---    ┆ m             ┆ ---           ┆ h_mm          ┆ ---         ┆ ---    ┆ ---  │\n",
       "│ str       ┆ str    ┆ ---           ┆ f64           ┆ ---           ┆ i64         ┆ str    ┆ i64  │\n",
       "│           ┆        ┆ f64           ┆               ┆ i64           ┆             ┆        ┆      │\n",
       "╞═══════════╪════════╪═══════════════╪═══════════════╪═══════════════╪═════════════╪════════╪══════╡\n",
       "│ Chinstrap ┆ Dream  ┆ 49.6          ┆ 18.2          ┆ 193           ┆ 3775        ┆ male   ┆ 2009 │\n",
       "│ Chinstrap ┆ Dream  ┆ 50.8          ┆ 19.0          ┆ 210           ┆ 4100        ┆ male   ┆ 2009 │\n",
       "│ Chinstrap ┆ Dream  ┆ 50.2          ┆ 18.7          ┆ 198           ┆ 3775        ┆ female ┆ 2009 │\n",
       "└───────────┴────────┴───────────────┴───────────────┴───────────────┴─────────────┴────────┴──────┘"
      ]
     },
     "execution_count": 7,
     "metadata": {},
     "output_type": "execute_result"
    }
   ],
   "source": [
    "penguins.tail(n=3)"
   ]
  },
  {
   "cell_type": "markdown",
   "metadata": {},
   "source": [
    "By default, jupyter notebooks only allow us to display a certain amount of rows (`display.max_rows`), columns (`display.max_columns`) and with a certain width (`display.max_colwidth`). This can be changed globally by putting `pd.option_context` at the start of the script or just for one print with a `with` (which creates a [context](https://book.pythontips.com/en/latest/context_managers.html)). As jupyter is designed for `pandas` one needs to convert the polars `DataFrame` into a `pandas` one with `to_pandas()`. For example, here we are only showing the first `3` columns (including the row number) and `12` rows: "
   ]
  },
  {
   "cell_type": "code",
   "execution_count": 8,
   "metadata": {},
   "outputs": [
    {
     "data": {
      "text/html": [
       "<div>\n",
       "<style scoped>\n",
       "    .dataframe tbody tr th:only-of-type {\n",
       "        vertical-align: middle;\n",
       "    }\n",
       "\n",
       "    .dataframe tbody tr th {\n",
       "        vertical-align: top;\n",
       "    }\n",
       "\n",
       "    .dataframe thead th {\n",
       "        text-align: right;\n",
       "    }\n",
       "</style>\n",
       "<table border=\"1\" class=\"dataframe\">\n",
       "  <thead>\n",
       "    <tr style=\"text-align: right;\">\n",
       "      <th></th>\n",
       "      <th>species</th>\n",
       "      <th>...</th>\n",
       "      <th>year</th>\n",
       "    </tr>\n",
       "  </thead>\n",
       "  <tbody>\n",
       "    <tr>\n",
       "      <th>0</th>\n",
       "      <td>Adelie</td>\n",
       "      <td>...</td>\n",
       "      <td>2007</td>\n",
       "    </tr>\n",
       "    <tr>\n",
       "      <th>1</th>\n",
       "      <td>Adelie</td>\n",
       "      <td>...</td>\n",
       "      <td>2007</td>\n",
       "    </tr>\n",
       "    <tr>\n",
       "      <th>2</th>\n",
       "      <td>Adelie</td>\n",
       "      <td>...</td>\n",
       "      <td>2007</td>\n",
       "    </tr>\n",
       "    <tr>\n",
       "      <th>3</th>\n",
       "      <td>Adelie</td>\n",
       "      <td>...</td>\n",
       "      <td>2007</td>\n",
       "    </tr>\n",
       "    <tr>\n",
       "      <th>4</th>\n",
       "      <td>Adelie</td>\n",
       "      <td>...</td>\n",
       "      <td>2007</td>\n",
       "    </tr>\n",
       "    <tr>\n",
       "      <th>5</th>\n",
       "      <td>Adelie</td>\n",
       "      <td>...</td>\n",
       "      <td>2007</td>\n",
       "    </tr>\n",
       "    <tr>\n",
       "      <th>6</th>\n",
       "      <td>Adelie</td>\n",
       "      <td>...</td>\n",
       "      <td>2007</td>\n",
       "    </tr>\n",
       "    <tr>\n",
       "      <th>7</th>\n",
       "      <td>Adelie</td>\n",
       "      <td>...</td>\n",
       "      <td>2007</td>\n",
       "    </tr>\n",
       "    <tr>\n",
       "      <th>8</th>\n",
       "      <td>Adelie</td>\n",
       "      <td>...</td>\n",
       "      <td>2007</td>\n",
       "    </tr>\n",
       "    <tr>\n",
       "      <th>9</th>\n",
       "      <td>Adelie</td>\n",
       "      <td>...</td>\n",
       "      <td>2007</td>\n",
       "    </tr>\n",
       "    <tr>\n",
       "      <th>10</th>\n",
       "      <td>Adelie</td>\n",
       "      <td>...</td>\n",
       "      <td>2007</td>\n",
       "    </tr>\n",
       "    <tr>\n",
       "      <th>11</th>\n",
       "      <td>Adelie</td>\n",
       "      <td>...</td>\n",
       "      <td>2007</td>\n",
       "    </tr>\n",
       "  </tbody>\n",
       "</table>\n",
       "<p>12 rows × 8 columns</p>\n",
       "</div>"
      ],
      "text/plain": [
       "   species  ...  year\n",
       "0   Adelie  ...  2007\n",
       "1   Adelie  ...  2007\n",
       "2   Adelie  ...  2007\n",
       "3   Adelie  ...  2007\n",
       "4   Adelie  ...  2007\n",
       "5   Adelie  ...  2007\n",
       "6   Adelie  ...  2007\n",
       "7   Adelie  ...  2007\n",
       "8   Adelie  ...  2007\n",
       "9   Adelie  ...  2007\n",
       "10  Adelie  ...  2007\n",
       "11  Adelie  ...  2007\n",
       "\n",
       "[12 rows x 8 columns]"
      ]
     },
     "metadata": {},
     "output_type": "display_data"
    }
   ],
   "source": [
    "with pd.option_context('display.max_rows', 12, 'display.max_columns', 3,'display.max_colwidth', None):\n",
    "    display(penguins.to_pandas().head(n=12)) #Notice that head must be specified here"
   ]
  },
  {
   "cell_type": "markdown",
   "metadata": {},
   "source": [
    "The `sample` command obtains a random sample (without replacement) of the rows of size `n` and keeps it. This command is ideal for debugging `polars` programs as it allows the user to create a smaller database of which one can keep a track of. For example, the following obtains a random sample of size `9` of the data: "
   ]
  },
  {
   "cell_type": "code",
   "execution_count": 9,
   "metadata": {},
   "outputs": [
    {
     "data": {
      "text/html": [
       "<div><style>\n",
       ".dataframe > thead > tr > th,\n",
       ".dataframe > tbody > tr > td {\n",
       "  text-align: right;\n",
       "}\n",
       "</style>\n",
       "<small>shape: (9, 8)</small><table border=\"1\" class=\"dataframe\"><thead><tr><th>species</th><th>island</th><th>bill_length_mm</th><th>bill_depth_mm</th><th>flipper_length_mm</th><th>body_mass_g</th><th>sex</th><th>year</th></tr><tr><td>str</td><td>str</td><td>f64</td><td>f64</td><td>i64</td><td>i64</td><td>str</td><td>i64</td></tr></thead><tbody><tr><td>&quot;Adelie&quot;</td><td>&quot;Biscoe&quot;</td><td>37.6</td><td>19.1</td><td>194</td><td>3750</td><td>&quot;male&quot;</td><td>2008</td></tr><tr><td>&quot;Gentoo&quot;</td><td>&quot;Biscoe&quot;</td><td>45.0</td><td>15.4</td><td>220</td><td>5050</td><td>&quot;male&quot;</td><td>2008</td></tr><tr><td>&quot;Adelie&quot;</td><td>&quot;Biscoe&quot;</td><td>36.5</td><td>16.6</td><td>181</td><td>2850</td><td>&quot;female&quot;</td><td>2008</td></tr><tr><td>&quot;Gentoo&quot;</td><td>&quot;Biscoe&quot;</td><td>52.2</td><td>17.1</td><td>228</td><td>5400</td><td>&quot;male&quot;</td><td>2009</td></tr><tr><td>&quot;Adelie&quot;</td><td>&quot;Biscoe&quot;</td><td>38.6</td><td>17.2</td><td>199</td><td>3750</td><td>&quot;female&quot;</td><td>2009</td></tr><tr><td>&quot;Chinstrap&quot;</td><td>&quot;Dream&quot;</td><td>49.0</td><td>19.5</td><td>210</td><td>3950</td><td>&quot;male&quot;</td><td>2008</td></tr><tr><td>&quot;Adelie&quot;</td><td>&quot;Dream&quot;</td><td>39.5</td><td>16.7</td><td>178</td><td>3250</td><td>&quot;female&quot;</td><td>2007</td></tr><tr><td>&quot;Gentoo&quot;</td><td>&quot;Biscoe&quot;</td><td>49.6</td><td>16.0</td><td>225</td><td>5700</td><td>&quot;male&quot;</td><td>2008</td></tr><tr><td>&quot;Chinstrap&quot;</td><td>&quot;Dream&quot;</td><td>49.6</td><td>18.2</td><td>193</td><td>3775</td><td>&quot;male&quot;</td><td>2009</td></tr></tbody></table></div>"
      ],
      "text/plain": [
       "shape: (9, 8)\n",
       "┌───────────┬────────┬───────────────┬───────────────┬───────────────┬─────────────┬────────┬──────┐\n",
       "│ species   ┆ island ┆ bill_length_m ┆ bill_depth_mm ┆ flipper_lengt ┆ body_mass_g ┆ sex    ┆ year │\n",
       "│ ---       ┆ ---    ┆ m             ┆ ---           ┆ h_mm          ┆ ---         ┆ ---    ┆ ---  │\n",
       "│ str       ┆ str    ┆ ---           ┆ f64           ┆ ---           ┆ i64         ┆ str    ┆ i64  │\n",
       "│           ┆        ┆ f64           ┆               ┆ i64           ┆             ┆        ┆      │\n",
       "╞═══════════╪════════╪═══════════════╪═══════════════╪═══════════════╪═════════════╪════════╪══════╡\n",
       "│ Adelie    ┆ Biscoe ┆ 37.6          ┆ 19.1          ┆ 194           ┆ 3750        ┆ male   ┆ 2008 │\n",
       "│ Gentoo    ┆ Biscoe ┆ 45.0          ┆ 15.4          ┆ 220           ┆ 5050        ┆ male   ┆ 2008 │\n",
       "│ Adelie    ┆ Biscoe ┆ 36.5          ┆ 16.6          ┆ 181           ┆ 2850        ┆ female ┆ 2008 │\n",
       "│ Gentoo    ┆ Biscoe ┆ 52.2          ┆ 17.1          ┆ 228           ┆ 5400        ┆ male   ┆ 2009 │\n",
       "│ Adelie    ┆ Biscoe ┆ 38.6          ┆ 17.2          ┆ 199           ┆ 3750        ┆ female ┆ 2009 │\n",
       "│ Chinstrap ┆ Dream  ┆ 49.0          ┆ 19.5          ┆ 210           ┆ 3950        ┆ male   ┆ 2008 │\n",
       "│ Adelie    ┆ Dream  ┆ 39.5          ┆ 16.7          ┆ 178           ┆ 3250        ┆ female ┆ 2007 │\n",
       "│ Gentoo    ┆ Biscoe ┆ 49.6          ┆ 16.0          ┆ 225           ┆ 5700        ┆ male   ┆ 2008 │\n",
       "│ Chinstrap ┆ Dream  ┆ 49.6          ┆ 18.2          ┆ 193           ┆ 3775        ┆ male   ┆ 2009 │\n",
       "└───────────┴────────┴───────────────┴───────────────┴───────────────┴─────────────┴────────┴──────┘"
      ]
     },
     "execution_count": 9,
     "metadata": {},
     "output_type": "execute_result"
    }
   ],
   "source": [
    "penguins.sample(n = 9)"
   ]
  },
  {
   "cell_type": "markdown",
   "metadata": {},
   "source": [
    "To obtain an array of the column names one can do:"
   ]
  },
  {
   "cell_type": "code",
   "execution_count": 10,
   "metadata": {},
   "outputs": [
    {
     "data": {
      "text/plain": [
       "['species',\n",
       " 'island',\n",
       " 'bill_length_mm',\n",
       " 'bill_depth_mm',\n",
       " 'flipper_length_mm',\n",
       " 'body_mass_g',\n",
       " 'sex',\n",
       " 'year']"
      ]
     },
     "execution_count": 10,
     "metadata": {},
     "output_type": "execute_result"
    }
   ],
   "source": [
    "penguins.columns"
   ]
  },
  {
   "cell_type": "markdown",
   "metadata": {},
   "source": [
    "## Advanced reading (scanning)\n",
    "\n",
    "Larger datasets benefit from `scanning`. When a file is `scanned` it is not read. `polars` only registers that it `will`read it. To actually read it you need to perform a `collect` after a scan. This is useful as `polars` optimizes all the queries you produce into the scan so that when you `collect` you obtain a `faster` result than performing the operations one by one. \n",
    "\n",
    "Let's see an example by reading the `covidmx` dataset and removing all rows except for those ones that occured in Mexico City which corresponds to `ENTIDAD_UM == \"09\"`. "
   ]
  },
  {
   "cell_type": "code",
   "execution_count": 11,
   "metadata": {},
   "outputs": [
    {
     "name": "stdout",
     "output_type": "stream",
     "text": [
      "20.9 s ± 0 ns per loop (mean ± std. dev. of 1 run, 1 loop each)\n"
     ]
    }
   ],
   "source": [
    "%timeit -n1 -r1 pl.read_parquet(\"covidmx.parquet\").filter(pl.col(\"ENTIDAD_UM\") == \"09\")"
   ]
  },
  {
   "cell_type": "markdown",
   "metadata": {},
   "source": [
    "The previous line `reads` the complete file _and then_  filters by ensuring to keep only the values where the column `ENTIDAD_UM` equals `\"09\"`. If we use `scan` its way faster as it will collapses the `scan` and the `filter` into one operation and reads only the columns that have a `09` value"
   ]
  },
  {
   "cell_type": "code",
   "execution_count": 12,
   "metadata": {},
   "outputs": [
    {
     "name": "stdout",
     "output_type": "stream",
     "text": [
      "9.13 s ± 0 ns per loop (mean ± std. dev. of 1 run, 1 loop each)\n"
     ]
    }
   ],
   "source": [
    "%timeit -n1 -r1 pl.scan_parquet(\"covidmx.parquet\").filter(pl.col(\"ENTIDAD_UM\") == \"09\").collect()"
   ]
  },
  {
   "cell_type": "markdown",
   "metadata": {},
   "source": [
    "This idea of not conducting all operations till all the queries are given is called **[lazy evaluation](https://en.wikipedia.org/wiki/Lazy_evaluation)** and is one of the keys for `polars`' speed. "
   ]
  },
  {
   "cell_type": "markdown",
   "metadata": {},
   "source": [
    "## Exercise\n",
    "\n",
    "1. Read the `inegi_population.csv` file,\n",
    "2. Obtain a random sample of `n = 50` rows,\n",
    "3. Display the complete random sample (all rows and columns) in the jupyter notebook."
   ]
  },
  {
   "cell_type": "markdown",
   "metadata": {},
   "source": [
    "# Thinking polars\n",
    "\n",
    "By design, `polars` data should be in a [tidy](https://doi.org/10.18637/jss.v059.i10) format with rows corresponding to observations and columns corresponding to variables measured from those observations.\n",
    "\n",
    "![Image of a tidy dataframe showing that columns are variables and rows observations](df_images/column_row_format.svg){width=80%}\n",
    "\n",
    "Polars is optimized, by design, for columnar data; in particular for its storage. Let's talk about it for a second. \n",
    "\n",
    "## SIMD\n",
    "\n",
    "Let's think of the data for a second. Consider the first five entries of the following subset of the data:"
   ]
  },
  {
   "cell_type": "code",
   "execution_count": 13,
   "metadata": {},
   "outputs": [
    {
     "data": {
      "text/html": [
       "<div><style>\n",
       ".dataframe > thead > tr > th,\n",
       ".dataframe > tbody > tr > td {\n",
       "  text-align: right;\n",
       "}\n",
       "</style>\n",
       "<small>shape: (5, 3)</small><table border=\"1\" class=\"dataframe\"><thead><tr><th>bill_length_mm</th><th>sex</th><th>year</th></tr><tr><td>f64</td><td>str</td><td>i64</td></tr></thead><tbody><tr><td>39.1</td><td>&quot;male&quot;</td><td>2007</td></tr><tr><td>39.5</td><td>&quot;female&quot;</td><td>2007</td></tr><tr><td>40.3</td><td>&quot;female&quot;</td><td>2007</td></tr><tr><td>null</td><td>null</td><td>2007</td></tr><tr><td>36.7</td><td>&quot;female&quot;</td><td>2007</td></tr></tbody></table></div>"
      ],
      "text/plain": [
       "shape: (5, 3)\n",
       "┌────────────────┬────────┬──────┐\n",
       "│ bill_length_mm ┆ sex    ┆ year │\n",
       "│ ---            ┆ ---    ┆ ---  │\n",
       "│ f64            ┆ str    ┆ i64  │\n",
       "╞════════════════╪════════╪══════╡\n",
       "│ 39.1           ┆ male   ┆ 2007 │\n",
       "│ 39.5           ┆ female ┆ 2007 │\n",
       "│ 40.3           ┆ female ┆ 2007 │\n",
       "│ null           ┆ null   ┆ 2007 │\n",
       "│ 36.7           ┆ female ┆ 2007 │\n",
       "└────────────────┴────────┴──────┘"
      ]
     },
     "execution_count": 13,
     "metadata": {},
     "output_type": "execute_result"
    }
   ],
   "source": [
    "penguins.select(pl.col(\"bill_length_mm\",\"sex\",\"year\")).head()"
   ]
  },
  {
   "cell_type": "markdown",
   "metadata": {},
   "source": [
    "The first one, `bill_length_mm` is a float (`f64`) which allows for decimal numbers, the second one, `sex` is a string (`str`) while the last one, `year` is an integer (`i64`). Each of these columns have types (`dtypes` in Python) that allow for different operations. For example, one can sum `+1` to both `bill_length_mm` and `year` but not to `sex`. \n",
    "\n",
    "The traditional way to represents data in memory is rowwise which means that the first entry of the float `bill_length_mm` row is next-to (in memory) the string `sex` whose memory address is next to the integer `year`. That means that performing operations in one column (say summing `+1` to year) involves jumping through different memory addresses. \n",
    "\n",
    "![Image of a `DataFrame` being stored into memory with two different formats rowwise and columnwise](df_images/dataframe_storage.svg){width=50%}\n",
    "\n",
    "The columnar format of data stores one column in contiguous memory addresses, then the next column and then the next one. Modern processors are equipped with a gizmo called [**single instruction, multiple data (SIMD)**](https://en.wikipedia.org/wiki/Single_instruction,_multiple_data). SIMD allows for instructions to be performed in memory blocks without specifying the specific address of each member of the block. Thus, storing the columns next to each other generates memory blocks into which SIMD can be applied. \n",
    "\n",
    "While, for summing `+1` in the classical `rowwise` data storage one has to go specifying the memory address of the first year, then the address of the second and so on; in the `columar` approach one has only to specify the year memory block. \n"
   ]
  },
  {
   "cell_type": "markdown",
   "metadata": {},
   "source": [
    "## Why should I care?\n",
    "\n",
    "Polars is designed with the columnar format in mind. That means that to conduct operations in your `DataFrame` one has to think the operations as operations **for the whole column**. This doesn't mean that `rowwise` operations cannot be done. However, `rowwise` operations (as well as `for` loops) are usually suboptimal for `polars` `DataFrames`.  "
   ]
  },
  {
   "cell_type": "markdown",
   "metadata": {},
   "source": [
    "# DataFrame expressions\n",
    "\n",
    "In this section, we discuss several transformations one can apply into the `DataFrame`. \n",
    "\n",
    "## How to keep/remove stuff\n",
    "\n",
    "### Select\n",
    "\n",
    "![`select` chooses which columns to keep or drop](df_images/select.svg){width=75%}\n",
    "\n",
    "The `select` command allows users to choose which columns to keep. This can be done by specifying the columns:"
   ]
  },
  {
   "cell_type": "code",
   "execution_count": 14,
   "metadata": {},
   "outputs": [
    {
     "data": {
      "text/html": [
       "<div><style>\n",
       ".dataframe > thead > tr > th,\n",
       ".dataframe > tbody > tr > td {\n",
       "  text-align: right;\n",
       "}\n",
       "</style>\n",
       "<small>shape: (5, 2)</small><table border=\"1\" class=\"dataframe\"><thead><tr><th>sex</th><th>species</th></tr><tr><td>str</td><td>str</td></tr></thead><tbody><tr><td>&quot;male&quot;</td><td>&quot;Adelie&quot;</td></tr><tr><td>&quot;female&quot;</td><td>&quot;Adelie&quot;</td></tr><tr><td>&quot;female&quot;</td><td>&quot;Adelie&quot;</td></tr><tr><td>null</td><td>&quot;Adelie&quot;</td></tr><tr><td>&quot;female&quot;</td><td>&quot;Adelie&quot;</td></tr></tbody></table></div>"
      ],
      "text/plain": [
       "shape: (5, 2)\n",
       "┌────────┬─────────┐\n",
       "│ sex    ┆ species │\n",
       "│ ---    ┆ ---     │\n",
       "│ str    ┆ str     │\n",
       "╞════════╪═════════╡\n",
       "│ male   ┆ Adelie  │\n",
       "│ female ┆ Adelie  │\n",
       "│ female ┆ Adelie  │\n",
       "│ null   ┆ Adelie  │\n",
       "│ female ┆ Adelie  │\n",
       "└────────┴─────────┘"
      ]
     },
     "execution_count": 14,
     "metadata": {},
     "output_type": "execute_result"
    }
   ],
   "source": [
    "penguins.select(pl.col(\"sex\",\"species\")).head()"
   ]
  },
  {
   "cell_type": "markdown",
   "metadata": {},
   "source": [
    "::: {.callout-tip title=\"Format\"}\n",
    "Code is usually formatted rowwise to avoid run-ons so that each instruction has its row\n",
    ":::\n"
   ]
  },
  {
   "cell_type": "code",
   "execution_count": 15,
   "metadata": {},
   "outputs": [
    {
     "data": {
      "text/html": [
       "<div><style>\n",
       ".dataframe > thead > tr > th,\n",
       ".dataframe > tbody > tr > td {\n",
       "  text-align: right;\n",
       "}\n",
       "</style>\n",
       "<small>shape: (5, 2)</small><table border=\"1\" class=\"dataframe\"><thead><tr><th>sex</th><th>species</th></tr><tr><td>str</td><td>str</td></tr></thead><tbody><tr><td>&quot;male&quot;</td><td>&quot;Adelie&quot;</td></tr><tr><td>&quot;female&quot;</td><td>&quot;Adelie&quot;</td></tr><tr><td>&quot;female&quot;</td><td>&quot;Adelie&quot;</td></tr><tr><td>null</td><td>&quot;Adelie&quot;</td></tr><tr><td>&quot;female&quot;</td><td>&quot;Adelie&quot;</td></tr></tbody></table></div>"
      ],
      "text/plain": [
       "shape: (5, 2)\n",
       "┌────────┬─────────┐\n",
       "│ sex    ┆ species │\n",
       "│ ---    ┆ ---     │\n",
       "│ str    ┆ str     │\n",
       "╞════════╪═════════╡\n",
       "│ male   ┆ Adelie  │\n",
       "│ female ┆ Adelie  │\n",
       "│ female ┆ Adelie  │\n",
       "│ null   ┆ Adelie  │\n",
       "│ female ┆ Adelie  │\n",
       "└────────┴─────────┘"
      ]
     },
     "execution_count": 15,
     "metadata": {},
     "output_type": "execute_result"
    }
   ],
   "source": [
    "(penguins\n",
    " .select(pl.col(\"sex\",\"species\"))\n",
    " .head())"
   ]
  },
  {
   "cell_type": "markdown",
   "metadata": {},
   "source": [
    "One can select all columns with `.all`:"
   ]
  },
  {
   "cell_type": "code",
   "execution_count": 16,
   "metadata": {},
   "outputs": [
    {
     "data": {
      "text/html": [
       "<div><style>\n",
       ".dataframe > thead > tr > th,\n",
       ".dataframe > tbody > tr > td {\n",
       "  text-align: right;\n",
       "}\n",
       "</style>\n",
       "<small>shape: (5, 8)</small><table border=\"1\" class=\"dataframe\"><thead><tr><th>species</th><th>island</th><th>bill_length_mm</th><th>bill_depth_mm</th><th>flipper_length_mm</th><th>body_mass_g</th><th>sex</th><th>year</th></tr><tr><td>str</td><td>str</td><td>f64</td><td>f64</td><td>i64</td><td>i64</td><td>str</td><td>i64</td></tr></thead><tbody><tr><td>&quot;Adelie&quot;</td><td>&quot;Torgersen&quot;</td><td>39.1</td><td>18.7</td><td>181</td><td>3750</td><td>&quot;male&quot;</td><td>2007</td></tr><tr><td>&quot;Adelie&quot;</td><td>&quot;Torgersen&quot;</td><td>39.5</td><td>17.4</td><td>186</td><td>3800</td><td>&quot;female&quot;</td><td>2007</td></tr><tr><td>&quot;Adelie&quot;</td><td>&quot;Torgersen&quot;</td><td>40.3</td><td>18.0</td><td>195</td><td>3250</td><td>&quot;female&quot;</td><td>2007</td></tr><tr><td>&quot;Adelie&quot;</td><td>&quot;Torgersen&quot;</td><td>null</td><td>null</td><td>null</td><td>null</td><td>null</td><td>2007</td></tr><tr><td>&quot;Adelie&quot;</td><td>&quot;Torgersen&quot;</td><td>36.7</td><td>19.3</td><td>193</td><td>3450</td><td>&quot;female&quot;</td><td>2007</td></tr></tbody></table></div>"
      ],
      "text/plain": [
       "shape: (5, 8)\n",
       "┌─────────┬───────────┬───────────────┬───────────────┬──────────────┬─────────────┬────────┬──────┐\n",
       "│ species ┆ island    ┆ bill_length_m ┆ bill_depth_mm ┆ flipper_leng ┆ body_mass_g ┆ sex    ┆ year │\n",
       "│ ---     ┆ ---       ┆ m             ┆ ---           ┆ th_mm        ┆ ---         ┆ ---    ┆ ---  │\n",
       "│ str     ┆ str       ┆ ---           ┆ f64           ┆ ---          ┆ i64         ┆ str    ┆ i64  │\n",
       "│         ┆           ┆ f64           ┆               ┆ i64          ┆             ┆        ┆      │\n",
       "╞═════════╪═══════════╪═══════════════╪═══════════════╪══════════════╪═════════════╪════════╪══════╡\n",
       "│ Adelie  ┆ Torgersen ┆ 39.1          ┆ 18.7          ┆ 181          ┆ 3750        ┆ male   ┆ 2007 │\n",
       "│ Adelie  ┆ Torgersen ┆ 39.5          ┆ 17.4          ┆ 186          ┆ 3800        ┆ female ┆ 2007 │\n",
       "│ Adelie  ┆ Torgersen ┆ 40.3          ┆ 18.0          ┆ 195          ┆ 3250        ┆ female ┆ 2007 │\n",
       "│ Adelie  ┆ Torgersen ┆ null          ┆ null          ┆ null         ┆ null        ┆ null   ┆ 2007 │\n",
       "│ Adelie  ┆ Torgersen ┆ 36.7          ┆ 19.3          ┆ 193          ┆ 3450        ┆ female ┆ 2007 │\n",
       "└─────────┴───────────┴───────────────┴───────────────┴──────────────┴─────────────┴────────┴──────┘"
      ]
     },
     "execution_count": 16,
     "metadata": {},
     "output_type": "execute_result"
    }
   ],
   "source": [
    "(penguins\n",
    " .select(pl.all())\n",
    " .head())"
   ]
  },
  {
   "cell_type": "markdown",
   "metadata": {},
   "source": [
    "The `all` command can be combined with the `exclude` to remove specific columns:"
   ]
  },
  {
   "cell_type": "code",
   "execution_count": 17,
   "metadata": {},
   "outputs": [
    {
     "data": {
      "text/html": [
       "<div><style>\n",
       ".dataframe > thead > tr > th,\n",
       ".dataframe > tbody > tr > td {\n",
       "  text-align: right;\n",
       "}\n",
       "</style>\n",
       "<small>shape: (5, 7)</small><table border=\"1\" class=\"dataframe\"><thead><tr><th>species</th><th>bill_length_mm</th><th>bill_depth_mm</th><th>flipper_length_mm</th><th>body_mass_g</th><th>sex</th><th>year</th></tr><tr><td>str</td><td>f64</td><td>f64</td><td>i64</td><td>i64</td><td>str</td><td>i64</td></tr></thead><tbody><tr><td>&quot;Adelie&quot;</td><td>39.1</td><td>18.7</td><td>181</td><td>3750</td><td>&quot;male&quot;</td><td>2007</td></tr><tr><td>&quot;Adelie&quot;</td><td>39.5</td><td>17.4</td><td>186</td><td>3800</td><td>&quot;female&quot;</td><td>2007</td></tr><tr><td>&quot;Adelie&quot;</td><td>40.3</td><td>18.0</td><td>195</td><td>3250</td><td>&quot;female&quot;</td><td>2007</td></tr><tr><td>&quot;Adelie&quot;</td><td>null</td><td>null</td><td>null</td><td>null</td><td>null</td><td>2007</td></tr><tr><td>&quot;Adelie&quot;</td><td>36.7</td><td>19.3</td><td>193</td><td>3450</td><td>&quot;female&quot;</td><td>2007</td></tr></tbody></table></div>"
      ],
      "text/plain": [
       "shape: (5, 7)\n",
       "┌─────────┬────────────────┬───────────────┬───────────────────┬─────────────┬────────┬──────┐\n",
       "│ species ┆ bill_length_mm ┆ bill_depth_mm ┆ flipper_length_mm ┆ body_mass_g ┆ sex    ┆ year │\n",
       "│ ---     ┆ ---            ┆ ---           ┆ ---               ┆ ---         ┆ ---    ┆ ---  │\n",
       "│ str     ┆ f64            ┆ f64           ┆ i64               ┆ i64         ┆ str    ┆ i64  │\n",
       "╞═════════╪════════════════╪═══════════════╪═══════════════════╪═════════════╪════════╪══════╡\n",
       "│ Adelie  ┆ 39.1           ┆ 18.7          ┆ 181               ┆ 3750        ┆ male   ┆ 2007 │\n",
       "│ Adelie  ┆ 39.5           ┆ 17.4          ┆ 186               ┆ 3800        ┆ female ┆ 2007 │\n",
       "│ Adelie  ┆ 40.3           ┆ 18.0          ┆ 195               ┆ 3250        ┆ female ┆ 2007 │\n",
       "│ Adelie  ┆ null           ┆ null          ┆ null              ┆ null        ┆ null   ┆ 2007 │\n",
       "│ Adelie  ┆ 36.7           ┆ 19.3          ┆ 193               ┆ 3450        ┆ female ┆ 2007 │\n",
       "└─────────┴────────────────┴───────────────┴───────────────────┴─────────────┴────────┴──────┘"
      ]
     },
     "execution_count": 17,
     "metadata": {},
     "output_type": "execute_result"
    }
   ],
   "source": [
    "(penguins\n",
    " .select(pl.all().exclude(\"island\"))\n",
    " .head())"
   ]
  },
  {
   "cell_type": "markdown",
   "metadata": {},
   "source": [
    "The previous code is equivalent to using the `drop` function. Note that by design `drop` doesn't use `pl.col` while `select` does. "
   ]
  },
  {
   "cell_type": "code",
   "execution_count": 18,
   "metadata": {},
   "outputs": [
    {
     "data": {
      "text/html": [
       "<div><style>\n",
       ".dataframe > thead > tr > th,\n",
       ".dataframe > tbody > tr > td {\n",
       "  text-align: right;\n",
       "}\n",
       "</style>\n",
       "<small>shape: (5, 7)</small><table border=\"1\" class=\"dataframe\"><thead><tr><th>species</th><th>bill_length_mm</th><th>bill_depth_mm</th><th>flipper_length_mm</th><th>body_mass_g</th><th>sex</th><th>year</th></tr><tr><td>str</td><td>f64</td><td>f64</td><td>i64</td><td>i64</td><td>str</td><td>i64</td></tr></thead><tbody><tr><td>&quot;Adelie&quot;</td><td>39.1</td><td>18.7</td><td>181</td><td>3750</td><td>&quot;male&quot;</td><td>2007</td></tr><tr><td>&quot;Adelie&quot;</td><td>39.5</td><td>17.4</td><td>186</td><td>3800</td><td>&quot;female&quot;</td><td>2007</td></tr><tr><td>&quot;Adelie&quot;</td><td>40.3</td><td>18.0</td><td>195</td><td>3250</td><td>&quot;female&quot;</td><td>2007</td></tr><tr><td>&quot;Adelie&quot;</td><td>null</td><td>null</td><td>null</td><td>null</td><td>null</td><td>2007</td></tr><tr><td>&quot;Adelie&quot;</td><td>36.7</td><td>19.3</td><td>193</td><td>3450</td><td>&quot;female&quot;</td><td>2007</td></tr></tbody></table></div>"
      ],
      "text/plain": [
       "shape: (5, 7)\n",
       "┌─────────┬────────────────┬───────────────┬───────────────────┬─────────────┬────────┬──────┐\n",
       "│ species ┆ bill_length_mm ┆ bill_depth_mm ┆ flipper_length_mm ┆ body_mass_g ┆ sex    ┆ year │\n",
       "│ ---     ┆ ---            ┆ ---           ┆ ---               ┆ ---         ┆ ---    ┆ ---  │\n",
       "│ str     ┆ f64            ┆ f64           ┆ i64               ┆ i64         ┆ str    ┆ i64  │\n",
       "╞═════════╪════════════════╪═══════════════╪═══════════════════╪═════════════╪════════╪══════╡\n",
       "│ Adelie  ┆ 39.1           ┆ 18.7          ┆ 181               ┆ 3750        ┆ male   ┆ 2007 │\n",
       "│ Adelie  ┆ 39.5           ┆ 17.4          ┆ 186               ┆ 3800        ┆ female ┆ 2007 │\n",
       "│ Adelie  ┆ 40.3           ┆ 18.0          ┆ 195               ┆ 3250        ┆ female ┆ 2007 │\n",
       "│ Adelie  ┆ null           ┆ null          ┆ null              ┆ null        ┆ null   ┆ 2007 │\n",
       "│ Adelie  ┆ 36.7           ┆ 19.3          ┆ 193               ┆ 3450        ┆ female ┆ 2007 │\n",
       "└─────────┴────────────────┴───────────────┴───────────────────┴─────────────┴────────┴──────┘"
      ]
     },
     "execution_count": 18,
     "metadata": {},
     "output_type": "execute_result"
    }
   ],
   "source": [
    "(penguins\n",
    " .drop(\"island\")\n",
    " .head())"
   ]
  },
  {
   "cell_type": "markdown",
   "metadata": {},
   "source": [
    "[Regular expressions](https://learn.microsoft.com/en-us/dotnet/standard/base-types/regular-expression-language-quick-reference) can be used to select or exclude specific columns matching the expression. For example, to keep those that end up in `mm`:"
   ]
  },
  {
   "cell_type": "code",
   "execution_count": 19,
   "metadata": {},
   "outputs": [
    {
     "data": {
      "text/html": [
       "<div><style>\n",
       ".dataframe > thead > tr > th,\n",
       ".dataframe > tbody > tr > td {\n",
       "  text-align: right;\n",
       "}\n",
       "</style>\n",
       "<small>shape: (5, 3)</small><table border=\"1\" class=\"dataframe\"><thead><tr><th>bill_length_mm</th><th>bill_depth_mm</th><th>flipper_length_mm</th></tr><tr><td>f64</td><td>f64</td><td>i64</td></tr></thead><tbody><tr><td>39.1</td><td>18.7</td><td>181</td></tr><tr><td>39.5</td><td>17.4</td><td>186</td></tr><tr><td>40.3</td><td>18.0</td><td>195</td></tr><tr><td>null</td><td>null</td><td>null</td></tr><tr><td>36.7</td><td>19.3</td><td>193</td></tr></tbody></table></div>"
      ],
      "text/plain": [
       "shape: (5, 3)\n",
       "┌────────────────┬───────────────┬───────────────────┐\n",
       "│ bill_length_mm ┆ bill_depth_mm ┆ flipper_length_mm │\n",
       "│ ---            ┆ ---           ┆ ---               │\n",
       "│ f64            ┆ f64           ┆ i64               │\n",
       "╞════════════════╪═══════════════╪═══════════════════╡\n",
       "│ 39.1           ┆ 18.7          ┆ 181               │\n",
       "│ 39.5           ┆ 17.4          ┆ 186               │\n",
       "│ 40.3           ┆ 18.0          ┆ 195               │\n",
       "│ null           ┆ null          ┆ null              │\n",
       "│ 36.7           ┆ 19.3          ┆ 193               │\n",
       "└────────────────┴───────────────┴───────────────────┘"
      ]
     },
     "execution_count": 19,
     "metadata": {},
     "output_type": "execute_result"
    }
   ],
   "source": [
    "import polars.selectors as cs\n",
    "\n",
    "(penguins\n",
    " .select(cs.matches(\"_mm\"))\n",
    " .head())"
   ]
  },
  {
   "cell_type": "markdown",
   "metadata": {},
   "source": [
    "To exclude them one needs to negate the operation with `~`:\n"
   ]
  },
  {
   "cell_type": "code",
   "execution_count": 20,
   "metadata": {},
   "outputs": [
    {
     "data": {
      "text/html": [
       "<div><style>\n",
       ".dataframe > thead > tr > th,\n",
       ".dataframe > tbody > tr > td {\n",
       "  text-align: right;\n",
       "}\n",
       "</style>\n",
       "<small>shape: (5, 5)</small><table border=\"1\" class=\"dataframe\"><thead><tr><th>species</th><th>island</th><th>body_mass_g</th><th>sex</th><th>year</th></tr><tr><td>str</td><td>str</td><td>i64</td><td>str</td><td>i64</td></tr></thead><tbody><tr><td>&quot;Adelie&quot;</td><td>&quot;Torgersen&quot;</td><td>3750</td><td>&quot;male&quot;</td><td>2007</td></tr><tr><td>&quot;Adelie&quot;</td><td>&quot;Torgersen&quot;</td><td>3800</td><td>&quot;female&quot;</td><td>2007</td></tr><tr><td>&quot;Adelie&quot;</td><td>&quot;Torgersen&quot;</td><td>3250</td><td>&quot;female&quot;</td><td>2007</td></tr><tr><td>&quot;Adelie&quot;</td><td>&quot;Torgersen&quot;</td><td>null</td><td>null</td><td>2007</td></tr><tr><td>&quot;Adelie&quot;</td><td>&quot;Torgersen&quot;</td><td>3450</td><td>&quot;female&quot;</td><td>2007</td></tr></tbody></table></div>"
      ],
      "text/plain": [
       "shape: (5, 5)\n",
       "┌─────────┬───────────┬─────────────┬────────┬──────┐\n",
       "│ species ┆ island    ┆ body_mass_g ┆ sex    ┆ year │\n",
       "│ ---     ┆ ---       ┆ ---         ┆ ---    ┆ ---  │\n",
       "│ str     ┆ str       ┆ i64         ┆ str    ┆ i64  │\n",
       "╞═════════╪═══════════╪═════════════╪════════╪══════╡\n",
       "│ Adelie  ┆ Torgersen ┆ 3750        ┆ male   ┆ 2007 │\n",
       "│ Adelie  ┆ Torgersen ┆ 3800        ┆ female ┆ 2007 │\n",
       "│ Adelie  ┆ Torgersen ┆ 3250        ┆ female ┆ 2007 │\n",
       "│ Adelie  ┆ Torgersen ┆ null        ┆ null   ┆ 2007 │\n",
       "│ Adelie  ┆ Torgersen ┆ 3450        ┆ female ┆ 2007 │\n",
       "└─────────┴───────────┴─────────────┴────────┴──────┘"
      ]
     },
     "execution_count": 20,
     "metadata": {},
     "output_type": "execute_result"
    }
   ],
   "source": [
    "(penguins\n",
    " .select(~cs.matches(\"_mm\"))\n",
    " .head())"
   ]
  },
  {
   "cell_type": "markdown",
   "metadata": {},
   "source": [
    "Boolean operations can be applied inside a `select` thus allowing to apply an **and**"
   ]
  },
  {
   "cell_type": "code",
   "execution_count": 21,
   "metadata": {},
   "outputs": [
    {
     "data": {
      "text/html": [
       "<div><style>\n",
       ".dataframe > thead > tr > th,\n",
       ".dataframe > tbody > tr > td {\n",
       "  text-align: right;\n",
       "}\n",
       "</style>\n",
       "<small>shape: (5, 2)</small><table border=\"1\" class=\"dataframe\"><thead><tr><th>bill_length_mm</th><th>flipper_length_mm</th></tr><tr><td>f64</td><td>i64</td></tr></thead><tbody><tr><td>39.1</td><td>181</td></tr><tr><td>39.5</td><td>186</td></tr><tr><td>40.3</td><td>195</td></tr><tr><td>null</td><td>null</td></tr><tr><td>36.7</td><td>193</td></tr></tbody></table></div>"
      ],
      "text/plain": [
       "shape: (5, 2)\n",
       "┌────────────────┬───────────────────┐\n",
       "│ bill_length_mm ┆ flipper_length_mm │\n",
       "│ ---            ┆ ---               │\n",
       "│ f64            ┆ i64               │\n",
       "╞════════════════╪═══════════════════╡\n",
       "│ 39.1           ┆ 181               │\n",
       "│ 39.5           ┆ 186               │\n",
       "│ 40.3           ┆ 195               │\n",
       "│ null           ┆ null              │\n",
       "│ 36.7           ┆ 193               │\n",
       "└────────────────┴───────────────────┘"
      ]
     },
     "execution_count": 21,
     "metadata": {},
     "output_type": "execute_result"
    }
   ],
   "source": [
    "(penguins\n",
    " .select(cs.matches(\"_mm\") & cs.matches(\"length\"))\n",
    " .head())"
   ]
  },
  {
   "cell_type": "markdown",
   "metadata": {},
   "source": [
    "or an **or**"
   ]
  },
  {
   "cell_type": "code",
   "execution_count": 22,
   "metadata": {},
   "outputs": [
    {
     "data": {
      "text/html": [
       "<div><style>\n",
       ".dataframe > thead > tr > th,\n",
       ".dataframe > tbody > tr > td {\n",
       "  text-align: right;\n",
       "}\n",
       "</style>\n",
       "<small>shape: (5, 4)</small><table border=\"1\" class=\"dataframe\"><thead><tr><th>bill_length_mm</th><th>bill_depth_mm</th><th>flipper_length_mm</th><th>island</th></tr><tr><td>f64</td><td>f64</td><td>i64</td><td>str</td></tr></thead><tbody><tr><td>39.1</td><td>18.7</td><td>181</td><td>&quot;Torgersen&quot;</td></tr><tr><td>39.5</td><td>17.4</td><td>186</td><td>&quot;Torgersen&quot;</td></tr><tr><td>40.3</td><td>18.0</td><td>195</td><td>&quot;Torgersen&quot;</td></tr><tr><td>null</td><td>null</td><td>null</td><td>&quot;Torgersen&quot;</td></tr><tr><td>36.7</td><td>19.3</td><td>193</td><td>&quot;Torgersen&quot;</td></tr></tbody></table></div>"
      ],
      "text/plain": [
       "shape: (5, 4)\n",
       "┌────────────────┬───────────────┬───────────────────┬───────────┐\n",
       "│ bill_length_mm ┆ bill_depth_mm ┆ flipper_length_mm ┆ island    │\n",
       "│ ---            ┆ ---           ┆ ---               ┆ ---       │\n",
       "│ f64            ┆ f64           ┆ i64               ┆ str       │\n",
       "╞════════════════╪═══════════════╪═══════════════════╪═══════════╡\n",
       "│ 39.1           ┆ 18.7          ┆ 181               ┆ Torgersen │\n",
       "│ 39.5           ┆ 17.4          ┆ 186               ┆ Torgersen │\n",
       "│ 40.3           ┆ 18.0          ┆ 195               ┆ Torgersen │\n",
       "│ null           ┆ null          ┆ null              ┆ Torgersen │\n",
       "│ 36.7           ┆ 19.3          ┆ 193               ┆ Torgersen │\n",
       "└────────────────┴───────────────┴───────────────────┴───────────┘"
      ]
     },
     "execution_count": 22,
     "metadata": {},
     "output_type": "execute_result"
    }
   ],
   "source": [
    "(penguins\n",
    " .select(cs.matches(\"_mm\") | cs.matches(\"island\"))\n",
    " .head())"
   ]
  },
  {
   "cell_type": "markdown",
   "metadata": {},
   "source": [
    "Columns can also be selected by `dtype` with the `cs.integer()`, `cs.float()`, `cs.numeric()` (float and int), `cs.string()`, `cs.datetime()` as well as [additional selectors](https://pola-rs.github.io/polars/py-polars/html/reference/selectors.html#functions) specified in the manual"
   ]
  },
  {
   "cell_type": "code",
   "execution_count": 23,
   "metadata": {},
   "outputs": [
    {
     "data": {
      "text/html": [
       "<div><style>\n",
       ".dataframe > thead > tr > th,\n",
       ".dataframe > tbody > tr > td {\n",
       "  text-align: right;\n",
       "}\n",
       "</style>\n",
       "<small>shape: (5, 4)</small><table border=\"1\" class=\"dataframe\"><thead><tr><th>bill_length_mm</th><th>bill_depth_mm</th><th>flipper_length_mm</th><th>body_mass_g</th></tr><tr><td>f64</td><td>f64</td><td>i64</td><td>i64</td></tr></thead><tbody><tr><td>39.1</td><td>18.7</td><td>181</td><td>3750</td></tr><tr><td>39.5</td><td>17.4</td><td>186</td><td>3800</td></tr><tr><td>40.3</td><td>18.0</td><td>195</td><td>3250</td></tr><tr><td>null</td><td>null</td><td>null</td><td>null</td></tr><tr><td>36.7</td><td>19.3</td><td>193</td><td>3450</td></tr></tbody></table></div>"
      ],
      "text/plain": [
       "shape: (5, 4)\n",
       "┌────────────────┬───────────────┬───────────────────┬─────────────┐\n",
       "│ bill_length_mm ┆ bill_depth_mm ┆ flipper_length_mm ┆ body_mass_g │\n",
       "│ ---            ┆ ---           ┆ ---               ┆ ---         │\n",
       "│ f64            ┆ f64           ┆ i64               ┆ i64         │\n",
       "╞════════════════╪═══════════════╪═══════════════════╪═════════════╡\n",
       "│ 39.1           ┆ 18.7          ┆ 181               ┆ 3750        │\n",
       "│ 39.5           ┆ 17.4          ┆ 186               ┆ 3800        │\n",
       "│ 40.3           ┆ 18.0          ┆ 195               ┆ 3250        │\n",
       "│ null           ┆ null          ┆ null              ┆ null        │\n",
       "│ 36.7           ┆ 19.3          ┆ 193               ┆ 3450        │\n",
       "└────────────────┴───────────────┴───────────────────┴─────────────┘"
      ]
     },
     "execution_count": 23,
     "metadata": {},
     "output_type": "execute_result"
    }
   ],
   "source": [
    "#Select all numeric except year. The - acts as a set difference operator.\n",
    "(penguins\n",
    " .select(cs.numeric() - cs.matches(\"year\")) \n",
    " .head())"
   ]
  },
  {
   "cell_type": "markdown",
   "metadata": {},
   "source": [
    "### Filter\n",
    "\n",
    "![`filter` chooses which rows to keep or drop](df_images/filter.svg){width=75%}\n",
    "\n",
    "The `filter` command allows users to choose which rows to keep based upon some `boolean` conditions of the columns. For example one can select those penguins which have a `body_mass_g` greater than `3500`"
   ]
  },
  {
   "cell_type": "code",
   "execution_count": 24,
   "metadata": {},
   "outputs": [
    {
     "data": {
      "text/html": [
       "<div><style>\n",
       ".dataframe > thead > tr > th,\n",
       ".dataframe > tbody > tr > td {\n",
       "  text-align: right;\n",
       "}\n",
       "</style>\n",
       "<small>shape: (5, 8)</small><table border=\"1\" class=\"dataframe\"><thead><tr><th>species</th><th>island</th><th>bill_length_mm</th><th>bill_depth_mm</th><th>flipper_length_mm</th><th>body_mass_g</th><th>sex</th><th>year</th></tr><tr><td>str</td><td>str</td><td>f64</td><td>f64</td><td>i64</td><td>i64</td><td>str</td><td>i64</td></tr></thead><tbody><tr><td>&quot;Adelie&quot;</td><td>&quot;Torgersen&quot;</td><td>39.1</td><td>18.7</td><td>181</td><td>3750</td><td>&quot;male&quot;</td><td>2007</td></tr><tr><td>&quot;Adelie&quot;</td><td>&quot;Torgersen&quot;</td><td>39.5</td><td>17.4</td><td>186</td><td>3800</td><td>&quot;female&quot;</td><td>2007</td></tr><tr><td>&quot;Adelie&quot;</td><td>&quot;Torgersen&quot;</td><td>39.3</td><td>20.6</td><td>190</td><td>3650</td><td>&quot;male&quot;</td><td>2007</td></tr><tr><td>&quot;Adelie&quot;</td><td>&quot;Torgersen&quot;</td><td>38.9</td><td>17.8</td><td>181</td><td>3625</td><td>&quot;female&quot;</td><td>2007</td></tr><tr><td>&quot;Adelie&quot;</td><td>&quot;Torgersen&quot;</td><td>39.2</td><td>19.6</td><td>195</td><td>4675</td><td>&quot;male&quot;</td><td>2007</td></tr></tbody></table></div>"
      ],
      "text/plain": [
       "shape: (5, 8)\n",
       "┌─────────┬───────────┬───────────────┬───────────────┬──────────────┬─────────────┬────────┬──────┐\n",
       "│ species ┆ island    ┆ bill_length_m ┆ bill_depth_mm ┆ flipper_leng ┆ body_mass_g ┆ sex    ┆ year │\n",
       "│ ---     ┆ ---       ┆ m             ┆ ---           ┆ th_mm        ┆ ---         ┆ ---    ┆ ---  │\n",
       "│ str     ┆ str       ┆ ---           ┆ f64           ┆ ---          ┆ i64         ┆ str    ┆ i64  │\n",
       "│         ┆           ┆ f64           ┆               ┆ i64          ┆             ┆        ┆      │\n",
       "╞═════════╪═══════════╪═══════════════╪═══════════════╪══════════════╪═════════════╪════════╪══════╡\n",
       "│ Adelie  ┆ Torgersen ┆ 39.1          ┆ 18.7          ┆ 181          ┆ 3750        ┆ male   ┆ 2007 │\n",
       "│ Adelie  ┆ Torgersen ┆ 39.5          ┆ 17.4          ┆ 186          ┆ 3800        ┆ female ┆ 2007 │\n",
       "│ Adelie  ┆ Torgersen ┆ 39.3          ┆ 20.6          ┆ 190          ┆ 3650        ┆ male   ┆ 2007 │\n",
       "│ Adelie  ┆ Torgersen ┆ 38.9          ┆ 17.8          ┆ 181          ┆ 3625        ┆ female ┆ 2007 │\n",
       "│ Adelie  ┆ Torgersen ┆ 39.2          ┆ 19.6          ┆ 195          ┆ 4675        ┆ male   ┆ 2007 │\n",
       "└─────────┴───────────┴───────────────┴───────────────┴──────────────┴─────────────┴────────┴──────┘"
      ]
     },
     "execution_count": 24,
     "metadata": {},
     "output_type": "execute_result"
    }
   ],
   "source": [
    "(penguins\n",
    " .filter(pl.col(\"body_mass_g\") >= 3500)\n",
    " .head())"
   ]
  },
  {
   "cell_type": "markdown",
   "metadata": {},
   "source": [
    "More complicated filters can be obtained by combining the logical and `&`, or `|`, not `~` and difference `-` operators:"
   ]
  },
  {
   "cell_type": "code",
   "execution_count": 25,
   "metadata": {},
   "outputs": [
    {
     "data": {
      "text/html": [
       "<div><style>\n",
       ".dataframe > thead > tr > th,\n",
       ".dataframe > tbody > tr > td {\n",
       "  text-align: right;\n",
       "}\n",
       "</style>\n",
       "<small>shape: (5, 8)</small><table border=\"1\" class=\"dataframe\"><thead><tr><th>species</th><th>island</th><th>bill_length_mm</th><th>bill_depth_mm</th><th>flipper_length_mm</th><th>body_mass_g</th><th>sex</th><th>year</th></tr><tr><td>str</td><td>str</td><td>f64</td><td>f64</td><td>i64</td><td>i64</td><td>str</td><td>i64</td></tr></thead><tbody><tr><td>&quot;Gentoo&quot;</td><td>&quot;Biscoe&quot;</td><td>50.2</td><td>14.3</td><td>218</td><td>5700</td><td>&quot;male&quot;</td><td>2007</td></tr><tr><td>&quot;Gentoo&quot;</td><td>&quot;Biscoe&quot;</td><td>59.6</td><td>17.0</td><td>230</td><td>6050</td><td>&quot;male&quot;</td><td>2007</td></tr><tr><td>&quot;Gentoo&quot;</td><td>&quot;Biscoe&quot;</td><td>50.5</td><td>15.9</td><td>222</td><td>5550</td><td>&quot;male&quot;</td><td>2008</td></tr><tr><td>&quot;Gentoo&quot;</td><td>&quot;Biscoe&quot;</td><td>50.5</td><td>15.9</td><td>225</td><td>5400</td><td>&quot;male&quot;</td><td>2008</td></tr><tr><td>&quot;Gentoo&quot;</td><td>&quot;Biscoe&quot;</td><td>50.1</td><td>15.0</td><td>225</td><td>5000</td><td>&quot;male&quot;</td><td>2008</td></tr></tbody></table></div>"
      ],
      "text/plain": [
       "shape: (5, 8)\n",
       "┌─────────┬────────┬────────────────┬───────────────┬──────────────────┬─────────────┬──────┬──────┐\n",
       "│ species ┆ island ┆ bill_length_mm ┆ bill_depth_mm ┆ flipper_length_m ┆ body_mass_g ┆ sex  ┆ year │\n",
       "│ ---     ┆ ---    ┆ ---            ┆ ---           ┆ m                ┆ ---         ┆ ---  ┆ ---  │\n",
       "│ str     ┆ str    ┆ f64            ┆ f64           ┆ ---              ┆ i64         ┆ str  ┆ i64  │\n",
       "│         ┆        ┆                ┆               ┆ i64              ┆             ┆      ┆      │\n",
       "╞═════════╪════════╪════════════════╪═══════════════╪══════════════════╪═════════════╪══════╪══════╡\n",
       "│ Gentoo  ┆ Biscoe ┆ 50.2           ┆ 14.3          ┆ 218              ┆ 5700        ┆ male ┆ 2007 │\n",
       "│ Gentoo  ┆ Biscoe ┆ 59.6           ┆ 17.0          ┆ 230              ┆ 6050        ┆ male ┆ 2007 │\n",
       "│ Gentoo  ┆ Biscoe ┆ 50.5           ┆ 15.9          ┆ 222              ┆ 5550        ┆ male ┆ 2008 │\n",
       "│ Gentoo  ┆ Biscoe ┆ 50.5           ┆ 15.9          ┆ 225              ┆ 5400        ┆ male ┆ 2008 │\n",
       "│ Gentoo  ┆ Biscoe ┆ 50.1           ┆ 15.0          ┆ 225              ┆ 5000        ┆ male ┆ 2008 │\n",
       "└─────────┴────────┴────────────────┴───────────────┴──────────────────┴─────────────┴──────┴──────┘"
      ]
     },
     "execution_count": 25,
     "metadata": {},
     "output_type": "execute_result"
    }
   ],
   "source": [
    "# Keep only Gentoo penguins with bills larger than 50 or flippers smaller than 170. \n",
    "(penguins\n",
    " .filter((pl.col(\"species\") == \"Gentoo\") & ((pl.col(\"flipper_length_mm\") < 170) | (pl.col(\"bill_length_mm\") > 50)))\n",
    " .head())"
   ]
  },
  {
   "cell_type": "markdown",
   "metadata": {},
   "source": [
    "An important filtering command is the `is_in`. This checks whether a column is in an array of values:"
   ]
  },
  {
   "cell_type": "code",
   "execution_count": 82,
   "metadata": {},
   "outputs": [
    {
     "data": {
      "text/html": [
       "<div><style>\n",
       ".dataframe > thead > tr > th,\n",
       ".dataframe > tbody > tr > td {\n",
       "  text-align: right;\n",
       "}\n",
       "</style>\n",
       "<small>shape: (5, 8)</small><table border=\"1\" class=\"dataframe\"><thead><tr><th>species</th><th>island</th><th>bill_length_mm</th><th>bill_depth_mm</th><th>flipper_length_mm</th><th>body_mass_g</th><th>sex</th><th>year</th></tr><tr><td>str</td><td>str</td><td>f64</td><td>f64</td><td>i64</td><td>i64</td><td>str</td><td>i64</td></tr></thead><tbody><tr><td>&quot;Gentoo&quot;</td><td>&quot;Biscoe&quot;</td><td>46.7</td><td>15.3</td><td>219</td><td>5200</td><td>&quot;male&quot;</td><td>2007</td></tr><tr><td>&quot;Adelie&quot;</td><td>&quot;Dream&quot;</td><td>36.0</td><td>17.8</td><td>195</td><td>3450</td><td>&quot;female&quot;</td><td>2009</td></tr><tr><td>&quot;Gentoo&quot;</td><td>&quot;Biscoe&quot;</td><td>43.5</td><td>15.2</td><td>213</td><td>4650</td><td>&quot;female&quot;</td><td>2009</td></tr><tr><td>&quot;Adelie&quot;</td><td>&quot;Torgersen&quot;</td><td>38.5</td><td>17.9</td><td>190</td><td>3325</td><td>&quot;female&quot;</td><td>2009</td></tr><tr><td>&quot;Gentoo&quot;</td><td>&quot;Biscoe&quot;</td><td>45.1</td><td>14.5</td><td>207</td><td>5050</td><td>&quot;female&quot;</td><td>2007</td></tr></tbody></table></div>"
      ],
      "text/plain": [
       "shape: (5, 8)\n",
       "┌─────────┬───────────┬───────────────┬───────────────┬──────────────┬─────────────┬────────┬──────┐\n",
       "│ species ┆ island    ┆ bill_length_m ┆ bill_depth_mm ┆ flipper_leng ┆ body_mass_g ┆ sex    ┆ year │\n",
       "│ ---     ┆ ---       ┆ m             ┆ ---           ┆ th_mm        ┆ ---         ┆ ---    ┆ ---  │\n",
       "│ str     ┆ str       ┆ ---           ┆ f64           ┆ ---          ┆ i64         ┆ str    ┆ i64  │\n",
       "│         ┆           ┆ f64           ┆               ┆ i64          ┆             ┆        ┆      │\n",
       "╞═════════╪═══════════╪═══════════════╪═══════════════╪══════════════╪═════════════╪════════╪══════╡\n",
       "│ Gentoo  ┆ Biscoe    ┆ 46.7          ┆ 15.3          ┆ 219          ┆ 5200        ┆ male   ┆ 2007 │\n",
       "│ Adelie  ┆ Dream     ┆ 36.0          ┆ 17.8          ┆ 195          ┆ 3450        ┆ female ┆ 2009 │\n",
       "│ Gentoo  ┆ Biscoe    ┆ 43.5          ┆ 15.2          ┆ 213          ┆ 4650        ┆ female ┆ 2009 │\n",
       "│ Adelie  ┆ Torgersen ┆ 38.5          ┆ 17.9          ┆ 190          ┆ 3325        ┆ female ┆ 2009 │\n",
       "│ Gentoo  ┆ Biscoe    ┆ 45.1          ┆ 14.5          ┆ 207          ┆ 5050        ┆ female ┆ 2007 │\n",
       "└─────────┴───────────┴───────────────┴───────────────┴──────────────┴─────────────┴────────┴──────┘"
      ]
     },
     "execution_count": 82,
     "metadata": {},
     "output_type": "execute_result"
    }
   ],
   "source": [
    "(penguins\n",
    " .filter(pl.col(\"species\").is_in([\"Gentoo\",\"Adelie\",\"Happy Feet\"]))\n",
    " .sample(n=5))"
   ]
  },
  {
   "cell_type": "markdown",
   "metadata": {},
   "source": [
    "### Special selectors\n",
    "\n",
    "#### take_every\n",
    "returns every `nth` row of the DataFrame\n",
    "\n",
    "![`take_every` chooses every nth row](df_images/take_every.svg){width=75%}"
   ]
  },
  {
   "cell_type": "code",
   "execution_count": 26,
   "metadata": {},
   "outputs": [
    {
     "data": {
      "text/html": [
       "<div><style>\n",
       ".dataframe > thead > tr > th,\n",
       ".dataframe > tbody > tr > td {\n",
       "  text-align: right;\n",
       "}\n",
       "</style>\n",
       "<small>shape: (5, 8)</small><table border=\"1\" class=\"dataframe\"><thead><tr><th>species</th><th>island</th><th>bill_length_mm</th><th>bill_depth_mm</th><th>flipper_length_mm</th><th>body_mass_g</th><th>sex</th><th>year</th></tr><tr><td>str</td><td>str</td><td>f64</td><td>f64</td><td>i64</td><td>i64</td><td>str</td><td>i64</td></tr></thead><tbody><tr><td>&quot;Adelie&quot;</td><td>&quot;Torgersen&quot;</td><td>39.1</td><td>18.7</td><td>181</td><td>3750</td><td>&quot;male&quot;</td><td>2007</td></tr><tr><td>&quot;Adelie&quot;</td><td>&quot;Torgersen&quot;</td><td>null</td><td>null</td><td>null</td><td>null</td><td>null</td><td>2007</td></tr><tr><td>&quot;Adelie&quot;</td><td>&quot;Torgersen&quot;</td><td>38.9</td><td>17.8</td><td>181</td><td>3625</td><td>&quot;female&quot;</td><td>2007</td></tr><tr><td>&quot;Adelie&quot;</td><td>&quot;Torgersen&quot;</td><td>42.0</td><td>20.2</td><td>190</td><td>4250</td><td>null</td><td>2007</td></tr><tr><td>&quot;Adelie&quot;</td><td>&quot;Torgersen&quot;</td><td>41.1</td><td>17.6</td><td>182</td><td>3200</td><td>&quot;female&quot;</td><td>2007</td></tr></tbody></table></div>"
      ],
      "text/plain": [
       "shape: (5, 8)\n",
       "┌─────────┬───────────┬───────────────┬───────────────┬──────────────┬─────────────┬────────┬──────┐\n",
       "│ species ┆ island    ┆ bill_length_m ┆ bill_depth_mm ┆ flipper_leng ┆ body_mass_g ┆ sex    ┆ year │\n",
       "│ ---     ┆ ---       ┆ m             ┆ ---           ┆ th_mm        ┆ ---         ┆ ---    ┆ ---  │\n",
       "│ str     ┆ str       ┆ ---           ┆ f64           ┆ ---          ┆ i64         ┆ str    ┆ i64  │\n",
       "│         ┆           ┆ f64           ┆               ┆ i64          ┆             ┆        ┆      │\n",
       "╞═════════╪═══════════╪═══════════════╪═══════════════╪══════════════╪═════════════╪════════╪══════╡\n",
       "│ Adelie  ┆ Torgersen ┆ 39.1          ┆ 18.7          ┆ 181          ┆ 3750        ┆ male   ┆ 2007 │\n",
       "│ Adelie  ┆ Torgersen ┆ null          ┆ null          ┆ null         ┆ null        ┆ null   ┆ 2007 │\n",
       "│ Adelie  ┆ Torgersen ┆ 38.9          ┆ 17.8          ┆ 181          ┆ 3625        ┆ female ┆ 2007 │\n",
       "│ Adelie  ┆ Torgersen ┆ 42.0          ┆ 20.2          ┆ 190          ┆ 4250        ┆ null   ┆ 2007 │\n",
       "│ Adelie  ┆ Torgersen ┆ 41.1          ┆ 17.6          ┆ 182          ┆ 3200        ┆ female ┆ 2007 │\n",
       "└─────────┴───────────┴───────────────┴───────────────┴──────────────┴─────────────┴────────┴──────┘"
      ]
     },
     "execution_count": 26,
     "metadata": {},
     "output_type": "execute_result"
    }
   ],
   "source": [
    "#Return every third penguin\n",
    "(penguins\n",
    " .take_every(n=3)\n",
    " .head())"
   ]
  },
  {
   "cell_type": "markdown",
   "metadata": {},
   "source": [
    "#### `top_k` \n",
    "Returns the first `k` values of a column either by ascending or descending order\n",
    "\n",
    "![`top_k` chooses every nth row](df_images/top_k.svg){width=75%}"
   ]
  },
  {
   "cell_type": "code",
   "execution_count": 27,
   "metadata": {},
   "outputs": [
    {
     "data": {
      "text/html": [
       "<div><style>\n",
       ".dataframe > thead > tr > th,\n",
       ".dataframe > tbody > tr > td {\n",
       "  text-align: right;\n",
       "}\n",
       "</style>\n",
       "<small>shape: (5, 8)</small><table border=\"1\" class=\"dataframe\"><thead><tr><th>species</th><th>island</th><th>bill_length_mm</th><th>bill_depth_mm</th><th>flipper_length_mm</th><th>body_mass_g</th><th>sex</th><th>year</th></tr><tr><td>str</td><td>str</td><td>f64</td><td>f64</td><td>i64</td><td>i64</td><td>str</td><td>i64</td></tr></thead><tbody><tr><td>&quot;Chinstrap&quot;</td><td>&quot;Dream&quot;</td><td>46.9</td><td>16.6</td><td>192</td><td>2700</td><td>&quot;female&quot;</td><td>2008</td></tr><tr><td>&quot;Adelie&quot;</td><td>&quot;Biscoe&quot;</td><td>36.5</td><td>16.6</td><td>181</td><td>2850</td><td>&quot;female&quot;</td><td>2008</td></tr><tr><td>&quot;Adelie&quot;</td><td>&quot;Biscoe&quot;</td><td>36.4</td><td>17.1</td><td>184</td><td>2850</td><td>&quot;female&quot;</td><td>2008</td></tr><tr><td>&quot;Adelie&quot;</td><td>&quot;Torgersen&quot;</td><td>38.6</td><td>17.0</td><td>188</td><td>2900</td><td>&quot;female&quot;</td><td>2009</td></tr><tr><td>&quot;Adelie&quot;</td><td>&quot;Dream&quot;</td><td>33.1</td><td>16.1</td><td>178</td><td>2900</td><td>&quot;female&quot;</td><td>2008</td></tr></tbody></table></div>"
      ],
      "text/plain": [
       "shape: (5, 8)\n",
       "┌───────────┬───────────┬──────────────┬──────────────┬──────────────┬─────────────┬────────┬──────┐\n",
       "│ species   ┆ island    ┆ bill_length_ ┆ bill_depth_m ┆ flipper_leng ┆ body_mass_g ┆ sex    ┆ year │\n",
       "│ ---       ┆ ---       ┆ mm           ┆ m            ┆ th_mm        ┆ ---         ┆ ---    ┆ ---  │\n",
       "│ str       ┆ str       ┆ ---          ┆ ---          ┆ ---          ┆ i64         ┆ str    ┆ i64  │\n",
       "│           ┆           ┆ f64          ┆ f64          ┆ i64          ┆             ┆        ┆      │\n",
       "╞═══════════╪═══════════╪══════════════╪══════════════╪══════════════╪═════════════╪════════╪══════╡\n",
       "│ Chinstrap ┆ Dream     ┆ 46.9         ┆ 16.6         ┆ 192          ┆ 2700        ┆ female ┆ 2008 │\n",
       "│ Adelie    ┆ Biscoe    ┆ 36.5         ┆ 16.6         ┆ 181          ┆ 2850        ┆ female ┆ 2008 │\n",
       "│ Adelie    ┆ Biscoe    ┆ 36.4         ┆ 17.1         ┆ 184          ┆ 2850        ┆ female ┆ 2008 │\n",
       "│ Adelie    ┆ Torgersen ┆ 38.6         ┆ 17.0         ┆ 188          ┆ 2900        ┆ female ┆ 2009 │\n",
       "│ Adelie    ┆ Dream     ┆ 33.1         ┆ 16.1         ┆ 178          ┆ 2900        ┆ female ┆ 2008 │\n",
       "└───────────┴───────────┴──────────────┴──────────────┴──────────────┴─────────────┴────────┴──────┘"
      ]
     },
     "execution_count": 27,
     "metadata": {},
     "output_type": "execute_result"
    }
   ],
   "source": [
    "#Return the top 3 fatter penguins:\n",
    "(penguins\n",
    " .top_k(k=5, by = \"body_mass_g\", descending=True, nulls_last=True) \n",
    " .head())"
   ]
  },
  {
   "cell_type": "markdown",
   "metadata": {},
   "source": [
    "#### `drop_null` \n",
    "Removes all rows that have missing values in a certain column (leave blank for all columns)\n",
    "\n",
    "![`drop_null` removes all null rows that have null values from a column (or all columns)](df_images/drop_null.svg){width=75%}"
   ]
  },
  {
   "cell_type": "code",
   "execution_count": 28,
   "metadata": {},
   "outputs": [
    {
     "data": {
      "text/html": [
       "<div><style>\n",
       ".dataframe > thead > tr > th,\n",
       ".dataframe > tbody > tr > td {\n",
       "  text-align: right;\n",
       "}\n",
       "</style>\n",
       "<small>shape: (5, 8)</small><table border=\"1\" class=\"dataframe\"><thead><tr><th>species</th><th>island</th><th>bill_length_mm</th><th>bill_depth_mm</th><th>flipper_length_mm</th><th>body_mass_g</th><th>sex</th><th>year</th></tr><tr><td>str</td><td>str</td><td>f64</td><td>f64</td><td>i64</td><td>i64</td><td>str</td><td>i64</td></tr></thead><tbody><tr><td>&quot;Adelie&quot;</td><td>&quot;Torgersen&quot;</td><td>39.1</td><td>18.7</td><td>181</td><td>3750</td><td>&quot;male&quot;</td><td>2007</td></tr><tr><td>&quot;Adelie&quot;</td><td>&quot;Torgersen&quot;</td><td>38.9</td><td>17.8</td><td>181</td><td>3625</td><td>&quot;female&quot;</td><td>2007</td></tr><tr><td>&quot;Adelie&quot;</td><td>&quot;Torgersen&quot;</td><td>42.0</td><td>20.2</td><td>190</td><td>4250</td><td>null</td><td>2007</td></tr><tr><td>&quot;Adelie&quot;</td><td>&quot;Torgersen&quot;</td><td>41.1</td><td>17.6</td><td>182</td><td>3200</td><td>&quot;female&quot;</td><td>2007</td></tr><tr><td>&quot;Adelie&quot;</td><td>&quot;Torgersen&quot;</td><td>36.6</td><td>17.8</td><td>185</td><td>3700</td><td>&quot;female&quot;</td><td>2007</td></tr></tbody></table></div>"
      ],
      "text/plain": [
       "shape: (5, 8)\n",
       "┌─────────┬───────────┬───────────────┬───────────────┬──────────────┬─────────────┬────────┬──────┐\n",
       "│ species ┆ island    ┆ bill_length_m ┆ bill_depth_mm ┆ flipper_leng ┆ body_mass_g ┆ sex    ┆ year │\n",
       "│ ---     ┆ ---       ┆ m             ┆ ---           ┆ th_mm        ┆ ---         ┆ ---    ┆ ---  │\n",
       "│ str     ┆ str       ┆ ---           ┆ f64           ┆ ---          ┆ i64         ┆ str    ┆ i64  │\n",
       "│         ┆           ┆ f64           ┆               ┆ i64          ┆             ┆        ┆      │\n",
       "╞═════════╪═══════════╪═══════════════╪═══════════════╪══════════════╪═════════════╪════════╪══════╡\n",
       "│ Adelie  ┆ Torgersen ┆ 39.1          ┆ 18.7          ┆ 181          ┆ 3750        ┆ male   ┆ 2007 │\n",
       "│ Adelie  ┆ Torgersen ┆ 38.9          ┆ 17.8          ┆ 181          ┆ 3625        ┆ female ┆ 2007 │\n",
       "│ Adelie  ┆ Torgersen ┆ 42.0          ┆ 20.2          ┆ 190          ┆ 4250        ┆ null   ┆ 2007 │\n",
       "│ Adelie  ┆ Torgersen ┆ 41.1          ┆ 17.6          ┆ 182          ┆ 3200        ┆ female ┆ 2007 │\n",
       "│ Adelie  ┆ Torgersen ┆ 36.6          ┆ 17.8          ┆ 185          ┆ 3700        ┆ female ┆ 2007 │\n",
       "└─────────┴───────────┴───────────────┴───────────────┴──────────────┴─────────────┴────────┴──────┘"
      ]
     },
     "execution_count": 28,
     "metadata": {},
     "output_type": "execute_result"
    }
   ],
   "source": [
    "#Compare against the take_every 3 previously specified\n",
    "(penguins\n",
    " .take_every(n=3)\n",
    " .drop_nulls([\"bill_length_mm\"])\n",
    " .head())"
   ]
  },
  {
   "cell_type": "markdown",
   "metadata": {},
   "source": [
    "### Exercise\n",
    "\n",
    "Answer the following questions:\n",
    "\n",
    "1. How many Adelie penguins are from Biscoe Island?\n",
    "   \n",
    "2. What is the proportion of male penguins in the database?\n",
    "   \n",
    "3. What's the probability that a penguin with flippers less than `200` mm has a body mass greater than 5000?\n",
    "\n",
    "4. Which species has the penguins with the largest bills?"
   ]
  },
  {
   "cell_type": "markdown",
   "metadata": {},
   "source": [
    "## How to change columns\n",
    "\n",
    "### `with_columns`\n",
    "To change columns one has to select the column with `pl.col` and then apply a function to it within the `with_columns` context. Here is an example where we transform the body mass in grams to kilograms dividing by 1000. \n",
    "\n",
    "![`with_columns` operates functions columnwise](df_images/with_cols.svg){width=75%}"
   ]
  },
  {
   "cell_type": "code",
   "execution_count": 29,
   "metadata": {},
   "outputs": [
    {
     "data": {
      "text/html": [
       "<div><style>\n",
       ".dataframe > thead > tr > th,\n",
       ".dataframe > tbody > tr > td {\n",
       "  text-align: right;\n",
       "}\n",
       "</style>\n",
       "<small>shape: (5, 8)</small><table border=\"1\" class=\"dataframe\"><thead><tr><th>species</th><th>island</th><th>bill_length_mm</th><th>bill_depth_mm</th><th>flipper_length_mm</th><th>body_mass_g</th><th>sex</th><th>year</th></tr><tr><td>str</td><td>str</td><td>f64</td><td>f64</td><td>i64</td><td>f64</td><td>str</td><td>i64</td></tr></thead><tbody><tr><td>&quot;Adelie&quot;</td><td>&quot;Torgersen&quot;</td><td>39.1</td><td>18.7</td><td>181</td><td>3.75</td><td>&quot;male&quot;</td><td>2007</td></tr><tr><td>&quot;Adelie&quot;</td><td>&quot;Torgersen&quot;</td><td>39.5</td><td>17.4</td><td>186</td><td>3.8</td><td>&quot;female&quot;</td><td>2007</td></tr><tr><td>&quot;Adelie&quot;</td><td>&quot;Torgersen&quot;</td><td>40.3</td><td>18.0</td><td>195</td><td>3.25</td><td>&quot;female&quot;</td><td>2007</td></tr><tr><td>&quot;Adelie&quot;</td><td>&quot;Torgersen&quot;</td><td>null</td><td>null</td><td>null</td><td>null</td><td>null</td><td>2007</td></tr><tr><td>&quot;Adelie&quot;</td><td>&quot;Torgersen&quot;</td><td>36.7</td><td>19.3</td><td>193</td><td>3.45</td><td>&quot;female&quot;</td><td>2007</td></tr></tbody></table></div>"
      ],
      "text/plain": [
       "shape: (5, 8)\n",
       "┌─────────┬───────────┬───────────────┬───────────────┬──────────────┬─────────────┬────────┬──────┐\n",
       "│ species ┆ island    ┆ bill_length_m ┆ bill_depth_mm ┆ flipper_leng ┆ body_mass_g ┆ sex    ┆ year │\n",
       "│ ---     ┆ ---       ┆ m             ┆ ---           ┆ th_mm        ┆ ---         ┆ ---    ┆ ---  │\n",
       "│ str     ┆ str       ┆ ---           ┆ f64           ┆ ---          ┆ f64         ┆ str    ┆ i64  │\n",
       "│         ┆           ┆ f64           ┆               ┆ i64          ┆             ┆        ┆      │\n",
       "╞═════════╪═══════════╪═══════════════╪═══════════════╪══════════════╪═════════════╪════════╪══════╡\n",
       "│ Adelie  ┆ Torgersen ┆ 39.1          ┆ 18.7          ┆ 181          ┆ 3.75        ┆ male   ┆ 2007 │\n",
       "│ Adelie  ┆ Torgersen ┆ 39.5          ┆ 17.4          ┆ 186          ┆ 3.8         ┆ female ┆ 2007 │\n",
       "│ Adelie  ┆ Torgersen ┆ 40.3          ┆ 18.0          ┆ 195          ┆ 3.25        ┆ female ┆ 2007 │\n",
       "│ Adelie  ┆ Torgersen ┆ null          ┆ null          ┆ null         ┆ null        ┆ null   ┆ 2007 │\n",
       "│ Adelie  ┆ Torgersen ┆ 36.7          ┆ 19.3          ┆ 193          ┆ 3.45        ┆ female ┆ 2007 │\n",
       "└─────────┴───────────┴───────────────┴───────────────┴──────────────┴─────────────┴────────┴──────┘"
      ]
     },
     "execution_count": 29,
     "metadata": {},
     "output_type": "execute_result"
    }
   ],
   "source": [
    "(penguins\n",
    " .with_columns(\n",
    "    pl.col(\"body_mass_g\")/1000\n",
    " )\n",
    " .head()\n",
    ")"
   ]
  },
  {
   "cell_type": "markdown",
   "metadata": {},
   "source": [
    "To avoid overwritting columns we can save the new column using `alias`"
   ]
  },
  {
   "cell_type": "code",
   "execution_count": 30,
   "metadata": {},
   "outputs": [
    {
     "data": {
      "text/html": [
       "<div><style>\n",
       ".dataframe > thead > tr > th,\n",
       ".dataframe > tbody > tr > td {\n",
       "  text-align: right;\n",
       "}\n",
       "</style>\n",
       "<small>shape: (5, 9)</small><table border=\"1\" class=\"dataframe\"><thead><tr><th>species</th><th>island</th><th>bill_length_mm</th><th>bill_depth_mm</th><th>flipper_length_mm</th><th>body_mass_g</th><th>sex</th><th>year</th><th>body_mass_kg</th></tr><tr><td>str</td><td>str</td><td>f64</td><td>f64</td><td>i64</td><td>i64</td><td>str</td><td>i64</td><td>f64</td></tr></thead><tbody><tr><td>&quot;Adelie&quot;</td><td>&quot;Torgersen&quot;</td><td>39.1</td><td>18.7</td><td>181</td><td>3750</td><td>&quot;male&quot;</td><td>2007</td><td>3.75</td></tr><tr><td>&quot;Adelie&quot;</td><td>&quot;Torgersen&quot;</td><td>39.5</td><td>17.4</td><td>186</td><td>3800</td><td>&quot;female&quot;</td><td>2007</td><td>3.8</td></tr><tr><td>&quot;Adelie&quot;</td><td>&quot;Torgersen&quot;</td><td>40.3</td><td>18.0</td><td>195</td><td>3250</td><td>&quot;female&quot;</td><td>2007</td><td>3.25</td></tr><tr><td>&quot;Adelie&quot;</td><td>&quot;Torgersen&quot;</td><td>null</td><td>null</td><td>null</td><td>null</td><td>null</td><td>2007</td><td>null</td></tr><tr><td>&quot;Adelie&quot;</td><td>&quot;Torgersen&quot;</td><td>36.7</td><td>19.3</td><td>193</td><td>3450</td><td>&quot;female&quot;</td><td>2007</td><td>3.45</td></tr></tbody></table></div>"
      ],
      "text/plain": [
       "shape: (5, 9)\n",
       "┌─────────┬───────────┬──────────────┬─────────────┬───┬─────────────┬────────┬──────┬─────────────┐\n",
       "│ species ┆ island    ┆ bill_length_ ┆ bill_depth_ ┆ … ┆ body_mass_g ┆ sex    ┆ year ┆ body_mass_k │\n",
       "│ ---     ┆ ---       ┆ mm           ┆ mm          ┆   ┆ ---         ┆ ---    ┆ ---  ┆ g           │\n",
       "│ str     ┆ str       ┆ ---          ┆ ---         ┆   ┆ i64         ┆ str    ┆ i64  ┆ ---         │\n",
       "│         ┆           ┆ f64          ┆ f64         ┆   ┆             ┆        ┆      ┆ f64         │\n",
       "╞═════════╪═══════════╪══════════════╪═════════════╪═══╪═════════════╪════════╪══════╪═════════════╡\n",
       "│ Adelie  ┆ Torgersen ┆ 39.1         ┆ 18.7        ┆ … ┆ 3750        ┆ male   ┆ 2007 ┆ 3.75        │\n",
       "│ Adelie  ┆ Torgersen ┆ 39.5         ┆ 17.4        ┆ … ┆ 3800        ┆ female ┆ 2007 ┆ 3.8         │\n",
       "│ Adelie  ┆ Torgersen ┆ 40.3         ┆ 18.0        ┆ … ┆ 3250        ┆ female ┆ 2007 ┆ 3.25        │\n",
       "│ Adelie  ┆ Torgersen ┆ null         ┆ null        ┆ … ┆ null        ┆ null   ┆ 2007 ┆ null        │\n",
       "│ Adelie  ┆ Torgersen ┆ 36.7         ┆ 19.3        ┆ … ┆ 3450        ┆ female ┆ 2007 ┆ 3.45        │\n",
       "└─────────┴───────────┴──────────────┴─────────────┴───┴─────────────┴────────┴──────┴─────────────┘"
      ]
     },
     "execution_count": 30,
     "metadata": {},
     "output_type": "execute_result"
    }
   ],
   "source": [
    "(penguins\n",
    " .with_columns(\n",
    "    (pl.col(\"body_mass_g\")/1000).alias(\"body_mass_kg\")\n",
    " )\n",
    " .head()\n",
    ")"
   ]
  },
  {
   "cell_type": "markdown",
   "metadata": {},
   "source": [
    "::: {.callout-tip title=\"Format\"}\n",
    "In general, columns can be modify within a `context`. For the purpose of the tutorial we'll be using the `with_columns` context. However, this is not the only one and advanced users can take advantage of the `select` context to overwrite columns. \n",
    ":::"
   ]
  },
  {
   "cell_type": "markdown",
   "metadata": {},
   "source": [
    "Numpy's `ufuncs` (special type of numpy functions) can be applied to each column. See [here](https://numpy.org/doc/stable/reference/ufuncs.html#available-ufuncs) for a list of all of the possible functions"
   ]
  },
  {
   "cell_type": "code",
   "execution_count": 31,
   "metadata": {},
   "outputs": [
    {
     "name": "stderr",
     "output_type": "stream",
     "text": [
      "/usr/local/Caskroom/miniconda/base/envs/polars tutorial/lib/python3.10/site-packages/polars/series/series.py:1114: RuntimeWarning: divide by zero encountered in log\n",
      "  series = f(lambda out: ufunc(*args, out=out, dtype=dtype_char, **kwargs))\n"
     ]
    },
    {
     "data": {
      "text/html": [
       "<div><style>\n",
       ".dataframe > thead > tr > th,\n",
       ".dataframe > tbody > tr > td {\n",
       "  text-align: right;\n",
       "}\n",
       "</style>\n",
       "<small>shape: (5, 9)</small><table border=\"1\" class=\"dataframe\"><thead><tr><th>species</th><th>island</th><th>bill_length_mm</th><th>bill_depth_mm</th><th>flipper_length_mm</th><th>body_mass_g</th><th>sex</th><th>year</th><th>bill_depth_log</th></tr><tr><td>str</td><td>str</td><td>f64</td><td>f64</td><td>i64</td><td>i64</td><td>str</td><td>i64</td><td>f64</td></tr></thead><tbody><tr><td>&quot;Adelie&quot;</td><td>&quot;Torgersen&quot;</td><td>39.1</td><td>18.7</td><td>181</td><td>3750</td><td>&quot;male&quot;</td><td>2007</td><td>2.928524</td></tr><tr><td>&quot;Adelie&quot;</td><td>&quot;Torgersen&quot;</td><td>39.5</td><td>17.4</td><td>186</td><td>3800</td><td>&quot;female&quot;</td><td>2007</td><td>2.85647</td></tr><tr><td>&quot;Adelie&quot;</td><td>&quot;Torgersen&quot;</td><td>40.3</td><td>18.0</td><td>195</td><td>3250</td><td>&quot;female&quot;</td><td>2007</td><td>2.890372</td></tr><tr><td>&quot;Adelie&quot;</td><td>&quot;Torgersen&quot;</td><td>null</td><td>null</td><td>null</td><td>null</td><td>null</td><td>2007</td><td>null</td></tr><tr><td>&quot;Adelie&quot;</td><td>&quot;Torgersen&quot;</td><td>36.7</td><td>19.3</td><td>193</td><td>3450</td><td>&quot;female&quot;</td><td>2007</td><td>2.960105</td></tr></tbody></table></div>"
      ],
      "text/plain": [
       "shape: (5, 9)\n",
       "┌─────────┬───────────┬──────────────┬─────────────┬───┬─────────────┬────────┬──────┬─────────────┐\n",
       "│ species ┆ island    ┆ bill_length_ ┆ bill_depth_ ┆ … ┆ body_mass_g ┆ sex    ┆ year ┆ bill_depth_ │\n",
       "│ ---     ┆ ---       ┆ mm           ┆ mm          ┆   ┆ ---         ┆ ---    ┆ ---  ┆ log         │\n",
       "│ str     ┆ str       ┆ ---          ┆ ---         ┆   ┆ i64         ┆ str    ┆ i64  ┆ ---         │\n",
       "│         ┆           ┆ f64          ┆ f64         ┆   ┆             ┆        ┆      ┆ f64         │\n",
       "╞═════════╪═══════════╪══════════════╪═════════════╪═══╪═════════════╪════════╪══════╪═════════════╡\n",
       "│ Adelie  ┆ Torgersen ┆ 39.1         ┆ 18.7        ┆ … ┆ 3750        ┆ male   ┆ 2007 ┆ 2.928524    │\n",
       "│ Adelie  ┆ Torgersen ┆ 39.5         ┆ 17.4        ┆ … ┆ 3800        ┆ female ┆ 2007 ┆ 2.85647     │\n",
       "│ Adelie  ┆ Torgersen ┆ 40.3         ┆ 18.0        ┆ … ┆ 3250        ┆ female ┆ 2007 ┆ 2.890372    │\n",
       "│ Adelie  ┆ Torgersen ┆ null         ┆ null        ┆ … ┆ null        ┆ null   ┆ 2007 ┆ null        │\n",
       "│ Adelie  ┆ Torgersen ┆ 36.7         ┆ 19.3        ┆ … ┆ 3450        ┆ female ┆ 2007 ┆ 2.960105    │\n",
       "└─────────┴───────────┴──────────────┴─────────────┴───┴─────────────┴────────┴──────┴─────────────┘"
      ]
     },
     "execution_count": 31,
     "metadata": {},
     "output_type": "execute_result"
    }
   ],
   "source": [
    "(penguins\n",
    " .with_columns(\n",
    "    (np.log(pl.col(\"bill_depth_mm\"))).alias(\"bill_depth_log\") #Set name with alias\n",
    " )\n",
    " .head()\n",
    ")"
   ]
  },
  {
   "cell_type": "markdown",
   "metadata": {},
   "source": [
    "It is also possible to apply a function across different columns using selections. For example transforming all milimiter variables to inches:"
   ]
  },
  {
   "cell_type": "code",
   "execution_count": 32,
   "metadata": {},
   "outputs": [
    {
     "data": {
      "text/html": [
       "<div><style>\n",
       ".dataframe > thead > tr > th,\n",
       ".dataframe > tbody > tr > td {\n",
       "  text-align: right;\n",
       "}\n",
       "</style>\n",
       "<small>shape: (5, 11)</small><table border=\"1\" class=\"dataframe\"><thead><tr><th>species</th><th>island</th><th>bill_length_mm</th><th>bill_depth_mm</th><th>flipper_length_mm</th><th>body_mass_g</th><th>sex</th><th>year</th><th>bill_length_mm_inch</th><th>bill_depth_mm_inch</th><th>flipper_length_mm_inch</th></tr><tr><td>str</td><td>str</td><td>f64</td><td>f64</td><td>i64</td><td>i64</td><td>str</td><td>i64</td><td>f64</td><td>f64</td><td>f64</td></tr></thead><tbody><tr><td>&quot;Adelie&quot;</td><td>&quot;Torgersen&quot;</td><td>39.1</td><td>18.7</td><td>181</td><td>3750</td><td>&quot;male&quot;</td><td>2007</td><td>15.393709</td><td>7.3622087</td><td>71.259881</td></tr><tr><td>&quot;Adelie&quot;</td><td>&quot;Torgersen&quot;</td><td>39.5</td><td>17.4</td><td>186</td><td>3800</td><td>&quot;female&quot;</td><td>2007</td><td>15.55119</td><td>6.850397</td><td>73.228386</td></tr><tr><td>&quot;Adelie&quot;</td><td>&quot;Torgersen&quot;</td><td>40.3</td><td>18.0</td><td>195</td><td>3250</td><td>&quot;female&quot;</td><td>2007</td><td>15.86615</td><td>7.086618</td><td>76.771695</td></tr><tr><td>&quot;Adelie&quot;</td><td>&quot;Torgersen&quot;</td><td>null</td><td>null</td><td>null</td><td>null</td><td>null</td><td>2007</td><td>null</td><td>null</td><td>null</td></tr><tr><td>&quot;Adelie&quot;</td><td>&quot;Torgersen&quot;</td><td>36.7</td><td>19.3</td><td>193</td><td>3450</td><td>&quot;female&quot;</td><td>2007</td><td>14.448827</td><td>7.598429</td><td>75.984293</td></tr></tbody></table></div>"
      ],
      "text/plain": [
       "shape: (5, 11)\n",
       "┌─────────┬───────────┬─────────────┬────────────┬───┬──────┬────────────┬────────────┬────────────┐\n",
       "│ species ┆ island    ┆ bill_length ┆ bill_depth ┆ … ┆ year ┆ bill_lengt ┆ bill_depth ┆ flipper_le │\n",
       "│ ---     ┆ ---       ┆ _mm         ┆ _mm        ┆   ┆ ---  ┆ h_mm_inch  ┆ _mm_inch   ┆ ngth_mm_in │\n",
       "│ str     ┆ str       ┆ ---         ┆ ---        ┆   ┆ i64  ┆ ---        ┆ ---        ┆ ch         │\n",
       "│         ┆           ┆ f64         ┆ f64        ┆   ┆      ┆ f64        ┆ f64        ┆ ---        │\n",
       "│         ┆           ┆             ┆            ┆   ┆      ┆            ┆            ┆ f64        │\n",
       "╞═════════╪═══════════╪═════════════╪════════════╪═══╪══════╪════════════╪════════════╪════════════╡\n",
       "│ Adelie  ┆ Torgersen ┆ 39.1        ┆ 18.7       ┆ … ┆ 2007 ┆ 15.393709  ┆ 7.3622087  ┆ 71.259881  │\n",
       "│ Adelie  ┆ Torgersen ┆ 39.5        ┆ 17.4       ┆ … ┆ 2007 ┆ 15.55119   ┆ 6.850397   ┆ 73.228386  │\n",
       "│ Adelie  ┆ Torgersen ┆ 40.3        ┆ 18.0       ┆ … ┆ 2007 ┆ 15.86615   ┆ 7.086618   ┆ 76.771695  │\n",
       "│ Adelie  ┆ Torgersen ┆ null        ┆ null       ┆ … ┆ 2007 ┆ null       ┆ null       ┆ null       │\n",
       "│ Adelie  ┆ Torgersen ┆ 36.7        ┆ 19.3       ┆ … ┆ 2007 ┆ 14.448827  ┆ 7.598429   ┆ 75.984293  │\n",
       "└─────────┴───────────┴─────────────┴────────────┴───┴──────┴────────────┴────────────┴────────────┘"
      ]
     },
     "execution_count": 32,
     "metadata": {},
     "output_type": "execute_result"
    }
   ],
   "source": [
    "to_inches = 0.393701 \n",
    "(penguins\n",
    " .with_columns(\n",
    "    (cs.ends_with(\"mm\")*to_inches).suffix(\"_inch\")\n",
    " )\n",
    " .head()\n",
    ")"
   ]
  },
  {
   "cell_type": "markdown",
   "metadata": {},
   "source": [
    "Notice that the `suffix` (as well as `prefix`) add to the column name. More advanced names can be achieved via [`map_alias`](https://pola-rs.github.io/polars/py-polars/html/reference/expressions/api/polars.Expr.map_alias.html#polars.Expr.map_alias) which applies a function to the column names. "
   ]
  },
  {
   "cell_type": "markdown",
   "metadata": {},
   "source": [
    "### `lit`\n",
    "\n",
    "To generate a new constant column one can use the `pl.lit` expression. The `alias` gives a name to the column\n",
    "\n",
    "![`lit` creates a new column from a constant](df_images/lit.svg){width=75%}"
   ]
  },
  {
   "cell_type": "code",
   "execution_count": 33,
   "metadata": {},
   "outputs": [
    {
     "data": {
      "text/html": [
       "<div><style>\n",
       ".dataframe > thead > tr > th,\n",
       ".dataframe > tbody > tr > td {\n",
       "  text-align: right;\n",
       "}\n",
       "</style>\n",
       "<small>shape: (5, 9)</small><table border=\"1\" class=\"dataframe\"><thead><tr><th>species</th><th>island</th><th>bill_length_mm</th><th>bill_depth_mm</th><th>flipper_length_mm</th><th>body_mass_g</th><th>sex</th><th>year</th><th>Unlucky column</th></tr><tr><td>str</td><td>str</td><td>f64</td><td>f64</td><td>i64</td><td>i64</td><td>str</td><td>i64</td><td>i32</td></tr></thead><tbody><tr><td>&quot;Adelie&quot;</td><td>&quot;Torgersen&quot;</td><td>39.1</td><td>18.7</td><td>181</td><td>3750</td><td>&quot;male&quot;</td><td>2007</td><td>13</td></tr><tr><td>&quot;Adelie&quot;</td><td>&quot;Torgersen&quot;</td><td>39.5</td><td>17.4</td><td>186</td><td>3800</td><td>&quot;female&quot;</td><td>2007</td><td>13</td></tr><tr><td>&quot;Adelie&quot;</td><td>&quot;Torgersen&quot;</td><td>40.3</td><td>18.0</td><td>195</td><td>3250</td><td>&quot;female&quot;</td><td>2007</td><td>13</td></tr><tr><td>&quot;Adelie&quot;</td><td>&quot;Torgersen&quot;</td><td>null</td><td>null</td><td>null</td><td>null</td><td>null</td><td>2007</td><td>13</td></tr><tr><td>&quot;Adelie&quot;</td><td>&quot;Torgersen&quot;</td><td>36.7</td><td>19.3</td><td>193</td><td>3450</td><td>&quot;female&quot;</td><td>2007</td><td>13</td></tr></tbody></table></div>"
      ],
      "text/plain": [
       "shape: (5, 9)\n",
       "┌─────────┬───────────┬────────────────┬───────────────┬───┬─────────────┬────────┬──────┬─────────┐\n",
       "│ species ┆ island    ┆ bill_length_mm ┆ bill_depth_mm ┆ … ┆ body_mass_g ┆ sex    ┆ year ┆ Unlucky │\n",
       "│ ---     ┆ ---       ┆ ---            ┆ ---           ┆   ┆ ---         ┆ ---    ┆ ---  ┆ column  │\n",
       "│ str     ┆ str       ┆ f64            ┆ f64           ┆   ┆ i64         ┆ str    ┆ i64  ┆ ---     │\n",
       "│         ┆           ┆                ┆               ┆   ┆             ┆        ┆      ┆ i32     │\n",
       "╞═════════╪═══════════╪════════════════╪═══════════════╪═══╪═════════════╪════════╪══════╪═════════╡\n",
       "│ Adelie  ┆ Torgersen ┆ 39.1           ┆ 18.7          ┆ … ┆ 3750        ┆ male   ┆ 2007 ┆ 13      │\n",
       "│ Adelie  ┆ Torgersen ┆ 39.5           ┆ 17.4          ┆ … ┆ 3800        ┆ female ┆ 2007 ┆ 13      │\n",
       "│ Adelie  ┆ Torgersen ┆ 40.3           ┆ 18.0          ┆ … ┆ 3250        ┆ female ┆ 2007 ┆ 13      │\n",
       "│ Adelie  ┆ Torgersen ┆ null           ┆ null          ┆ … ┆ null        ┆ null   ┆ 2007 ┆ 13      │\n",
       "│ Adelie  ┆ Torgersen ┆ 36.7           ┆ 19.3          ┆ … ┆ 3450        ┆ female ┆ 2007 ┆ 13      │\n",
       "└─────────┴───────────┴────────────────┴───────────────┴───┴─────────────┴────────┴──────┴─────────┘"
      ]
     },
     "execution_count": 33,
     "metadata": {},
     "output_type": "execute_result"
    }
   ],
   "source": [
    "(penguins\n",
    " .with_columns(\n",
    "     pl.lit(13).alias(\"Unlucky column\")\n",
    " )\n",
    " .head()\n",
    ")"
   ]
  },
  {
   "cell_type": "markdown",
   "metadata": {},
   "source": [
    "### `when`, `then`, `otherwise`\n",
    "\n",
    "![`when`, `then`, `otherwise` apply different functions based upon distinct conditions](df_images/when_then_otherwise.svg){width=75%}\n",
    "\n",
    "Cases can be handled via the `when`, `then`, `otherwise` triad which work as an `if_else` or a `switch`. The `when` specifies a condition, `then` specifies the necessary operations and `otherwise` works as a default. For example, considering the following problem of classifying penguins as \"large\" if they are Adelie with mass larger than 4000. And \"small\" otherwise. This can be coded as follows:\n",
    "\n",
    "\n"
   ]
  },
  {
   "cell_type": "code",
   "execution_count": 34,
   "metadata": {},
   "outputs": [
    {
     "data": {
      "text/html": [
       "<div><style>\n",
       ".dataframe > thead > tr > th,\n",
       ".dataframe > tbody > tr > td {\n",
       "  text-align: right;\n",
       "}\n",
       "</style>\n",
       "<small>shape: (5, 9)</small><table border=\"1\" class=\"dataframe\"><thead><tr><th>species</th><th>island</th><th>bill_length_mm</th><th>bill_depth_mm</th><th>flipper_length_mm</th><th>body_mass_g</th><th>sex</th><th>year</th><th>size</th></tr><tr><td>str</td><td>str</td><td>f64</td><td>f64</td><td>i64</td><td>i64</td><td>str</td><td>i64</td><td>str</td></tr></thead><tbody><tr><td>&quot;Adelie&quot;</td><td>&quot;Torgersen&quot;</td><td>39.1</td><td>18.7</td><td>181</td><td>3750</td><td>&quot;male&quot;</td><td>2007</td><td>&quot;Small&quot;</td></tr><tr><td>&quot;Adelie&quot;</td><td>&quot;Torgersen&quot;</td><td>39.5</td><td>17.4</td><td>186</td><td>3800</td><td>&quot;female&quot;</td><td>2007</td><td>&quot;Small&quot;</td></tr><tr><td>&quot;Adelie&quot;</td><td>&quot;Torgersen&quot;</td><td>40.3</td><td>18.0</td><td>195</td><td>3250</td><td>&quot;female&quot;</td><td>2007</td><td>&quot;Small&quot;</td></tr><tr><td>&quot;Adelie&quot;</td><td>&quot;Torgersen&quot;</td><td>null</td><td>null</td><td>null</td><td>null</td><td>null</td><td>2007</td><td>&quot;Small&quot;</td></tr><tr><td>&quot;Adelie&quot;</td><td>&quot;Torgersen&quot;</td><td>36.7</td><td>19.3</td><td>193</td><td>3450</td><td>&quot;female&quot;</td><td>2007</td><td>&quot;Small&quot;</td></tr></tbody></table></div>"
      ],
      "text/plain": [
       "shape: (5, 9)\n",
       "┌─────────┬───────────┬────────────────┬───────────────┬───┬─────────────┬────────┬──────┬───────┐\n",
       "│ species ┆ island    ┆ bill_length_mm ┆ bill_depth_mm ┆ … ┆ body_mass_g ┆ sex    ┆ year ┆ size  │\n",
       "│ ---     ┆ ---       ┆ ---            ┆ ---           ┆   ┆ ---         ┆ ---    ┆ ---  ┆ ---   │\n",
       "│ str     ┆ str       ┆ f64            ┆ f64           ┆   ┆ i64         ┆ str    ┆ i64  ┆ str   │\n",
       "╞═════════╪═══════════╪════════════════╪═══════════════╪═══╪═════════════╪════════╪══════╪═══════╡\n",
       "│ Adelie  ┆ Torgersen ┆ 39.1           ┆ 18.7          ┆ … ┆ 3750        ┆ male   ┆ 2007 ┆ Small │\n",
       "│ Adelie  ┆ Torgersen ┆ 39.5           ┆ 17.4          ┆ … ┆ 3800        ┆ female ┆ 2007 ┆ Small │\n",
       "│ Adelie  ┆ Torgersen ┆ 40.3           ┆ 18.0          ┆ … ┆ 3250        ┆ female ┆ 2007 ┆ Small │\n",
       "│ Adelie  ┆ Torgersen ┆ null           ┆ null          ┆ … ┆ null        ┆ null   ┆ 2007 ┆ Small │\n",
       "│ Adelie  ┆ Torgersen ┆ 36.7           ┆ 19.3          ┆ … ┆ 3450        ┆ female ┆ 2007 ┆ Small │\n",
       "└─────────┴───────────┴────────────────┴───────────────┴───┴─────────────┴────────┴──────┴───────┘"
      ]
     },
     "execution_count": 34,
     "metadata": {},
     "output_type": "execute_result"
    }
   ],
   "source": [
    "(penguins\n",
    " .with_columns(\n",
    "     pl.when((pl.col(\"species\") == \"Adelie\") & pl.col(\"body_mass_g\") > 4000)\n",
    "       .then(pl.lit(\"Large\"))\n",
    "       .otherwise(pl.lit(\"Small\"))\n",
    "       .alias(\"size\")\n",
    " )\n",
    " .head()\n",
    ")"
   ]
  },
  {
   "cell_type": "markdown",
   "metadata": {},
   "source": [
    "Multiple `when` can be concatenated. For example to classify the `size` as large if:\n",
    "\n",
    "+ **Large** if species is Adelie  and body mass is larger than 4000\n",
    "  \n",
    "+ **Medium**  if species is Adelie  and body mass is between 3000 and 4000\n",
    "\n",
    "+ **Small**  if species is Adelie  and body mass is lower than 3000\n",
    "  \n",
    "+ **Unclassified** if species is not Adelie"
   ]
  },
  {
   "cell_type": "code",
   "execution_count": 35,
   "metadata": {},
   "outputs": [
    {
     "data": {
      "text/html": [
       "<div><style>\n",
       ".dataframe > thead > tr > th,\n",
       ".dataframe > tbody > tr > td {\n",
       "  text-align: right;\n",
       "}\n",
       "</style>\n",
       "<small>shape: (5, 9)</small><table border=\"1\" class=\"dataframe\"><thead><tr><th>species</th><th>island</th><th>bill_length_mm</th><th>bill_depth_mm</th><th>flipper_length_mm</th><th>body_mass_g</th><th>sex</th><th>year</th><th>size</th></tr><tr><td>str</td><td>str</td><td>f64</td><td>f64</td><td>i64</td><td>i64</td><td>str</td><td>i64</td><td>str</td></tr></thead><tbody><tr><td>&quot;Adelie&quot;</td><td>&quot;Torgersen&quot;</td><td>39.1</td><td>18.7</td><td>181</td><td>3750</td><td>&quot;male&quot;</td><td>2007</td><td>&quot;Medium&quot;</td></tr><tr><td>&quot;Adelie&quot;</td><td>&quot;Torgersen&quot;</td><td>39.5</td><td>17.4</td><td>186</td><td>3800</td><td>&quot;female&quot;</td><td>2007</td><td>&quot;Medium&quot;</td></tr><tr><td>&quot;Adelie&quot;</td><td>&quot;Torgersen&quot;</td><td>40.3</td><td>18.0</td><td>195</td><td>3250</td><td>&quot;female&quot;</td><td>2007</td><td>&quot;Medium&quot;</td></tr><tr><td>&quot;Adelie&quot;</td><td>&quot;Torgersen&quot;</td><td>null</td><td>null</td><td>null</td><td>null</td><td>null</td><td>2007</td><td>&quot;Unclassified&quot;</td></tr><tr><td>&quot;Adelie&quot;</td><td>&quot;Torgersen&quot;</td><td>36.7</td><td>19.3</td><td>193</td><td>3450</td><td>&quot;female&quot;</td><td>2007</td><td>&quot;Medium&quot;</td></tr></tbody></table></div>"
      ],
      "text/plain": [
       "shape: (5, 9)\n",
       "┌─────────┬───────────┬──────────────┬─────────────┬───┬─────────────┬────────┬──────┬─────────────┐\n",
       "│ species ┆ island    ┆ bill_length_ ┆ bill_depth_ ┆ … ┆ body_mass_g ┆ sex    ┆ year ┆ size        │\n",
       "│ ---     ┆ ---       ┆ mm           ┆ mm          ┆   ┆ ---         ┆ ---    ┆ ---  ┆ ---         │\n",
       "│ str     ┆ str       ┆ ---          ┆ ---         ┆   ┆ i64         ┆ str    ┆ i64  ┆ str         │\n",
       "│         ┆           ┆ f64          ┆ f64         ┆   ┆             ┆        ┆      ┆             │\n",
       "╞═════════╪═══════════╪══════════════╪═════════════╪═══╪═════════════╪════════╪══════╪═════════════╡\n",
       "│ Adelie  ┆ Torgersen ┆ 39.1         ┆ 18.7        ┆ … ┆ 3750        ┆ male   ┆ 2007 ┆ Medium      │\n",
       "│ Adelie  ┆ Torgersen ┆ 39.5         ┆ 17.4        ┆ … ┆ 3800        ┆ female ┆ 2007 ┆ Medium      │\n",
       "│ Adelie  ┆ Torgersen ┆ 40.3         ┆ 18.0        ┆ … ┆ 3250        ┆ female ┆ 2007 ┆ Medium      │\n",
       "│ Adelie  ┆ Torgersen ┆ null         ┆ null        ┆ … ┆ null        ┆ null   ┆ 2007 ┆ Unclassifie │\n",
       "│         ┆           ┆              ┆             ┆   ┆             ┆        ┆      ┆ d           │\n",
       "│ Adelie  ┆ Torgersen ┆ 36.7         ┆ 19.3        ┆ … ┆ 3450        ┆ female ┆ 2007 ┆ Medium      │\n",
       "└─────────┴───────────┴──────────────┴─────────────┴───┴─────────────┴────────┴──────┴─────────────┘"
      ]
     },
     "execution_count": 35,
     "metadata": {},
     "output_type": "execute_result"
    }
   ],
   "source": [
    "(penguins\n",
    " .with_columns(\n",
    "     pl.when((pl.col(\"species\") == \"Adelie\") & (pl.col(\"body_mass_g\") > 4000))\n",
    "       .then(pl.lit(\"Large\"))\n",
    "       .when((pl.col(\"species\") == \"Adelie\") & (pl.col(\"body_mass_g\") >= 3000) & (pl.col(\"body_mass_g\") <= 4000))\n",
    "       .then(pl.lit(\"Medium\"))\n",
    "       .when((pl.col(\"species\") == \"Adelie\") & (pl.col(\"body_mass_g\") < 3000))\n",
    "       .then(pl.lit(\"Small\"))\n",
    "       .otherwise(pl.lit(\"Unclassified\"))\n",
    "       .alias(\"size\")\n",
    " )\n",
    " .head()\n",
    ")"
   ]
  },
  {
   "cell_type": "markdown",
   "metadata": {},
   "source": [
    "### `rename`\n",
    "\n",
    "To rename a column the `rename` function has got your back. You just have to state the `old_name: new_name`\n",
    "\n",
    "![`rename` changes the name of a column](df_images/rename.svg){width=75%}"
   ]
  },
  {
   "cell_type": "code",
   "execution_count": 36,
   "metadata": {},
   "outputs": [
    {
     "data": {
      "text/html": [
       "<div><style>\n",
       ".dataframe > thead > tr > th,\n",
       ".dataframe > tbody > tr > td {\n",
       "  text-align: right;\n",
       "}\n",
       "</style>\n",
       "<small>shape: (5, 8)</small><table border=\"1\" class=\"dataframe\"><thead><tr><th>species</th><th>island</th><th>length_of_the_beak</th><th>depth_of_the_beak</th><th>flipper_length_mm</th><th>body_mass_g</th><th>sex</th><th>year</th></tr><tr><td>str</td><td>str</td><td>f64</td><td>f64</td><td>i64</td><td>i64</td><td>str</td><td>i64</td></tr></thead><tbody><tr><td>&quot;Adelie&quot;</td><td>&quot;Torgersen&quot;</td><td>39.1</td><td>18.7</td><td>181</td><td>3750</td><td>&quot;male&quot;</td><td>2007</td></tr><tr><td>&quot;Adelie&quot;</td><td>&quot;Torgersen&quot;</td><td>39.5</td><td>17.4</td><td>186</td><td>3800</td><td>&quot;female&quot;</td><td>2007</td></tr><tr><td>&quot;Adelie&quot;</td><td>&quot;Torgersen&quot;</td><td>40.3</td><td>18.0</td><td>195</td><td>3250</td><td>&quot;female&quot;</td><td>2007</td></tr><tr><td>&quot;Adelie&quot;</td><td>&quot;Torgersen&quot;</td><td>null</td><td>null</td><td>null</td><td>null</td><td>null</td><td>2007</td></tr><tr><td>&quot;Adelie&quot;</td><td>&quot;Torgersen&quot;</td><td>36.7</td><td>19.3</td><td>193</td><td>3450</td><td>&quot;female&quot;</td><td>2007</td></tr></tbody></table></div>"
      ],
      "text/plain": [
       "shape: (5, 8)\n",
       "┌─────────┬───────────┬───────────────┬───────────────┬──────────────┬─────────────┬────────┬──────┐\n",
       "│ species ┆ island    ┆ length_of_the ┆ depth_of_the_ ┆ flipper_leng ┆ body_mass_g ┆ sex    ┆ year │\n",
       "│ ---     ┆ ---       ┆ _beak         ┆ beak          ┆ th_mm        ┆ ---         ┆ ---    ┆ ---  │\n",
       "│ str     ┆ str       ┆ ---           ┆ ---           ┆ ---          ┆ i64         ┆ str    ┆ i64  │\n",
       "│         ┆           ┆ f64           ┆ f64           ┆ i64          ┆             ┆        ┆      │\n",
       "╞═════════╪═══════════╪═══════════════╪═══════════════╪══════════════╪═════════════╪════════╪══════╡\n",
       "│ Adelie  ┆ Torgersen ┆ 39.1          ┆ 18.7          ┆ 181          ┆ 3750        ┆ male   ┆ 2007 │\n",
       "│ Adelie  ┆ Torgersen ┆ 39.5          ┆ 17.4          ┆ 186          ┆ 3800        ┆ female ┆ 2007 │\n",
       "│ Adelie  ┆ Torgersen ┆ 40.3          ┆ 18.0          ┆ 195          ┆ 3250        ┆ female ┆ 2007 │\n",
       "│ Adelie  ┆ Torgersen ┆ null          ┆ null          ┆ null         ┆ null        ┆ null   ┆ 2007 │\n",
       "│ Adelie  ┆ Torgersen ┆ 36.7          ┆ 19.3          ┆ 193          ┆ 3450        ┆ female ┆ 2007 │\n",
       "└─────────┴───────────┴───────────────┴───────────────┴──────────────┴─────────────┴────────┴──────┘"
      ]
     },
     "execution_count": 36,
     "metadata": {},
     "output_type": "execute_result"
    }
   ],
   "source": [
    "(penguins\n",
    " .rename({\"bill_length_mm\": \"length_of_the_beak\", \"bill_depth_mm\": \"depth_of_the_beak\"})\n",
    " .head()\n",
    ")"
   ]
  },
  {
   "cell_type": "markdown",
   "metadata": {},
   "source": [
    "### Additional stuff: `max_horizontal`, `min_horizontal` and `cumsum_horizontal`\n",
    "\n",
    "These special functions get the maximum, minimum or cummulative sum across several columns. For example, consider the following `DataFrame`:"
   ]
  },
  {
   "cell_type": "code",
   "execution_count": 37,
   "metadata": {},
   "outputs": [
    {
     "data": {
      "text/html": [
       "<div><style>\n",
       ".dataframe > thead > tr > th,\n",
       ".dataframe > tbody > tr > td {\n",
       "  text-align: right;\n",
       "}\n",
       "</style>\n",
       "<small>shape: (3, 4)</small><table border=\"1\" class=\"dataframe\"><thead><tr><th>a</th><th>b</th><th>c</th><th>max</th></tr><tr><td>i64</td><td>i64</td><td>i64</td><td>i64</td></tr></thead><tbody><tr><td>1</td><td>4</td><td>1</td><td>4</td></tr><tr><td>8</td><td>5</td><td>1</td><td>8</td></tr><tr><td>3</td><td>null</td><td>1</td><td>3</td></tr></tbody></table></div>"
      ],
      "text/plain": [
       "shape: (3, 4)\n",
       "┌─────┬──────┬─────┬─────┐\n",
       "│ a   ┆ b    ┆ c   ┆ max │\n",
       "│ --- ┆ ---  ┆ --- ┆ --- │\n",
       "│ i64 ┆ i64  ┆ i64 ┆ i64 │\n",
       "╞═════╪══════╪═════╪═════╡\n",
       "│ 1   ┆ 4    ┆ 1   ┆ 4   │\n",
       "│ 8   ┆ 5    ┆ 1   ┆ 8   │\n",
       "│ 3   ┆ null ┆ 1   ┆ 3   │\n",
       "└─────┴──────┴─────┴─────┘"
      ]
     },
     "execution_count": 37,
     "metadata": {},
     "output_type": "execute_result"
    }
   ],
   "source": [
    "df = pl.DataFrame({\n",
    "    \"a\": [1, 8, 3],\n",
    "    \"b\": [4, 5, None],\n",
    "    \"c\": [1, 1, 1],\n",
    "    })\n",
    "df.with_columns(pl.max_horizontal(\"a\", \"b\"))"
   ]
  },
  {
   "cell_type": "markdown",
   "metadata": {},
   "source": [
    "### Passing arbitrary functions\n",
    "\n",
    "Arbitrary functions can be passed into the `with_columns`. One should avoid as much as possible passing arbitrary functions as rowwise functions are not optimized and thus kill polars parallelization (thus making it slower). "
   ]
  },
  {
   "cell_type": "code",
   "execution_count": 91,
   "metadata": {},
   "outputs": [
    {
     "name": "stderr",
     "output_type": "stream",
     "text": [
      "/var/folders/42/2kdf45dd1qz5n7kf9lm8ld9r0000gn/T/ipykernel_42184/3456260424.py:8: PolarsInefficientApplyWarning: \n",
      "Expr.apply is significantly slower than the native expressions API.\n",
      "Only use if you absolutely CANNOT implement your logic otherwise.\n",
      "In this case, you can replace your `apply` with the following:\n",
      "  - pl.col(\"bill_length_mm\").apply(slow_square)\n",
      "  + pl.col(\"bill_length_mm\") ** 2\n",
      "\n",
      "  pl.col(\"bill_length_mm\").apply(slow_square).alias(\"bill_length^2\")\n"
     ]
    },
    {
     "data": {
      "text/html": [
       "<div><style>\n",
       ".dataframe > thead > tr > th,\n",
       ".dataframe > tbody > tr > td {\n",
       "  text-align: right;\n",
       "}\n",
       "</style>\n",
       "<small>shape: (5, 9)</small><table border=\"1\" class=\"dataframe\"><thead><tr><th>species</th><th>island</th><th>bill_length_mm</th><th>bill_depth_mm</th><th>flipper_length_mm</th><th>body_mass_g</th><th>sex</th><th>year</th><th>bill_length^2</th></tr><tr><td>str</td><td>str</td><td>f64</td><td>f64</td><td>i64</td><td>i64</td><td>str</td><td>i64</td><td>f64</td></tr></thead><tbody><tr><td>&quot;Adelie&quot;</td><td>&quot;Torgersen&quot;</td><td>39.1</td><td>18.7</td><td>181</td><td>3750</td><td>&quot;male&quot;</td><td>2007</td><td>1528.81</td></tr><tr><td>&quot;Adelie&quot;</td><td>&quot;Torgersen&quot;</td><td>39.5</td><td>17.4</td><td>186</td><td>3800</td><td>&quot;female&quot;</td><td>2007</td><td>1560.25</td></tr><tr><td>&quot;Adelie&quot;</td><td>&quot;Torgersen&quot;</td><td>40.3</td><td>18.0</td><td>195</td><td>3250</td><td>&quot;female&quot;</td><td>2007</td><td>1624.09</td></tr><tr><td>&quot;Adelie&quot;</td><td>&quot;Torgersen&quot;</td><td>null</td><td>null</td><td>null</td><td>null</td><td>null</td><td>2007</td><td>null</td></tr><tr><td>&quot;Adelie&quot;</td><td>&quot;Torgersen&quot;</td><td>36.7</td><td>19.3</td><td>193</td><td>3450</td><td>&quot;female&quot;</td><td>2007</td><td>1346.89</td></tr></tbody></table></div>"
      ],
      "text/plain": [
       "shape: (5, 9)\n",
       "┌─────────┬───────────┬──────────────┬─────────────┬───┬─────────────┬────────┬──────┬─────────────┐\n",
       "│ species ┆ island    ┆ bill_length_ ┆ bill_depth_ ┆ … ┆ body_mass_g ┆ sex    ┆ year ┆ bill_length │\n",
       "│ ---     ┆ ---       ┆ mm           ┆ mm          ┆   ┆ ---         ┆ ---    ┆ ---  ┆ ^2          │\n",
       "│ str     ┆ str       ┆ ---          ┆ ---         ┆   ┆ i64         ┆ str    ┆ i64  ┆ ---         │\n",
       "│         ┆           ┆ f64          ┆ f64         ┆   ┆             ┆        ┆      ┆ f64         │\n",
       "╞═════════╪═══════════╪══════════════╪═════════════╪═══╪═════════════╪════════╪══════╪═════════════╡\n",
       "│ Adelie  ┆ Torgersen ┆ 39.1         ┆ 18.7        ┆ … ┆ 3750        ┆ male   ┆ 2007 ┆ 1528.81     │\n",
       "│ Adelie  ┆ Torgersen ┆ 39.5         ┆ 17.4        ┆ … ┆ 3800        ┆ female ┆ 2007 ┆ 1560.25     │\n",
       "│ Adelie  ┆ Torgersen ┆ 40.3         ┆ 18.0        ┆ … ┆ 3250        ┆ female ┆ 2007 ┆ 1624.09     │\n",
       "│ Adelie  ┆ Torgersen ┆ null         ┆ null        ┆ … ┆ null        ┆ null   ┆ 2007 ┆ null        │\n",
       "│ Adelie  ┆ Torgersen ┆ 36.7         ┆ 19.3        ┆ … ┆ 3450        ┆ female ┆ 2007 ┆ 1346.89     │\n",
       "└─────────┴───────────┴──────────────┴─────────────┴───┴─────────────┴────────┴──────┴─────────────┘"
      ]
     },
     "execution_count": 91,
     "metadata": {},
     "output_type": "execute_result"
    }
   ],
   "source": [
    "#Function calculates x^2\n",
    "def slow_square(x):\n",
    "    return x**2\n",
    "\n",
    "#This calculates the squared of the bill_length _slowly_\n",
    "(penguins\n",
    " .with_columns(\n",
    "     pl.col(\"bill_length_mm\").apply(slow_square).alias(\"bill_length^2\")\n",
    " )\n",
    " .head()\n",
    ")"
   ]
  },
  {
   "cell_type": "markdown",
   "metadata": {},
   "source": [
    "### Exercise\n",
    "\n",
    "1. Create a new column with `body_mass` in pounds.\n",
    "   \n",
    "2. Create a new column that assigns the coordinates for each of the islands:\n",
    "\n",
    "| Island | Coordinates |\n",
    "|--------|-------------|\n",
    "| Biscoe | 65°26′S 65°30′W |\n",
    "| Dream | 64°44′S 64°14′W |\n",
    "| Torgersen | 64°46′S 64°5′W |\n",
    "\n",
    "3. **Biscoe** island actually represents an archipelago. Rename the `island` column to `region` instead to better capture this nuance. "
   ]
  },
  {
   "cell_type": "markdown",
   "metadata": {},
   "source": [
    "## How to aggregate columns\n",
    "\n",
    "All datasets can be aggregated with the describe function which counts the number of null observations and obtains some summary statistics"
   ]
  },
  {
   "cell_type": "code",
   "execution_count": 38,
   "metadata": {},
   "outputs": [
    {
     "data": {
      "text/html": [
       "<div><style>\n",
       ".dataframe > thead > tr > th,\n",
       ".dataframe > tbody > tr > td {\n",
       "  text-align: right;\n",
       "}\n",
       "</style>\n",
       "<small>shape: (9, 9)</small><table border=\"1\" class=\"dataframe\"><thead><tr><th>describe</th><th>species</th><th>island</th><th>bill_length_mm</th><th>bill_depth_mm</th><th>flipper_length_mm</th><th>body_mass_g</th><th>sex</th><th>year</th></tr><tr><td>str</td><td>str</td><td>str</td><td>f64</td><td>f64</td><td>f64</td><td>f64</td><td>str</td><td>f64</td></tr></thead><tbody><tr><td>&quot;count&quot;</td><td>&quot;344&quot;</td><td>&quot;344&quot;</td><td>344.0</td><td>344.0</td><td>344.0</td><td>344.0</td><td>&quot;344&quot;</td><td>344.0</td></tr><tr><td>&quot;null_count&quot;</td><td>&quot;0&quot;</td><td>&quot;0&quot;</td><td>2.0</td><td>2.0</td><td>2.0</td><td>2.0</td><td>&quot;11&quot;</td><td>0.0</td></tr><tr><td>&quot;mean&quot;</td><td>null</td><td>null</td><td>43.92193</td><td>17.15117</td><td>200.915205</td><td>4201.754386</td><td>null</td><td>2008.02907</td></tr><tr><td>&quot;std&quot;</td><td>null</td><td>null</td><td>5.459584</td><td>1.974793</td><td>14.061714</td><td>801.954536</td><td>null</td><td>0.818356</td></tr><tr><td>&quot;min&quot;</td><td>&quot;Adelie&quot;</td><td>&quot;Biscoe&quot;</td><td>32.1</td><td>13.1</td><td>172.0</td><td>2700.0</td><td>&quot;female&quot;</td><td>2007.0</td></tr><tr><td>&quot;max&quot;</td><td>&quot;Gentoo&quot;</td><td>&quot;Torgersen&quot;</td><td>59.6</td><td>21.5</td><td>231.0</td><td>6300.0</td><td>&quot;male&quot;</td><td>2009.0</td></tr><tr><td>&quot;median&quot;</td><td>null</td><td>null</td><td>44.45</td><td>17.3</td><td>197.0</td><td>4050.0</td><td>null</td><td>2008.0</td></tr><tr><td>&quot;25%&quot;</td><td>null</td><td>null</td><td>39.2</td><td>15.6</td><td>190.0</td><td>3550.0</td><td>null</td><td>2007.0</td></tr><tr><td>&quot;75%&quot;</td><td>null</td><td>null</td><td>48.5</td><td>18.7</td><td>213.0</td><td>4750.0</td><td>null</td><td>2009.0</td></tr></tbody></table></div>"
      ],
      "text/plain": [
       "shape: (9, 9)\n",
       "┌────────────┬─────────┬───────────┬────────────┬───┬────────────┬────────────┬────────┬───────────┐\n",
       "│ describe   ┆ species ┆ island    ┆ bill_lengt ┆ … ┆ flipper_le ┆ body_mass_ ┆ sex    ┆ year      │\n",
       "│ ---        ┆ ---     ┆ ---       ┆ h_mm       ┆   ┆ ngth_mm    ┆ g          ┆ ---    ┆ ---       │\n",
       "│ str        ┆ str     ┆ str       ┆ ---        ┆   ┆ ---        ┆ ---        ┆ str    ┆ f64       │\n",
       "│            ┆         ┆           ┆ f64        ┆   ┆ f64        ┆ f64        ┆        ┆           │\n",
       "╞════════════╪═════════╪═══════════╪════════════╪═══╪════════════╪════════════╪════════╪═══════════╡\n",
       "│ count      ┆ 344     ┆ 344       ┆ 344.0      ┆ … ┆ 344.0      ┆ 344.0      ┆ 344    ┆ 344.0     │\n",
       "│ null_count ┆ 0       ┆ 0         ┆ 2.0        ┆ … ┆ 2.0        ┆ 2.0        ┆ 11     ┆ 0.0       │\n",
       "│ mean       ┆ null    ┆ null      ┆ 43.92193   ┆ … ┆ 200.915205 ┆ 4201.75438 ┆ null   ┆ 2008.0290 │\n",
       "│            ┆         ┆           ┆            ┆   ┆            ┆ 6          ┆        ┆ 7         │\n",
       "│ std        ┆ null    ┆ null      ┆ 5.459584   ┆ … ┆ 14.061714  ┆ 801.954536 ┆ null   ┆ 0.818356  │\n",
       "│ min        ┆ Adelie  ┆ Biscoe    ┆ 32.1       ┆ … ┆ 172.0      ┆ 2700.0     ┆ female ┆ 2007.0    │\n",
       "│ max        ┆ Gentoo  ┆ Torgersen ┆ 59.6       ┆ … ┆ 231.0      ┆ 6300.0     ┆ male   ┆ 2009.0    │\n",
       "│ median     ┆ null    ┆ null      ┆ 44.45      ┆ … ┆ 197.0      ┆ 4050.0     ┆ null   ┆ 2008.0    │\n",
       "│ 25%        ┆ null    ┆ null      ┆ 39.2       ┆ … ┆ 190.0      ┆ 3550.0     ┆ null   ┆ 2007.0    │\n",
       "│ 75%        ┆ null    ┆ null      ┆ 48.5       ┆ … ┆ 213.0      ┆ 4750.0     ┆ null   ┆ 2009.0    │\n",
       "└────────────┴─────────┴───────────┴────────────┴───┴────────────┴────────────┴────────┴───────────┘"
      ]
     },
     "execution_count": 38,
     "metadata": {},
     "output_type": "execute_result"
    }
   ],
   "source": [
    "penguins.describe()"
   ]
  },
  {
   "cell_type": "markdown",
   "metadata": {},
   "source": [
    "Each of these statistics corresponds to a function applied to the columns. We can replicate this by using aggregation functions: "
   ]
  },
  {
   "cell_type": "markdown",
   "metadata": {},
   "source": [
    "### Aggregation functions\n",
    "\n",
    "![`Aggregation functions` apply a function $\\mathbb{R}^n\\to \\mathbb{R}$ which collapses all column elements into a single number](df_images/aggregate.svg){width=35%}\n",
    "\n",
    "The [aggregation functions](https://pola-rs.github.io/polars/py-polars/html/reference/dataframe/aggregation.html) apply a function to summarize column values. Basically it applies a function to the whole column and returns one value (for example the mean). This is different from the `with_columns` as the latter applies a function $\\mathbb{R}\\to\\mathbb{R}$ that returns a value for each element in the column. Meanwhile, aggregation functions collapse all columns into a value"
   ]
  },
  {
   "cell_type": "code",
   "execution_count": 49,
   "metadata": {},
   "outputs": [
    {
     "data": {
      "text/html": [
       "<div><style>\n",
       ".dataframe > thead > tr > th,\n",
       ".dataframe > tbody > tr > td {\n",
       "  text-align: right;\n",
       "}\n",
       "</style>\n",
       "<small>shape: (1, 1)</small><table border=\"1\" class=\"dataframe\"><thead><tr><th>bill_length_mm</th></tr><tr><td>f64</td></tr></thead><tbody><tr><td>43.92193</td></tr></tbody></table></div>"
      ],
      "text/plain": [
       "shape: (1, 1)\n",
       "┌────────────────┐\n",
       "│ bill_length_mm │\n",
       "│ ---            │\n",
       "│ f64            │\n",
       "╞════════════════╡\n",
       "│ 43.92193       │\n",
       "└────────────────┘"
      ]
     },
     "execution_count": 49,
     "metadata": {},
     "output_type": "execute_result"
    }
   ],
   "source": [
    "(penguins\n",
    " .select(\"bill_length_mm\")\n",
    " .mean() #Aggregation function of mean\n",
    ")"
   ]
  },
  {
   "cell_type": "code",
   "execution_count": 51,
   "metadata": {},
   "outputs": [
    {
     "data": {
      "text/html": [
       "<div><style>\n",
       ".dataframe > thead > tr > th,\n",
       ".dataframe > tbody > tr > td {\n",
       "  text-align: right;\n",
       "}\n",
       "</style>\n",
       "<small>shape: (1, 3)</small><table border=\"1\" class=\"dataframe\"><thead><tr><th>bill_length_mm</th><th>bill_depth_mm</th><th>flipper_length_mm</th></tr><tr><td>f64</td><td>f64</td><td>f64</td></tr></thead><tbody><tr><td>5.459584</td><td>1.974793</td><td>14.061714</td></tr></tbody></table></div>"
      ],
      "text/plain": [
       "shape: (1, 3)\n",
       "┌────────────────┬───────────────┬───────────────────┐\n",
       "│ bill_length_mm ┆ bill_depth_mm ┆ flipper_length_mm │\n",
       "│ ---            ┆ ---           ┆ ---               │\n",
       "│ f64            ┆ f64           ┆ f64               │\n",
       "╞════════════════╪═══════════════╪═══════════════════╡\n",
       "│ 5.459584       ┆ 1.974793      ┆ 14.061714         │\n",
       "└────────────────┴───────────────┴───────────────────┘"
      ]
     },
     "execution_count": 51,
     "metadata": {},
     "output_type": "execute_result"
    }
   ],
   "source": [
    "(penguins\n",
    " .select(cs.ends_with(\"mm\"))\n",
    " .std() #Aggregation function of standard deviation\n",
    ")"
   ]
  },
  {
   "cell_type": "code",
   "execution_count": 52,
   "metadata": {},
   "outputs": [
    {
     "data": {
      "text/html": [
       "<div><style>\n",
       ".dataframe > thead > tr > th,\n",
       ".dataframe > tbody > tr > td {\n",
       "  text-align: right;\n",
       "}\n",
       "</style>\n",
       "<small>shape: (1, 2)</small><table border=\"1\" class=\"dataframe\"><thead><tr><th>bill_length_mm</th><th>bill_depth_mm</th></tr><tr><td>f64</td><td>f64</td></tr></thead><tbody><tr><td>36.6</td><td>14.3</td></tr></tbody></table></div>"
      ],
      "text/plain": [
       "shape: (1, 2)\n",
       "┌────────────────┬───────────────┐\n",
       "│ bill_length_mm ┆ bill_depth_mm │\n",
       "│ ---            ┆ ---           │\n",
       "│ f64            ┆ f64           │\n",
       "╞════════════════╪═══════════════╡\n",
       "│ 36.6           ┆ 14.3          │\n",
       "└────────────────┴───────────────┘"
      ]
     },
     "execution_count": 52,
     "metadata": {},
     "output_type": "execute_result"
    }
   ],
   "source": [
    "(penguins\n",
    " .select(cs.starts_with(\"bill\"))\n",
    " .quantile(0.1) #Aggregation function of quantile 0.1\n",
    ")"
   ]
  },
  {
   "cell_type": "markdown",
   "metadata": {},
   "source": [
    "### Grouping\n",
    "\n",
    "![`groupby` creates a context so that we can aggregate by another column](df_images/groupby.svg){width=35%}\n",
    "\n",
    "Grouping is one of the most important concepts in data analysis. It allows us to perform an operation on a column based upon the values of another column. For example, one can obtain the mean body mass by sex:"
   ]
  },
  {
   "cell_type": "code",
   "execution_count": 56,
   "metadata": {},
   "outputs": [
    {
     "data": {
      "text/html": [
       "<div><style>\n",
       ".dataframe > thead > tr > th,\n",
       ".dataframe > tbody > tr > td {\n",
       "  text-align: right;\n",
       "}\n",
       "</style>\n",
       "<small>shape: (3, 2)</small><table border=\"1\" class=\"dataframe\"><thead><tr><th>sex</th><th>body_mass_g</th></tr><tr><td>str</td><td>f64</td></tr></thead><tbody><tr><td>&quot;female&quot;</td><td>3862.272727</td></tr><tr><td>&quot;male&quot;</td><td>4545.684524</td></tr><tr><td>null</td><td>4005.555556</td></tr></tbody></table></div>"
      ],
      "text/plain": [
       "shape: (3, 2)\n",
       "┌────────┬─────────────┐\n",
       "│ sex    ┆ body_mass_g │\n",
       "│ ---    ┆ ---         │\n",
       "│ str    ┆ f64         │\n",
       "╞════════╪═════════════╡\n",
       "│ female ┆ 3862.272727 │\n",
       "│ male   ┆ 4545.684524 │\n",
       "│ null   ┆ 4005.555556 │\n",
       "└────────┴─────────────┘"
      ]
     },
     "execution_count": 56,
     "metadata": {},
     "output_type": "execute_result"
    }
   ],
   "source": [
    "(penguins\n",
    " .groupby(\"sex\")\n",
    " .agg(\n",
    "     pl.col(\"body_mass_g\").mean()\n",
    "))"
   ]
  },
  {
   "cell_type": "markdown",
   "metadata": {},
   "source": [
    "Grouping supports multiple variables and multiple aggregations via `agg`"
   ]
  },
  {
   "cell_type": "code",
   "execution_count": 60,
   "metadata": {},
   "outputs": [
    {
     "data": {
      "text/html": [
       "<div><style>\n",
       ".dataframe > thead > tr > th,\n",
       ".dataframe > tbody > tr > td {\n",
       "  text-align: right;\n",
       "}\n",
       "</style>\n",
       "<small>shape: (8, 4)</small><table border=\"1\" class=\"dataframe\"><thead><tr><th>sex</th><th>species</th><th>average</th><th>standard deviation</th></tr><tr><td>str</td><td>str</td><td>f64</td><td>f64</td></tr></thead><tbody><tr><td>&quot;female&quot;</td><td>&quot;Adelie&quot;</td><td>3368.835616</td><td>269.380102</td></tr><tr><td>&quot;male&quot;</td><td>&quot;Gentoo&quot;</td><td>5484.836066</td><td>313.158596</td></tr><tr><td>null</td><td>&quot;Adelie&quot;</td><td>3540.0</td><td>477.166114</td></tr><tr><td>&quot;female&quot;</td><td>&quot;Chinstrap&quot;</td><td>3527.205882</td><td>285.333912</td></tr><tr><td>&quot;male&quot;</td><td>&quot;Adelie&quot;</td><td>4043.493151</td><td>346.811553</td></tr><tr><td>&quot;female&quot;</td><td>&quot;Gentoo&quot;</td><td>4679.741379</td><td>281.578294</td></tr><tr><td>&quot;male&quot;</td><td>&quot;Chinstrap&quot;</td><td>3938.970588</td><td>362.13755</td></tr><tr><td>null</td><td>&quot;Gentoo&quot;</td><td>4587.5</td><td>338.193731</td></tr></tbody></table></div>"
      ],
      "text/plain": [
       "shape: (8, 4)\n",
       "┌────────┬───────────┬─────────────┬────────────────────┐\n",
       "│ sex    ┆ species   ┆ average     ┆ standard deviation │\n",
       "│ ---    ┆ ---       ┆ ---         ┆ ---                │\n",
       "│ str    ┆ str       ┆ f64         ┆ f64                │\n",
       "╞════════╪═══════════╪═════════════╪════════════════════╡\n",
       "│ female ┆ Adelie    ┆ 3368.835616 ┆ 269.380102         │\n",
       "│ male   ┆ Gentoo    ┆ 5484.836066 ┆ 313.158596         │\n",
       "│ null   ┆ Adelie    ┆ 3540.0      ┆ 477.166114         │\n",
       "│ female ┆ Chinstrap ┆ 3527.205882 ┆ 285.333912         │\n",
       "│ male   ┆ Adelie    ┆ 4043.493151 ┆ 346.811553         │\n",
       "│ female ┆ Gentoo    ┆ 4679.741379 ┆ 281.578294         │\n",
       "│ male   ┆ Chinstrap ┆ 3938.970588 ┆ 362.13755          │\n",
       "│ null   ┆ Gentoo    ┆ 4587.5      ┆ 338.193731         │\n",
       "└────────┴───────────┴─────────────┴────────────────────┘"
      ]
     },
     "execution_count": 60,
     "metadata": {},
     "output_type": "execute_result"
    }
   ],
   "source": [
    "(penguins\n",
    " .groupby([\"sex\",\"species\"])\n",
    " .agg(\n",
    "     pl.col(\"body_mass_g\").mean().alias(\"average\"),\n",
    "     pl.col(\"body_mass_g\").std().alias(\"standard deviation\")\n",
    "))"
   ]
  },
  {
   "cell_type": "markdown",
   "metadata": {},
   "source": [
    "For discrete variables such as `sex` and `species` aggregators also exist such as `count`:"
   ]
  },
  {
   "cell_type": "code",
   "execution_count": 64,
   "metadata": {},
   "outputs": [
    {
     "data": {
      "text/html": [
       "<div><style>\n",
       ".dataframe > thead > tr > th,\n",
       ".dataframe > tbody > tr > td {\n",
       "  text-align: right;\n",
       "}\n",
       "</style>\n",
       "<small>shape: (8, 3)</small><table border=\"1\" class=\"dataframe\"><thead><tr><th>sex</th><th>species</th><th>count</th></tr><tr><td>str</td><td>str</td><td>u32</td></tr></thead><tbody><tr><td>&quot;male&quot;</td><td>&quot;Gentoo&quot;</td><td>61</td></tr><tr><td>&quot;male&quot;</td><td>&quot;Chinstrap&quot;</td><td>34</td></tr><tr><td>&quot;male&quot;</td><td>&quot;Adelie&quot;</td><td>73</td></tr><tr><td>&quot;female&quot;</td><td>&quot;Gentoo&quot;</td><td>58</td></tr><tr><td>&quot;female&quot;</td><td>&quot;Chinstrap&quot;</td><td>34</td></tr><tr><td>null</td><td>&quot;Adelie&quot;</td><td>6</td></tr><tr><td>&quot;female&quot;</td><td>&quot;Adelie&quot;</td><td>73</td></tr><tr><td>null</td><td>&quot;Gentoo&quot;</td><td>5</td></tr></tbody></table></div>"
      ],
      "text/plain": [
       "shape: (8, 3)\n",
       "┌────────┬───────────┬───────┐\n",
       "│ sex    ┆ species   ┆ count │\n",
       "│ ---    ┆ ---       ┆ ---   │\n",
       "│ str    ┆ str       ┆ u32   │\n",
       "╞════════╪═══════════╪═══════╡\n",
       "│ male   ┆ Gentoo    ┆ 61    │\n",
       "│ male   ┆ Chinstrap ┆ 34    │\n",
       "│ male   ┆ Adelie    ┆ 73    │\n",
       "│ female ┆ Gentoo    ┆ 58    │\n",
       "│ female ┆ Chinstrap ┆ 34    │\n",
       "│ null   ┆ Adelie    ┆ 6     │\n",
       "│ female ┆ Adelie    ┆ 73    │\n",
       "│ null   ┆ Gentoo    ┆ 5     │\n",
       "└────────┴───────────┴───────┘"
      ]
     },
     "execution_count": 64,
     "metadata": {},
     "output_type": "execute_result"
    }
   ],
   "source": [
    "(penguins\n",
    " .groupby([\"sex\",\"species\"])\n",
    " .agg(\n",
    "     pl.count() #Count number of observations\n",
    " ))"
   ]
  },
  {
   "cell_type": "markdown",
   "metadata": {},
   "source": [
    "Multiple of the commands we know can be combined as in the following example which calculates the proportion of females per species"
   ]
  },
  {
   "cell_type": "code",
   "execution_count": 75,
   "metadata": {},
   "outputs": [
    {
     "data": {
      "text/html": [
       "<div><style>\n",
       ".dataframe > thead > tr > th,\n",
       ".dataframe > tbody > tr > td {\n",
       "  text-align: right;\n",
       "}\n",
       "</style>\n",
       "<small>shape: (3, 3)</small><table border=\"1\" class=\"dataframe\"><thead><tr><th>sex</th><th>species</th><th>count</th></tr><tr><td>str</td><td>str</td><td>f64</td></tr></thead><tbody><tr><td>&quot;female&quot;</td><td>&quot;Adelie&quot;</td><td>0.212209</td></tr><tr><td>&quot;female&quot;</td><td>&quot;Gentoo&quot;</td><td>0.168605</td></tr><tr><td>&quot;female&quot;</td><td>&quot;Chinstrap&quot;</td><td>0.098837</td></tr></tbody></table></div>"
      ],
      "text/plain": [
       "shape: (3, 3)\n",
       "┌────────┬───────────┬──────────┐\n",
       "│ sex    ┆ species   ┆ count    │\n",
       "│ ---    ┆ ---       ┆ ---      │\n",
       "│ str    ┆ str       ┆ f64      │\n",
       "╞════════╪═══════════╪══════════╡\n",
       "│ female ┆ Adelie    ┆ 0.212209 │\n",
       "│ female ┆ Gentoo    ┆ 0.168605 │\n",
       "│ female ┆ Chinstrap ┆ 0.098837 │\n",
       "└────────┴───────────┴──────────┘"
      ]
     },
     "execution_count": 75,
     "metadata": {},
     "output_type": "execute_result"
    }
   ],
   "source": [
    "(penguins\n",
    " .groupby([\"sex\",\"species\"])\n",
    " .agg(\n",
    "     pl.count() #Count number of observations\n",
    " )\n",
    " .with_columns(\n",
    "     pl.col(\"count\")/pl.col(\"count\").sum()\n",
    " )\n",
    " .filter(pl.col(\"sex\") == \"female\")\n",
    ")"
   ]
  },
  {
   "cell_type": "markdown",
   "metadata": {},
   "source": [
    "### `unique` values\n",
    "\n",
    "![`unique` returns distinct observations](df_images/unique.svg){width=35%}\n",
    "\n",
    "An array of unique values for a column or `DataFrame` can be obtained via `unique`:"
   ]
  },
  {
   "cell_type": "code",
   "execution_count": 83,
   "metadata": {},
   "outputs": [
    {
     "data": {
      "text/html": [
       "<div><style>\n",
       ".dataframe > thead > tr > th,\n",
       ".dataframe > tbody > tr > td {\n",
       "  text-align: right;\n",
       "}\n",
       "</style>\n",
       "<small>shape: (3, 1)</small><table border=\"1\" class=\"dataframe\"><thead><tr><th>species</th></tr><tr><td>str</td></tr></thead><tbody><tr><td>&quot;Adelie&quot;</td></tr><tr><td>&quot;Chinstrap&quot;</td></tr><tr><td>&quot;Gentoo&quot;</td></tr></tbody></table></div>"
      ],
      "text/plain": [
       "shape: (3, 1)\n",
       "┌───────────┐\n",
       "│ species   │\n",
       "│ ---       │\n",
       "│ str       │\n",
       "╞═══════════╡\n",
       "│ Adelie    │\n",
       "│ Chinstrap │\n",
       "│ Gentoo    │\n",
       "└───────────┘"
      ]
     },
     "execution_count": 83,
     "metadata": {},
     "output_type": "execute_result"
    }
   ],
   "source": [
    "(penguins\n",
    " .select(\"species\")\n",
    " .unique()\n",
    ")"
   ]
  },
  {
   "cell_type": "markdown",
   "metadata": {},
   "source": [
    "### Exercise\n",
    "\n",
    "1. What's the average bill_length of the penguins by island?\n",
    "2. Is there an island where the distribution of `males` and `females` differs across species?\n",
    "3. What's the maximum weight reported by a penguin and to which species does it belong?"
   ]
  },
  {
   "cell_type": "markdown",
   "metadata": {},
   "source": [
    "## Timeseries specific functionality\n",
    "In this section we'll discuss rolling functions, lagging, datetimes and durations. For that purpose we'll use the `covidmx.parquet` file. "
   ]
  },
  {
   "cell_type": "code",
   "execution_count": 102,
   "metadata": {},
   "outputs": [],
   "source": [
    "covidmx = pl.read_parquet(\"covidmx.parquet\")"
   ]
  },
  {
   "cell_type": "code",
   "execution_count": 93,
   "metadata": {},
   "outputs": [
    {
     "name": "stdout",
     "output_type": "stream",
     "text": [
      "Rows: 20172065\n",
      "Columns: 40\n",
      "$ FECHA_ACTUALIZACION   <str> 2023-08-08, 2023-08-08, 2023-08-08, 2023-08-08, 2023-08-08, 2023-08-08, 2023-08-08, 2023-08-08, 2023-08-08, 2023-08-08\n",
      "$ ID_REGISTRO           <str> 0ed066, accf18, 65b38d, a9c809, 5db8d9, 8004ba, 7ced56, e19494, 80989f, e9cf4c\n",
      "$ ORIGEN                <str> 2, 2, 2, 2, 1, 1, 2, 1, 2, 2\n",
      "$ SECTOR                <str> 12, 12, 12, 12, 12, 12, 12, 12, 12, 12\n",
      "$ ENTIDAD_UM            <str> 16, 07, 09, 03, 19, 19, 09, 19, 07, 11\n",
      "$ SEXO                  <str> 2, 2, 2, 2, 2, 1, 2, 2, 1, 2\n",
      "$ ENTIDAD_NAC           <str> 16, 07, 09, 03, 19, 19, 08, 28, 07, 11\n",
      "$ ENTIDAD_RES           <str> 16, 07, 09, 03, 19, 19, 09, 19, 07, 11\n",
      "$ MUNICIPIO_RES         <str> 041, 078, 009, 003, 046, 006, 009, 025, 078, 031\n",
      "$ TIPO_PACIENTE         <str> 1, 1, 1, 1, 1, 2, 1, 1, 1, 1\n",
      "$ FECHA_INGRESO         <str> 2023-03-09, 2023-01-19, 2023-03-09, 2023-03-14, 2023-01-01, 2023-01-01, 2023-03-04, 2023-04-15, 2023-01-19, 2023-03-28\n",
      "$ FECHA_SINTOMAS        <str> 2023-03-06, 2023-01-15, 2023-03-07, 2023-03-10, 2023-01-01, 2023-01-01, 2023-03-01, 2023-04-15, 2023-01-14, 2023-03-24\n",
      "$ FECHA_DEF             <str> 9999-99-99, 9999-99-99, 9999-99-99, 9999-99-99, 9999-99-99, 9999-99-99, 9999-99-99, 9999-99-99, 9999-99-99, 9999-99-99\n",
      "$ INTUBADO              <str> 97, 97, 97, 97, 97, 2, 97, 97, 97, 97\n",
      "$ NEUMONIA              <str> 2, 2, 2, 2, 2, 2, 2, 2, 2, 2\n",
      "$ EDAD                  <str> 28, 20, 26, 47, 39, 2, 14, 51, 43, 64\n",
      "$ NACIONALIDAD          <str> 1, 1, 1, 1, 1, 1, 1, 1, 1, 1\n",
      "$ EMBARAZO              <str> 97, 97, 97, 97, 97, 2, 97, 97, 2, 97\n",
      "$ HABLA_LENGUA_INDIG    <str> 2, 2, 2, 2, 2, 2, 2, 2, 2, 2\n",
      "$ INDIGENA              <str> 2, 2, 2, 2, 2, 2, 2, 2, 2, 2\n",
      "$ DIABETES              <str> 2, 2, 2, 2, 2, 2, 2, 2, 2, 2\n",
      "$ EPOC                  <str> 2, 2, 2, 2, 2, 2, 2, 2, 2, 2\n",
      "$ ASMA                  <str> 2, 2, 2, 2, 2, 2, 2, 2, 2, 2\n",
      "$ INMUSUPR              <str> 2, 2, 2, 2, 2, 2, 2, 2, 2, 2\n",
      "$ HIPERTENSION          <str> 2, 2, 2, 2, 2, 2, 2, 2, 2, 2\n",
      "$ OTRA_COM              <str> 2, 2, 2, 2, 2, 2, 2, 2, 2, 2\n",
      "$ CARDIOVASCULAR        <str> 2, 2, 2, 2, 2, 2, 2, 2, 2, 2\n",
      "$ OBESIDAD              <str> 2, 2, 2, 2, 2, 2, 2, 2, 2, 2\n",
      "$ RENAL_CRONICA         <str> 2, 2, 2, 2, 2, 2, 2, 2, 2, 2\n",
      "$ TABAQUISMO            <str> 1, 2, 2, 2, 2, 2, 2, 2, 2, 2\n",
      "$ OTRO_CASO             <str> 2, 2, 1, 2, 2, 2, 2, 2, 2, 2\n",
      "$ TOMA_MUESTRA_LAB      <str> 2, 2, 2, 2, 2, 2, 2, 2, 2, 1\n",
      "$ RESULTADO_LAB         <str> 97, 97, 97, 97, 97, 97, 97, 97, 97, 2\n",
      "$ TOMA_MUESTRA_ANTIGENO <str> 1, 1, 1, 1, 2, 2, 1, 2, 2, 1\n",
      "$ RESULTADO_ANTIGENO    <str> 2, 1, 2, 2, 97, 97, 2, 97, 97, 2\n",
      "$ CLASIFICACION_FINAL   <str> 7, 3, 7, 7, 6, 6, 7, 6, 6, 7\n",
      "$ MIGRANTE              <str> 99, 99, 99, 99, 99, 99, 99, 99, 99, 99\n",
      "$ PAIS_NACIONALIDAD     <str> México, México, México, México, México, México, México, México, México, México\n",
      "$ PAIS_ORIGEN           <str> 97, 97, 97, 97, 97, 97, 97, 97, 97, 97\n",
      "$ UCI                   <str> 97, 97, 97, 97, 97, 2, 97, 97, 97, 97\n",
      "\n"
     ]
    }
   ],
   "source": [
    "covidmx.glimpse() #This thing is huge!"
   ]
  },
  {
   "cell_type": "markdown",
   "metadata": {},
   "source": [
    "There are a lot of variables here. However, we'll just keep the following: \n",
    "\n",
    "+ **FECHA_INGRESO**: Database registry date (date when the case was registered in the database)\n",
    "  \n",
    "+ **EDAD**: Age in years of the person\n",
    "  \n",
    "+ **TIPO_PACIENTE** Type of patient 1 = outpatient, 2 = hospitalized\n",
    "  \n",
    "+ **FECHA_SINTOMAS** Date of symptom onset of the patient\n",
    "  \n",
    "+ **FECHA_DEF** Date of patient's death (9999-99-99 if the person is alive)\n",
    "\n",
    "We start by keeping only these columns and renaming them:\n"
   ]
  },
  {
   "cell_type": "code",
   "execution_count": 103,
   "metadata": {},
   "outputs": [],
   "source": [
    "covidmx = (covidmx\n",
    "           .select(pl.col(\"FECHA_INGRESO\",\"EDAD\",\"TIPO_PACIENTE\",\"FECHA_SINTOMAS\",\"FECHA_DEF\"))\n",
    "           .rename({\"FECHA_INGRESO\": \"DATE_OF_REGISTRY\", \n",
    "                    \"EDAD\": \"AGE\",\n",
    "                    \"TIPO_PACIENTE\": \"PATIENT_TYPE\",\n",
    "                    \"FECHA_SINTOMAS\": \"DATE_OF_SYMPTOM_ONSET\",\n",
    "                    \"FECHA_DEF\": \"DATE_OF_DEATH\"}))"
   ]
  },
  {
   "cell_type": "code",
   "execution_count": 98,
   "metadata": {},
   "outputs": [
    {
     "data": {
      "text/html": [
       "<div><style>\n",
       ".dataframe > thead > tr > th,\n",
       ".dataframe > tbody > tr > td {\n",
       "  text-align: right;\n",
       "}\n",
       "</style>\n",
       "<small>shape: (5, 5)</small><table border=\"1\" class=\"dataframe\"><thead><tr><th>DATE_OF_REGISTRY</th><th>AGE</th><th>PATIENT_TYPE</th><th>DATE_OF_SYMPTOM_ONSET</th><th>DATE_OF_DEATH</th></tr><tr><td>str</td><td>str</td><td>str</td><td>str</td><td>str</td></tr></thead><tbody><tr><td>&quot;2023-03-09&quot;</td><td>&quot;28&quot;</td><td>&quot;1&quot;</td><td>&quot;2023-03-06&quot;</td><td>&quot;9999-99-99&quot;</td></tr><tr><td>&quot;2023-01-19&quot;</td><td>&quot;20&quot;</td><td>&quot;1&quot;</td><td>&quot;2023-01-15&quot;</td><td>&quot;9999-99-99&quot;</td></tr><tr><td>&quot;2023-03-09&quot;</td><td>&quot;26&quot;</td><td>&quot;1&quot;</td><td>&quot;2023-03-07&quot;</td><td>&quot;9999-99-99&quot;</td></tr><tr><td>&quot;2023-03-14&quot;</td><td>&quot;47&quot;</td><td>&quot;1&quot;</td><td>&quot;2023-03-10&quot;</td><td>&quot;9999-99-99&quot;</td></tr><tr><td>&quot;2023-01-01&quot;</td><td>&quot;39&quot;</td><td>&quot;1&quot;</td><td>&quot;2023-01-01&quot;</td><td>&quot;9999-99-99&quot;</td></tr></tbody></table></div>"
      ],
      "text/plain": [
       "shape: (5, 5)\n",
       "┌──────────────────┬─────┬──────────────┬───────────────────────┬───────────────┐\n",
       "│ DATE_OF_REGISTRY ┆ AGE ┆ PATIENT_TYPE ┆ DATE_OF_SYMPTOM_ONSET ┆ DATE_OF_DEATH │\n",
       "│ ---              ┆ --- ┆ ---          ┆ ---                   ┆ ---           │\n",
       "│ str              ┆ str ┆ str          ┆ str                   ┆ str           │\n",
       "╞══════════════════╪═════╪══════════════╪═══════════════════════╪═══════════════╡\n",
       "│ 2023-03-09       ┆ 28  ┆ 1            ┆ 2023-03-06            ┆ 9999-99-99    │\n",
       "│ 2023-01-19       ┆ 20  ┆ 1            ┆ 2023-01-15            ┆ 9999-99-99    │\n",
       "│ 2023-03-09       ┆ 26  ┆ 1            ┆ 2023-03-07            ┆ 9999-99-99    │\n",
       "│ 2023-03-14       ┆ 47  ┆ 1            ┆ 2023-03-10            ┆ 9999-99-99    │\n",
       "│ 2023-01-01       ┆ 39  ┆ 1            ┆ 2023-01-01            ┆ 9999-99-99    │\n",
       "└──────────────────┴─────┴──────────────┴───────────────────────┴───────────────┘"
      ]
     },
     "execution_count": 98,
     "metadata": {},
     "output_type": "execute_result"
    }
   ],
   "source": [
    "covidmx.head()"
   ]
  },
  {
   "cell_type": "markdown",
   "metadata": {},
   "source": [
    "## Casting\n",
    "\n",
    "Notice that in the previous dataset `AGE` was read as a string (`str`) and the dates of registry, symptom onset and death were also read as strings. We can change them to integer (`AGE`) and dates (all other) via casting. "
   ]
  },
  {
   "cell_type": "code",
   "execution_count": 104,
   "metadata": {},
   "outputs": [
    {
     "data": {
      "text/html": [
       "<div><style>\n",
       ".dataframe > thead > tr > th,\n",
       ".dataframe > tbody > tr > td {\n",
       "  text-align: right;\n",
       "}\n",
       "</style>\n",
       "<small>shape: (5, 5)</small><table border=\"1\" class=\"dataframe\"><thead><tr><th>DATE_OF_REGISTRY</th><th>AGE</th><th>PATIENT_TYPE</th><th>DATE_OF_SYMPTOM_ONSET</th><th>DATE_OF_DEATH</th></tr><tr><td>str</td><td>i64</td><td>str</td><td>str</td><td>str</td></tr></thead><tbody><tr><td>&quot;2023-03-09&quot;</td><td>28</td><td>&quot;1&quot;</td><td>&quot;2023-03-06&quot;</td><td>&quot;9999-99-99&quot;</td></tr><tr><td>&quot;2023-01-19&quot;</td><td>20</td><td>&quot;1&quot;</td><td>&quot;2023-01-15&quot;</td><td>&quot;9999-99-99&quot;</td></tr><tr><td>&quot;2023-03-09&quot;</td><td>26</td><td>&quot;1&quot;</td><td>&quot;2023-03-07&quot;</td><td>&quot;9999-99-99&quot;</td></tr><tr><td>&quot;2023-03-14&quot;</td><td>47</td><td>&quot;1&quot;</td><td>&quot;2023-03-10&quot;</td><td>&quot;9999-99-99&quot;</td></tr><tr><td>&quot;2023-01-01&quot;</td><td>39</td><td>&quot;1&quot;</td><td>&quot;2023-01-01&quot;</td><td>&quot;9999-99-99&quot;</td></tr></tbody></table></div>"
      ],
      "text/plain": [
       "shape: (5, 5)\n",
       "┌──────────────────┬─────┬──────────────┬───────────────────────┬───────────────┐\n",
       "│ DATE_OF_REGISTRY ┆ AGE ┆ PATIENT_TYPE ┆ DATE_OF_SYMPTOM_ONSET ┆ DATE_OF_DEATH │\n",
       "│ ---              ┆ --- ┆ ---          ┆ ---                   ┆ ---           │\n",
       "│ str              ┆ i64 ┆ str          ┆ str                   ┆ str           │\n",
       "╞══════════════════╪═════╪══════════════╪═══════════════════════╪═══════════════╡\n",
       "│ 2023-03-09       ┆ 28  ┆ 1            ┆ 2023-03-06            ┆ 9999-99-99    │\n",
       "│ 2023-01-19       ┆ 20  ┆ 1            ┆ 2023-01-15            ┆ 9999-99-99    │\n",
       "│ 2023-03-09       ┆ 26  ┆ 1            ┆ 2023-03-07            ┆ 9999-99-99    │\n",
       "│ 2023-03-14       ┆ 47  ┆ 1            ┆ 2023-03-10            ┆ 9999-99-99    │\n",
       "│ 2023-01-01       ┆ 39  ┆ 1            ┆ 2023-01-01            ┆ 9999-99-99    │\n",
       "└──────────────────┴─────┴──────────────┴───────────────────────┴───────────────┘"
      ]
     },
     "execution_count": 104,
     "metadata": {},
     "output_type": "execute_result"
    }
   ],
   "source": [
    "#Transform age to an integer\n",
    "covidmx = (covidmx\n",
    "           .with_columns(\n",
    "               pl.col(\"AGE\").cast(pl.Int64)\n",
    "           ))\n",
    "covidmx.head()"
   ]
  },
  {
   "cell_type": "markdown",
   "metadata": {},
   "source": [
    "Dates can also be casted by specifying the format. In this case they are year, month, day:"
   ]
  },
  {
   "cell_type": "code",
   "execution_count": 111,
   "metadata": {},
   "outputs": [
    {
     "data": {
      "text/html": [
       "<div><style>\n",
       ".dataframe > thead > tr > th,\n",
       ".dataframe > tbody > tr > td {\n",
       "  text-align: right;\n",
       "}\n",
       "</style>\n",
       "<small>shape: (5, 5)</small><table border=\"1\" class=\"dataframe\"><thead><tr><th>DATE_OF_REGISTRY</th><th>AGE</th><th>PATIENT_TYPE</th><th>DATE_OF_SYMPTOM_ONSET</th><th>DATE_OF_DEATH</th></tr><tr><td>datetime[μs]</td><td>i64</td><td>str</td><td>datetime[μs]</td><td>datetime[μs]</td></tr></thead><tbody><tr><td>2023-03-09 00:00:00</td><td>28</td><td>&quot;1&quot;</td><td>2023-03-06 00:00:00</td><td>null</td></tr><tr><td>2023-01-19 00:00:00</td><td>20</td><td>&quot;1&quot;</td><td>2023-01-15 00:00:00</td><td>null</td></tr><tr><td>2023-03-09 00:00:00</td><td>26</td><td>&quot;1&quot;</td><td>2023-03-07 00:00:00</td><td>null</td></tr><tr><td>2023-03-14 00:00:00</td><td>47</td><td>&quot;1&quot;</td><td>2023-03-10 00:00:00</td><td>null</td></tr><tr><td>2023-01-01 00:00:00</td><td>39</td><td>&quot;1&quot;</td><td>2023-01-01 00:00:00</td><td>null</td></tr></tbody></table></div>"
      ],
      "text/plain": [
       "shape: (5, 5)\n",
       "┌─────────────────────┬─────┬──────────────┬───────────────────────┬───────────────┐\n",
       "│ DATE_OF_REGISTRY    ┆ AGE ┆ PATIENT_TYPE ┆ DATE_OF_SYMPTOM_ONSET ┆ DATE_OF_DEATH │\n",
       "│ ---                 ┆ --- ┆ ---          ┆ ---                   ┆ ---           │\n",
       "│ datetime[μs]        ┆ i64 ┆ str          ┆ datetime[μs]          ┆ datetime[μs]  │\n",
       "╞═════════════════════╪═════╪══════════════╪═══════════════════════╪═══════════════╡\n",
       "│ 2023-03-09 00:00:00 ┆ 28  ┆ 1            ┆ 2023-03-06 00:00:00   ┆ null          │\n",
       "│ 2023-01-19 00:00:00 ┆ 20  ┆ 1            ┆ 2023-01-15 00:00:00   ┆ null          │\n",
       "│ 2023-03-09 00:00:00 ┆ 26  ┆ 1            ┆ 2023-03-07 00:00:00   ┆ null          │\n",
       "│ 2023-03-14 00:00:00 ┆ 47  ┆ 1            ┆ 2023-03-10 00:00:00   ┆ null          │\n",
       "│ 2023-01-01 00:00:00 ┆ 39  ┆ 1            ┆ 2023-01-01 00:00:00   ┆ null          │\n",
       "└─────────────────────┴─────┴──────────────┴───────────────────────┴───────────────┘"
      ]
     },
     "execution_count": 111,
     "metadata": {},
     "output_type": "execute_result"
    }
   ],
   "source": [
    "covidmx = (covidmx\n",
    " .with_columns(\n",
    "   cs.starts_with(\"DATE\").str.strptime(pl.Datetime, \"%Y-%m-%d\", strict=False)\n",
    "))\n",
    "\n",
    "covidmx.head()"
   ]
  },
  {
   "cell_type": "markdown",
   "metadata": {},
   "source": [
    "To calculate the difference between the date of symptom onset and the registry we create a new variable of type `duration`:"
   ]
  },
  {
   "cell_type": "code",
   "execution_count": 114,
   "metadata": {},
   "outputs": [
    {
     "data": {
      "text/html": [
       "<div><style>\n",
       ".dataframe > thead > tr > th,\n",
       ".dataframe > tbody > tr > td {\n",
       "  text-align: right;\n",
       "}\n",
       "</style>\n",
       "<small>shape: (5, 6)</small><table border=\"1\" class=\"dataframe\"><thead><tr><th>DATE_OF_REGISTRY</th><th>AGE</th><th>PATIENT_TYPE</th><th>DATE_OF_SYMPTOM_ONSET</th><th>DATE_OF_DEATH</th><th>TIME_TILL_REGISTRY</th></tr><tr><td>datetime[μs]</td><td>i64</td><td>str</td><td>datetime[μs]</td><td>datetime[μs]</td><td>duration[μs]</td></tr></thead><tbody><tr><td>2023-03-09 00:00:00</td><td>28</td><td>&quot;1&quot;</td><td>2023-03-06 00:00:00</td><td>null</td><td>3d</td></tr><tr><td>2023-01-19 00:00:00</td><td>20</td><td>&quot;1&quot;</td><td>2023-01-15 00:00:00</td><td>null</td><td>4d</td></tr><tr><td>2023-03-09 00:00:00</td><td>26</td><td>&quot;1&quot;</td><td>2023-03-07 00:00:00</td><td>null</td><td>2d</td></tr><tr><td>2023-03-14 00:00:00</td><td>47</td><td>&quot;1&quot;</td><td>2023-03-10 00:00:00</td><td>null</td><td>4d</td></tr><tr><td>2023-01-01 00:00:00</td><td>39</td><td>&quot;1&quot;</td><td>2023-01-01 00:00:00</td><td>null</td><td>0µs</td></tr></tbody></table></div>"
      ],
      "text/plain": [
       "shape: (5, 6)\n",
       "┌────────────────────┬─────┬──────────────┬────────────────────┬───────────────┬───────────────────┐\n",
       "│ DATE_OF_REGISTRY   ┆ AGE ┆ PATIENT_TYPE ┆ DATE_OF_SYMPTOM_ON ┆ DATE_OF_DEATH ┆ TIME_TILL_REGISTR │\n",
       "│ ---                ┆ --- ┆ ---          ┆ SET                ┆ ---           ┆ Y                 │\n",
       "│ datetime[μs]       ┆ i64 ┆ str          ┆ ---                ┆ datetime[μs]  ┆ ---               │\n",
       "│                    ┆     ┆              ┆ datetime[μs]       ┆               ┆ duration[μs]      │\n",
       "╞════════════════════╪═════╪══════════════╪════════════════════╪═══════════════╪═══════════════════╡\n",
       "│ 2023-03-09         ┆ 28  ┆ 1            ┆ 2023-03-06         ┆ null          ┆ 3d                │\n",
       "│ 00:00:00           ┆     ┆              ┆ 00:00:00           ┆               ┆                   │\n",
       "│ 2023-01-19         ┆ 20  ┆ 1            ┆ 2023-01-15         ┆ null          ┆ 4d                │\n",
       "│ 00:00:00           ┆     ┆              ┆ 00:00:00           ┆               ┆                   │\n",
       "│ 2023-03-09         ┆ 26  ┆ 1            ┆ 2023-03-07         ┆ null          ┆ 2d                │\n",
       "│ 00:00:00           ┆     ┆              ┆ 00:00:00           ┆               ┆                   │\n",
       "│ 2023-03-14         ┆ 47  ┆ 1            ┆ 2023-03-10         ┆ null          ┆ 4d                │\n",
       "│ 00:00:00           ┆     ┆              ┆ 00:00:00           ┆               ┆                   │\n",
       "│ 2023-01-01         ┆ 39  ┆ 1            ┆ 2023-01-01         ┆ null          ┆ 0µs               │\n",
       "│ 00:00:00           ┆     ┆              ┆ 00:00:00           ┆               ┆                   │\n",
       "└────────────────────┴─────┴──────────────┴────────────────────┴───────────────┴───────────────────┘"
      ]
     },
     "execution_count": 114,
     "metadata": {},
     "output_type": "execute_result"
    }
   ],
   "source": [
    "covidmx = (covidmx\n",
    " .with_columns(\n",
    "   (pl.col(\"DATE_OF_REGISTRY\") - pl.col(\"DATE_OF_SYMPTOM_ONSET\")).alias(\"TIME_TILL_REGISTRY\")\n",
    "))\n",
    "\n",
    "covidmx.head()"
   ]
  },
  {
   "cell_type": "markdown",
   "metadata": {},
   "source": [
    "This variable assigns its own time (notice the miliseconds and the day scales) but can be casted into an integer giving the number of days"
   ]
  },
  {
   "cell_type": "code",
   "execution_count": 115,
   "metadata": {},
   "outputs": [],
   "source": [
    "covidmx = (covidmx\n",
    " .with_columns(\n",
    "   pl.col(\"TIME_TILL_REGISTRY\").dt.days() #Get days as integer\n",
    "))\n",
    "\n",
    "covidmx.head()"
   ]
  },
  {
   "cell_type": "markdown",
   "metadata": {},
   "source": [
    "## Rolling functions\n",
    "Let's aggregate the patients by counting the number of patients per date of registry so that we get the number of cases per day"
   ]
  },
  {
   "cell_type": "code",
   "execution_count": 118,
   "metadata": {},
   "outputs": [],
   "source": [
    "covidmx = (covidmx\n",
    " .groupby(\"DATE_OF_SYMPTOM_ONSET\")\n",
    " .agg(pl.count())\n",
    ")"
   ]
  },
  {
   "cell_type": "markdown",
   "metadata": {},
   "source": [
    "A quick look at the data reveals a lot of noise:"
   ]
  },
  {
   "cell_type": "code",
   "execution_count": 124,
   "metadata": {},
   "outputs": [
    {
     "data": {
      "text/plain": [
       "<Axes: xlabel='DATE_OF_SYMPTOM_ONSET', ylabel='count'>"
      ]
     },
     "execution_count": 124,
     "metadata": {},
     "output_type": "execute_result"
    },
    {
     "data": {
      "image/png": "[encoded data removed]",
      "text/plain": [
       "<Figure size 640x480 with 1 Axes>"
      ]
     },
     "metadata": {},
     "output_type": "display_data"
    }
   ],
   "source": [
    "import seaborn as sns\n",
    "sns.lineplot(x = \"DATE_OF_SYMPTOM_ONSET\", y = \"count\", data = covidmx.to_pandas())"
   ]
  },
  {
   "cell_type": "markdown",
   "metadata": {},
   "source": [
    "Plotting the rolling mean (i.e. the number of cases at day _k_ is estimated as the average of the days from _k - m/2_ to _k + m/2_"
   ]
  },
  {
   "cell_type": "code",
   "execution_count": 127,
   "metadata": {},
   "outputs": [],
   "source": [
    "covidmx = (covidmx\n",
    "           .sort(\"DATE_OF_SYMPTOM_ONSET\") #First arrange by date\n",
    "           .with_columns(\n",
    "               pl.col(\"count\").rolling_mean(window_size=7).alias(\"smoothed_count\"),\n",
    "            ))"
   ]
  },
  {
   "cell_type": "code",
   "execution_count": 128,
   "metadata": {},
   "outputs": [
    {
     "data": {
      "text/plain": [
       "<Axes: xlabel='DATE_OF_SYMPTOM_ONSET', ylabel='smoothed_count'>"
      ]
     },
     "execution_count": 128,
     "metadata": {},
     "output_type": "execute_result"
    },
    {
     "data": {
      "image/png": "[encoded data removed]",
      "text/plain": [
       "<Figure size 640x480 with 1 Axes>"
      ]
     },
     "metadata": {},
     "output_type": "display_data"
    }
   ],
   "source": [
    "sns.lineplot(x = \"DATE_OF_SYMPTOM_ONSET\", y = \"smoothed_count\", data = covidmx.to_pandas())"
   ]
  },
  {
   "cell_type": "markdown",
   "metadata": {},
   "source": [
    "Another useful grouping mechanism is the `groupby_dynamic` which allows to group by `week`, `year` or other time range from a date. For example, to get all cases in a year we can do the following:"
   ]
  },
  {
   "cell_type": "code",
   "execution_count": 129,
   "metadata": {},
   "outputs": [
    {
     "data": {
      "text/html": [
       "<div><style>\n",
       ".dataframe > thead > tr > th,\n",
       ".dataframe > tbody > tr > td {\n",
       "  text-align: right;\n",
       "}\n",
       "</style>\n",
       "<small>shape: (4, 2)</small><table border=\"1\" class=\"dataframe\"><thead><tr><th>DATE_OF_SYMPTOM_ONSET</th><th>count</th></tr><tr><td>datetime[μs]</td><td>u32</td></tr></thead><tbody><tr><td>2020-01-01 00:00:00</td><td>3868396</td></tr><tr><td>2021-01-01 00:00:00</td><td>8830345</td></tr><tr><td>2022-01-01 00:00:00</td><td>6451944</td></tr><tr><td>2023-01-01 00:00:00</td><td>1021380</td></tr></tbody></table></div>"
      ],
      "text/plain": [
       "shape: (4, 2)\n",
       "┌───────────────────────┬─────────┐\n",
       "│ DATE_OF_SYMPTOM_ONSET ┆ count   │\n",
       "│ ---                   ┆ ---     │\n",
       "│ datetime[μs]          ┆ u32     │\n",
       "╞═══════════════════════╪═════════╡\n",
       "│ 2020-01-01 00:00:00   ┆ 3868396 │\n",
       "│ 2021-01-01 00:00:00   ┆ 8830345 │\n",
       "│ 2022-01-01 00:00:00   ┆ 6451944 │\n",
       "│ 2023-01-01 00:00:00   ┆ 1021380 │\n",
       "└───────────────────────┴─────────┘"
      ]
     },
     "execution_count": 129,
     "metadata": {},
     "output_type": "execute_result"
    }
   ],
   "source": [
    "(covidmx\n",
    " .groupby_dynamic(\"DATE_OF_SYMPTOM_ONSET\", every=\"1y\")\n",
    " .agg(pl.col(\"count\").sum())\n",
    ")"
   ]
  },
  {
   "cell_type": "markdown",
   "metadata": {},
   "source": [
    "### Writing\n",
    "Once we are done with our data we can save the dataset in `parquet` format which can be read in most programs. "
   ]
  },
  {
   "cell_type": "code",
   "execution_count": null,
   "metadata": {},
   "outputs": [],
   "source": [
    "covidmx.write_parquet(\"covid_updated.parquet\")"
   ]
  },
  {
   "cell_type": "markdown",
   "metadata": {},
   "source": [
    "### Exercise\n",
    "\n",
    "1. The variable `SEXO` encodes `sex` with `1= Male` and `2 = Female`. Use this to decide whether males or females die more (proportionally) of COVID (`CLASIFICACION_FINAL = 5`).\n",
    "   \n",
    "2. A common prediction benchmark is to use the mean of the previous period to predict the next one. Calculate the mean of the previous week and use it to predict the next week for all of the observed periods. Use the root mean squared error to estimate how good/bad is this model.\n",
    "   \n",
    "3. Does the day of the week seem to influence how much time it takes for an individual to be registered? "
   ]
  },
  {
   "cell_type": "markdown",
   "metadata": {},
   "source": [
    "## Where to go from here?"
   ]
  },
  {
   "cell_type": "markdown",
   "metadata": {},
   "source": [
    "The [Api reference](https://pola-rs.github.io/polars/py-polars/html/reference/expressions/index.html) is a great place to learn about more `polars` functions. That, accompanied with the [book](https://pola-rs.github.io/polars-book/) teaches you all of the `polars` basics you need. Note that this guide hasn't taught you all of polars' functions but the necessary to get started. \n",
    "\n",
    "If you still feel you need another guide, I recommend Matt Harrison's tutorial on polars to improve your knowledge\n",
    "\n",
    "<iframe width=\"560\" height=\"315\" src=\"https://www.youtube.com/embed/CJ0f45evuME\" title=\"YouTube video player\" frameborder=\"0\" allow=\"accelerometer; autoplay; clipboard-write; encrypted-media; gyroscope; picture-in-picture; web-share\" allowfullscreen></iframe>"
   ]
  },
  {
   "cell_type": "code",
   "execution_count": null,
   "metadata": {},
   "outputs": [],
   "source": []
  }
 ],
 "metadata": {
  "kernelspec": {
   "display_name": "Python 3 (ipykernel)",
   "language": "python",
   "name": "python3"
  },
  "language_info": {
   "codemirror_mode": {
    "name": "ipython",
    "version": 3
   },
   "file_extension": ".py",
   "mimetype": "text/x-python",
   "name": "python",
   "nbconvert_exporter": "python",
   "pygments_lexer": "ipython3",
   "version": "3.10.12"
  }
 },
 "nbformat": 4,
 "nbformat_minor": 4
}
